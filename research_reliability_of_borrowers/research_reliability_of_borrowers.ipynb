{
 "cells": [
  {
   "cell_type": "markdown",
   "metadata": {},
   "source": [
    "# Borrower reliability research\n",
    "\n",
    "To study whether the marital status and the number of children of the client affects the fact of repayment of the loan on time. The results of the analysis will be further used by the bank's credit department to build a credit scoring model."
   ]
  },
  {
   "cell_type": "markdown",
   "metadata": {},
   "source": [
    "### Description of attributes:\n",
    "\n",
    "- children - number of children in the family;\n",
    "- days_employed - total length of service in days;\n",
    "- dob_years - client's age in years;\n",
    "- education - education level of the client;\n",
    "- education_id - education level identifier;\n",
    "- family_status - family status;\n",
    "- family_status_id - family status identifier;\n",
    "- gender - client's gender;\n",
    "- income_type - type of employment;\n",
    "- debt - whether the client had debts on loan repayment;\n",
    "- total_income - monthly income;\n",
    "- purpose - purpose of obtaining a loan."
   ]
  },
  {
   "cell_type": "markdown",
   "metadata": {},
   "source": [
    "### Libraries and modules"
   ]
  },
  {
   "cell_type": "code",
   "execution_count": 1,
   "metadata": {
    "ExecuteTime": {
     "end_time": "2023-11-27T13:30:24.282298Z",
     "start_time": "2023-11-27T13:30:21.516791Z"
    }
   },
   "outputs": [],
   "source": [
    "import pandas as pd\n",
    "from pymystem3 import Mystem\n",
    "from collections import Counter"
   ]
  },
  {
   "cell_type": "markdown",
   "metadata": {},
   "source": [
    "### Contents\n",
    "\n",
    "1. Study of general information about the data\n",
    "2. Data preprocessing:\n",
    "    - Skip processing\n",
    "    - Data type replacement\n",
    "    - Duplicate processing\n",
    "    - Lemmatization\n",
    "    - Data categorization\n",
    "    - Additional data exploration\n",
    "3. Analytics:\n",
    "    - Is there a relationship between having children and loan repayment on time?\n",
    "    - Is there a correlation between marital status and loan repayment on time?\n",
    "    - Is there a relationship between income level and loan repayment on time?\n",
    "    - How do different loan purposes affect loan repayment on time?\n",
    "4. General conclusion"
   ]
  },
  {
   "cell_type": "markdown",
   "metadata": {},
   "source": [
    "## Study of general information about the data"
   ]
  },
  {
   "cell_type": "code",
   "execution_count": 2,
   "metadata": {
    "ExecuteTime": {
     "end_time": "2023-11-27T13:30:24.318989Z",
     "start_time": "2023-11-27T13:30:22.289042Z"
    }
   },
   "outputs": [
    {
     "name": "stdout",
     "output_type": "stream",
     "text": [
      "<class 'pandas.core.frame.DataFrame'>\n",
      "RangeIndex: 21525 entries, 0 to 21524\n",
      "Data columns (total 12 columns):\n",
      " #   Column            Non-Null Count  Dtype  \n",
      "---  ------            --------------  -----  \n",
      " 0   children          21525 non-null  int64  \n",
      " 1   days_employed     19351 non-null  float64\n",
      " 2   dob_years         21525 non-null  int64  \n",
      " 3   education         21525 non-null  object \n",
      " 4   education_id      21525 non-null  int64  \n",
      " 5   family_status     21525 non-null  object \n",
      " 6   family_status_id  21525 non-null  int64  \n",
      " 7   gender            21525 non-null  object \n",
      " 8   income_type       21525 non-null  object \n",
      " 9   debt              21525 non-null  int64  \n",
      " 10  total_income      19351 non-null  float64\n",
      " 11  purpose           21525 non-null  object \n",
      "dtypes: float64(2), int64(5), object(5)\n",
      "memory usage: 2.0+ MB\n"
     ]
    }
   ],
   "source": [
    "data = pd.read_csv('data.csv')\n",
    "data.info()"
   ]
  },
  {
   "cell_type": "code",
   "execution_count": 3,
   "metadata": {
    "ExecuteTime": {
     "end_time": "2023-11-27T13:30:24.330947Z",
     "start_time": "2023-11-27T13:30:22.541674Z"
    }
   },
   "outputs": [
    {
     "data": {
      "text/plain": "   children  days_employed  dob_years education  education_id  \\\n0         1   -8437.673028         42    высшее             0   \n1         1   -4024.803754         36   среднее             1   \n2         0   -5623.422610         33   Среднее             1   \n3         3   -4124.747207         32   среднее             1   \n4         0  340266.072047         53   среднее             1   \n5         0    -926.185831         27    высшее             0   \n6         0   -2879.202052         43    высшее             0   \n7         0    -152.779569         50   СРЕДНЕЕ             1   \n8         2   -6929.865299         35    ВЫСШЕЕ             0   \n9         0   -2188.756445         41   среднее             1   \n\n      family_status  family_status_id gender income_type  debt   total_income  \\\n0   женат / замужем                 0      F   сотрудник     0  253875.639453   \n1   женат / замужем                 0      F   сотрудник     0  112080.014102   \n2   женат / замужем                 0      M   сотрудник     0  145885.952297   \n3   женат / замужем                 0      M   сотрудник     0  267628.550329   \n4  гражданский брак                 1      F   пенсионер     0  158616.077870   \n5  гражданский брак                 1      M   компаньон     0  255763.565419   \n6   женат / замужем                 0      F   компаньон     0  240525.971920   \n7   женат / замужем                 0      M   сотрудник     0  135823.934197   \n8  гражданский брак                 1      F   сотрудник     0   95856.832424   \n9   женат / замужем                 0      M   сотрудник     0  144425.938277   \n\n                      purpose  \n0               покупка жилья  \n1     приобретение автомобиля  \n2               покупка жилья  \n3  дополнительное образование  \n4             сыграть свадьбу  \n5               покупка жилья  \n6           операции с жильем  \n7                 образование  \n8       на проведение свадьбы  \n9     покупка жилья для семьи  ",
      "text/html": "<div>\n<style scoped>\n    .dataframe tbody tr th:only-of-type {\n        vertical-align: middle;\n    }\n\n    .dataframe tbody tr th {\n        vertical-align: top;\n    }\n\n    .dataframe thead th {\n        text-align: right;\n    }\n</style>\n<table border=\"1\" class=\"dataframe\">\n  <thead>\n    <tr style=\"text-align: right;\">\n      <th></th>\n      <th>children</th>\n      <th>days_employed</th>\n      <th>dob_years</th>\n      <th>education</th>\n      <th>education_id</th>\n      <th>family_status</th>\n      <th>family_status_id</th>\n      <th>gender</th>\n      <th>income_type</th>\n      <th>debt</th>\n      <th>total_income</th>\n      <th>purpose</th>\n    </tr>\n  </thead>\n  <tbody>\n    <tr>\n      <th>0</th>\n      <td>1</td>\n      <td>-8437.673028</td>\n      <td>42</td>\n      <td>высшее</td>\n      <td>0</td>\n      <td>женат / замужем</td>\n      <td>0</td>\n      <td>F</td>\n      <td>сотрудник</td>\n      <td>0</td>\n      <td>253875.639453</td>\n      <td>покупка жилья</td>\n    </tr>\n    <tr>\n      <th>1</th>\n      <td>1</td>\n      <td>-4024.803754</td>\n      <td>36</td>\n      <td>среднее</td>\n      <td>1</td>\n      <td>женат / замужем</td>\n      <td>0</td>\n      <td>F</td>\n      <td>сотрудник</td>\n      <td>0</td>\n      <td>112080.014102</td>\n      <td>приобретение автомобиля</td>\n    </tr>\n    <tr>\n      <th>2</th>\n      <td>0</td>\n      <td>-5623.422610</td>\n      <td>33</td>\n      <td>Среднее</td>\n      <td>1</td>\n      <td>женат / замужем</td>\n      <td>0</td>\n      <td>M</td>\n      <td>сотрудник</td>\n      <td>0</td>\n      <td>145885.952297</td>\n      <td>покупка жилья</td>\n    </tr>\n    <tr>\n      <th>3</th>\n      <td>3</td>\n      <td>-4124.747207</td>\n      <td>32</td>\n      <td>среднее</td>\n      <td>1</td>\n      <td>женат / замужем</td>\n      <td>0</td>\n      <td>M</td>\n      <td>сотрудник</td>\n      <td>0</td>\n      <td>267628.550329</td>\n      <td>дополнительное образование</td>\n    </tr>\n    <tr>\n      <th>4</th>\n      <td>0</td>\n      <td>340266.072047</td>\n      <td>53</td>\n      <td>среднее</td>\n      <td>1</td>\n      <td>гражданский брак</td>\n      <td>1</td>\n      <td>F</td>\n      <td>пенсионер</td>\n      <td>0</td>\n      <td>158616.077870</td>\n      <td>сыграть свадьбу</td>\n    </tr>\n    <tr>\n      <th>5</th>\n      <td>0</td>\n      <td>-926.185831</td>\n      <td>27</td>\n      <td>высшее</td>\n      <td>0</td>\n      <td>гражданский брак</td>\n      <td>1</td>\n      <td>M</td>\n      <td>компаньон</td>\n      <td>0</td>\n      <td>255763.565419</td>\n      <td>покупка жилья</td>\n    </tr>\n    <tr>\n      <th>6</th>\n      <td>0</td>\n      <td>-2879.202052</td>\n      <td>43</td>\n      <td>высшее</td>\n      <td>0</td>\n      <td>женат / замужем</td>\n      <td>0</td>\n      <td>F</td>\n      <td>компаньон</td>\n      <td>0</td>\n      <td>240525.971920</td>\n      <td>операции с жильем</td>\n    </tr>\n    <tr>\n      <th>7</th>\n      <td>0</td>\n      <td>-152.779569</td>\n      <td>50</td>\n      <td>СРЕДНЕЕ</td>\n      <td>1</td>\n      <td>женат / замужем</td>\n      <td>0</td>\n      <td>M</td>\n      <td>сотрудник</td>\n      <td>0</td>\n      <td>135823.934197</td>\n      <td>образование</td>\n    </tr>\n    <tr>\n      <th>8</th>\n      <td>2</td>\n      <td>-6929.865299</td>\n      <td>35</td>\n      <td>ВЫСШЕЕ</td>\n      <td>0</td>\n      <td>гражданский брак</td>\n      <td>1</td>\n      <td>F</td>\n      <td>сотрудник</td>\n      <td>0</td>\n      <td>95856.832424</td>\n      <td>на проведение свадьбы</td>\n    </tr>\n    <tr>\n      <th>9</th>\n      <td>0</td>\n      <td>-2188.756445</td>\n      <td>41</td>\n      <td>среднее</td>\n      <td>1</td>\n      <td>женат / замужем</td>\n      <td>0</td>\n      <td>M</td>\n      <td>сотрудник</td>\n      <td>0</td>\n      <td>144425.938277</td>\n      <td>покупка жилья для семьи</td>\n    </tr>\n  </tbody>\n</table>\n</div>"
     },
     "execution_count": 3,
     "metadata": {},
     "output_type": "execute_result"
    }
   ],
   "source": [
    "data.head(10)"
   ]
  },
  {
   "cell_type": "markdown",
   "metadata": {},
   "source": [
    "#### Conclusion"
   ]
  },
  {
   "cell_type": "markdown",
   "metadata": {},
   "source": [
    "In the general information of this table we can see that there are columns with omissions (days_employed, total_income), as 19351 values in them are filled in while the other columns are 21525. It is also interesting that the days_employed column contains negative values."
   ]
  },
  {
   "cell_type": "markdown",
   "metadata": {},
   "source": [
    "## Data preprocessing"
   ]
  },
  {
   "cell_type": "markdown",
   "metadata": {},
   "source": [
    "### Processing of passed values"
   ]
  },
  {
   "cell_type": "markdown",
   "metadata": {},
   "source": [
    "Gaps may occur due to technical reasons or human error."
   ]
  },
  {
   "cell_type": "markdown",
   "metadata": {},
   "source": [
    "Gaps are divided into three types:\n",
    "- completely random - skips whose probability of occurrence does not depend on other values in the data set\n",
    "- random - skips, the probability of occurrence of which depends on other values in the data set\n",
    "- non-random - skips, the probability of occurrence of which depends on other values and on the value of its own column."
   ]
  },
  {
   "cell_type": "code",
   "execution_count": 4,
   "metadata": {
    "ExecuteTime": {
     "end_time": "2023-11-27T13:30:24.332937Z",
     "start_time": "2023-11-27T13:30:22.590254Z"
    }
   },
   "outputs": [
    {
     "data": {
      "text/plain": "children               0\ndays_employed       2174\ndob_years              0\neducation              0\neducation_id           0\nfamily_status          0\nfamily_status_id       0\ngender                 0\nincome_type            0\ndebt                   0\ntotal_income        2174\npurpose                0\ndtype: int64"
     },
     "execution_count": 4,
     "metadata": {},
     "output_type": "execute_result"
    }
   ],
   "source": [
    "data.isnull().sum()\n",
    "# the combination of isnull and sum methods gives information about how many skips are in each column"
   ]
  },
  {
   "cell_type": "markdown",
   "metadata": {},
   "source": [
    "The first question to answer is, is there a pattern to the appearance of omissions in the days_employed and total_income columns?"
   ]
  },
  {
   "cell_type": "markdown",
   "metadata": {},
   "source": [
    "- you can see that gaps are made in quantitative variables, since the data type of these columns is float64.\n",
    "- I hypothesize that there is a pattern between the omissions in these columns\n",
    "\n",
    "Hypothesis: if a person does not indicate how many days he/she worked, it means that he/she did not work, so he/she does not fill in the income field. Based on this reasoning, the omissions in the days_employed column are completely random and the omissions in the total_income column are random."
   ]
  },
  {
   "cell_type": "code",
   "execution_count": 5,
   "metadata": {
    "ExecuteTime": {
     "end_time": "2023-11-27T13:30:24.337048Z",
     "start_time": "2023-11-27T13:30:22.603102Z"
    }
   },
   "outputs": [
    {
     "data": {
      "text/plain": "    children  days_employed  dob_years education  education_id  \\\n12         0            NaN         65   среднее             1   \n26         0            NaN         41   среднее             1   \n29         0            NaN         63   среднее             1   \n41         0            NaN         50   среднее             1   \n55         0            NaN         54   среднее             1   \n65         0            NaN         21   среднее             1   \n67         0            NaN         52    высшее             0   \n72         1            NaN         32    высшее             0   \n82         2            NaN         50    высшее             0   \n83         0            NaN         52   среднее             1   \n\n            family_status  family_status_id gender  income_type  debt  \\\n12       гражданский брак                 1      M    пенсионер     0   \n26        женат / замужем                 0      M  госслужащий     0   \n29  Не женат / не замужем                 4      F    пенсионер     0   \n41        женат / замужем                 0      F  госслужащий     0   \n55       гражданский брак                 1      F    пенсионер     1   \n65  Не женат / не замужем                 4      M    компаньон     0   \n67        женат / замужем                 0      F    пенсионер     0   \n72        женат / замужем                 0      M  госслужащий     0   \n82        женат / замужем                 0      F    сотрудник     0   \n83        женат / замужем                 0      M    сотрудник     0   \n\n    total_income                                purpose  \n12           NaN                        сыграть свадьбу  \n26           NaN                            образование  \n29           NaN       строительство жилой недвижимости  \n41           NaN       сделка с подержанным автомобилем  \n55           NaN                        сыграть свадьбу  \n65           NaN  операции с коммерческой недвижимостью  \n67           NaN                покупка жилья для семьи  \n72           NaN  операции с коммерческой недвижимостью  \n82           NaN                                  жилье  \n83           NaN                                  жилье  ",
      "text/html": "<div>\n<style scoped>\n    .dataframe tbody tr th:only-of-type {\n        vertical-align: middle;\n    }\n\n    .dataframe tbody tr th {\n        vertical-align: top;\n    }\n\n    .dataframe thead th {\n        text-align: right;\n    }\n</style>\n<table border=\"1\" class=\"dataframe\">\n  <thead>\n    <tr style=\"text-align: right;\">\n      <th></th>\n      <th>children</th>\n      <th>days_employed</th>\n      <th>dob_years</th>\n      <th>education</th>\n      <th>education_id</th>\n      <th>family_status</th>\n      <th>family_status_id</th>\n      <th>gender</th>\n      <th>income_type</th>\n      <th>debt</th>\n      <th>total_income</th>\n      <th>purpose</th>\n    </tr>\n  </thead>\n  <tbody>\n    <tr>\n      <th>12</th>\n      <td>0</td>\n      <td>NaN</td>\n      <td>65</td>\n      <td>среднее</td>\n      <td>1</td>\n      <td>гражданский брак</td>\n      <td>1</td>\n      <td>M</td>\n      <td>пенсионер</td>\n      <td>0</td>\n      <td>NaN</td>\n      <td>сыграть свадьбу</td>\n    </tr>\n    <tr>\n      <th>26</th>\n      <td>0</td>\n      <td>NaN</td>\n      <td>41</td>\n      <td>среднее</td>\n      <td>1</td>\n      <td>женат / замужем</td>\n      <td>0</td>\n      <td>M</td>\n      <td>госслужащий</td>\n      <td>0</td>\n      <td>NaN</td>\n      <td>образование</td>\n    </tr>\n    <tr>\n      <th>29</th>\n      <td>0</td>\n      <td>NaN</td>\n      <td>63</td>\n      <td>среднее</td>\n      <td>1</td>\n      <td>Не женат / не замужем</td>\n      <td>4</td>\n      <td>F</td>\n      <td>пенсионер</td>\n      <td>0</td>\n      <td>NaN</td>\n      <td>строительство жилой недвижимости</td>\n    </tr>\n    <tr>\n      <th>41</th>\n      <td>0</td>\n      <td>NaN</td>\n      <td>50</td>\n      <td>среднее</td>\n      <td>1</td>\n      <td>женат / замужем</td>\n      <td>0</td>\n      <td>F</td>\n      <td>госслужащий</td>\n      <td>0</td>\n      <td>NaN</td>\n      <td>сделка с подержанным автомобилем</td>\n    </tr>\n    <tr>\n      <th>55</th>\n      <td>0</td>\n      <td>NaN</td>\n      <td>54</td>\n      <td>среднее</td>\n      <td>1</td>\n      <td>гражданский брак</td>\n      <td>1</td>\n      <td>F</td>\n      <td>пенсионер</td>\n      <td>1</td>\n      <td>NaN</td>\n      <td>сыграть свадьбу</td>\n    </tr>\n    <tr>\n      <th>65</th>\n      <td>0</td>\n      <td>NaN</td>\n      <td>21</td>\n      <td>среднее</td>\n      <td>1</td>\n      <td>Не женат / не замужем</td>\n      <td>4</td>\n      <td>M</td>\n      <td>компаньон</td>\n      <td>0</td>\n      <td>NaN</td>\n      <td>операции с коммерческой недвижимостью</td>\n    </tr>\n    <tr>\n      <th>67</th>\n      <td>0</td>\n      <td>NaN</td>\n      <td>52</td>\n      <td>высшее</td>\n      <td>0</td>\n      <td>женат / замужем</td>\n      <td>0</td>\n      <td>F</td>\n      <td>пенсионер</td>\n      <td>0</td>\n      <td>NaN</td>\n      <td>покупка жилья для семьи</td>\n    </tr>\n    <tr>\n      <th>72</th>\n      <td>1</td>\n      <td>NaN</td>\n      <td>32</td>\n      <td>высшее</td>\n      <td>0</td>\n      <td>женат / замужем</td>\n      <td>0</td>\n      <td>M</td>\n      <td>госслужащий</td>\n      <td>0</td>\n      <td>NaN</td>\n      <td>операции с коммерческой недвижимостью</td>\n    </tr>\n    <tr>\n      <th>82</th>\n      <td>2</td>\n      <td>NaN</td>\n      <td>50</td>\n      <td>высшее</td>\n      <td>0</td>\n      <td>женат / замужем</td>\n      <td>0</td>\n      <td>F</td>\n      <td>сотрудник</td>\n      <td>0</td>\n      <td>NaN</td>\n      <td>жилье</td>\n    </tr>\n    <tr>\n      <th>83</th>\n      <td>0</td>\n      <td>NaN</td>\n      <td>52</td>\n      <td>среднее</td>\n      <td>1</td>\n      <td>женат / замужем</td>\n      <td>0</td>\n      <td>M</td>\n      <td>сотрудник</td>\n      <td>0</td>\n      <td>NaN</td>\n      <td>жилье</td>\n    </tr>\n  </tbody>\n</table>\n</div>"
     },
     "execution_count": 5,
     "metadata": {},
     "output_type": "execute_result"
    }
   ],
   "source": [
    "data.loc[data['days_employed'].isnull() == True].head(10)\n",
    "# output rows in the table that contain gaps in the days_employed column"
   ]
  },
  {
   "cell_type": "markdown",
   "metadata": {},
   "source": [
    "Analyzing the data, there is a direct correlation between days_employed and total_income. However, the assumption that the person did not work a day, so he/she did not indicate income is not correct, because if we look at the sources of income of people in this sample, there will be: employee, pensioner, civil servant and others. In this case, the person could not not work and not receive income. Then we can reason from the idea that people hide their income and do not want to say it, as well as the number of days worked, or one of the employees working in the bank, collecting this information about clients, forgot to put it in the table, or simply did not ask the client about it. A technical reason cannot be ruled out."
   ]
  },
  {
   "cell_type": "markdown",
   "metadata": {},
   "source": [
    "I will fill in the gaps in the total_income column with the median value for each of the categories of income sources, pre-grouped by income_type, since the same source of income can have a strong variation in values, and the gaps in the days_employed column with the median value as well.\n",
    "\n",
    "However, we remember that the days_employed column contains negative values, which cannot be according to the meaning of the variable. Perhaps this error was made due to technical problems that added a minus to the fields of this column during uploading. I will change the negative values to positive ones."
   ]
  },
  {
   "cell_type": "code",
   "execution_count": 6,
   "metadata": {
    "ExecuteTime": {
     "end_time": "2023-11-27T13:30:24.338156Z",
     "start_time": "2023-11-27T13:30:22.636372Z"
    }
   },
   "outputs": [],
   "source": [
    "def abs_days_employed(var): # a function that outputs the modulus values of the passed number\n",
    "    return abs(var)\n",
    "\n",
    "data['days_employed'] = data.loc[data['days_employed'].isnull() == False, 'days_employed'].apply(abs_days_employed)\n",
    "# apply the abs_days_employed function using the apply method to the days_employed column"
   ]
  },
  {
   "cell_type": "code",
   "execution_count": 7,
   "metadata": {
    "ExecuteTime": {
     "end_time": "2023-11-27T13:30:24.340401Z",
     "start_time": "2023-11-27T13:30:22.670413Z"
    }
   },
   "outputs": [
    {
     "data": {
      "text/plain": "                  total_income  days_employed\n                        median         median\nincome_type                                  \nбезработный      131339.751676  366413.652744\nв декрете         53829.130729    3296.759962\nгосслужащий      150447.935283    2689.368353\nкомпаньон        172357.950966    1547.382223\nпенсионер        118514.486412  365213.306266\nпредприниматель  499163.144947     520.848083\nсотрудник        142594.396847    1574.202821\nстудент           98201.625314     578.751554",
      "text/html": "<div>\n<style scoped>\n    .dataframe tbody tr th:only-of-type {\n        vertical-align: middle;\n    }\n\n    .dataframe tbody tr th {\n        vertical-align: top;\n    }\n\n    .dataframe thead tr th {\n        text-align: left;\n    }\n\n    .dataframe thead tr:last-of-type th {\n        text-align: right;\n    }\n</style>\n<table border=\"1\" class=\"dataframe\">\n  <thead>\n    <tr>\n      <th></th>\n      <th>total_income</th>\n      <th>days_employed</th>\n    </tr>\n    <tr>\n      <th></th>\n      <th>median</th>\n      <th>median</th>\n    </tr>\n    <tr>\n      <th>income_type</th>\n      <th></th>\n      <th></th>\n    </tr>\n  </thead>\n  <tbody>\n    <tr>\n      <th>безработный</th>\n      <td>131339.751676</td>\n      <td>366413.652744</td>\n    </tr>\n    <tr>\n      <th>в декрете</th>\n      <td>53829.130729</td>\n      <td>3296.759962</td>\n    </tr>\n    <tr>\n      <th>госслужащий</th>\n      <td>150447.935283</td>\n      <td>2689.368353</td>\n    </tr>\n    <tr>\n      <th>компаньон</th>\n      <td>172357.950966</td>\n      <td>1547.382223</td>\n    </tr>\n    <tr>\n      <th>пенсионер</th>\n      <td>118514.486412</td>\n      <td>365213.306266</td>\n    </tr>\n    <tr>\n      <th>предприниматель</th>\n      <td>499163.144947</td>\n      <td>520.848083</td>\n    </tr>\n    <tr>\n      <th>сотрудник</th>\n      <td>142594.396847</td>\n      <td>1574.202821</td>\n    </tr>\n    <tr>\n      <th>студент</th>\n      <td>98201.625314</td>\n      <td>578.751554</td>\n    </tr>\n  </tbody>\n</table>\n</div>"
     },
     "execution_count": 7,
     "metadata": {},
     "output_type": "execute_result"
    }
   ],
   "source": [
    "dict_income_type = data.groupby('income_type').agg({'total_income': ['median'], 'days_employed': ['median'] })\n",
    "# group the table by income_type column using the groupby method and aggregate using the agg method\n",
    "dict_income_type"
   ]
  },
  {
   "cell_type": "code",
   "execution_count": 8,
   "metadata": {
    "ExecuteTime": {
     "end_time": "2023-11-27T13:30:24.342860Z",
     "start_time": "2023-11-27T13:30:22.710346Z"
    }
   },
   "outputs": [
    {
     "data": {
      "text/plain": "    children  days_employed  dob_years            education  education_id  \\\n0          1    8437.673028         42               высшее             0   \n1          1    4024.803754         36              среднее             1   \n2          0     5623.42261         33              Среднее             1   \n3          3    4124.747207         32              среднее             1   \n4          0  340266.072047         53              среднее             1   \n5          0     926.185831         27               высшее             0   \n6          0    2879.202052         43               высшее             0   \n7          0     152.779569         50              СРЕДНЕЕ             1   \n8          2    6929.865299         35               ВЫСШЕЕ             0   \n9          0    2188.756445         41              среднее             1   \n10         2    4171.483647         36               высшее             0   \n11         0     792.701887         40              среднее             1   \n12         0                        65              среднее             1   \n13         0    1846.641941         54  неоконченное высшее             2   \n14         0    1844.956182         56               высшее             0   \n\n       family_status  family_status_id gender income_type  debt  \\\n0    женат / замужем                 0      F   сотрудник     0   \n1    женат / замужем                 0      F   сотрудник     0   \n2    женат / замужем                 0      M   сотрудник     0   \n3    женат / замужем                 0      M   сотрудник     0   \n4   гражданский брак                 1      F   пенсионер     0   \n5   гражданский брак                 1      M   компаньон     0   \n6    женат / замужем                 0      F   компаньон     0   \n7    женат / замужем                 0      M   сотрудник     0   \n8   гражданский брак                 1      F   сотрудник     0   \n9    женат / замужем                 0      M   сотрудник     0   \n10   женат / замужем                 0      M   компаньон     0   \n11   женат / замужем                 0      F   сотрудник     0   \n12  гражданский брак                 1      M   пенсионер     0   \n13   женат / замужем                 0      F   сотрудник     0   \n14  гражданский брак                 1      F   компаньон     1   \n\n     total_income                            purpose  \n0   253875.639453                      покупка жилья  \n1   112080.014102            приобретение автомобиля  \n2   145885.952297                      покупка жилья  \n3   267628.550329         дополнительное образование  \n4    158616.07787                    сыграть свадьбу  \n5   255763.565419                      покупка жилья  \n6    240525.97192                  операции с жильем  \n7   135823.934197                        образование  \n8    95856.832424              на проведение свадьбы  \n9   144425.938277            покупка жилья для семьи  \n10   113943.49146               покупка недвижимости  \n11   77069.234271  покупка коммерческой недвижимости  \n12                                   сыграть свадьбу  \n13  130458.228857            приобретение автомобиля  \n14  165127.911772         покупка жилой недвижимости  ",
      "text/html": "<div>\n<style scoped>\n    .dataframe tbody tr th:only-of-type {\n        vertical-align: middle;\n    }\n\n    .dataframe tbody tr th {\n        vertical-align: top;\n    }\n\n    .dataframe thead th {\n        text-align: right;\n    }\n</style>\n<table border=\"1\" class=\"dataframe\">\n  <thead>\n    <tr style=\"text-align: right;\">\n      <th></th>\n      <th>children</th>\n      <th>days_employed</th>\n      <th>dob_years</th>\n      <th>education</th>\n      <th>education_id</th>\n      <th>family_status</th>\n      <th>family_status_id</th>\n      <th>gender</th>\n      <th>income_type</th>\n      <th>debt</th>\n      <th>total_income</th>\n      <th>purpose</th>\n    </tr>\n  </thead>\n  <tbody>\n    <tr>\n      <th>0</th>\n      <td>1</td>\n      <td>8437.673028</td>\n      <td>42</td>\n      <td>высшее</td>\n      <td>0</td>\n      <td>женат / замужем</td>\n      <td>0</td>\n      <td>F</td>\n      <td>сотрудник</td>\n      <td>0</td>\n      <td>253875.639453</td>\n      <td>покупка жилья</td>\n    </tr>\n    <tr>\n      <th>1</th>\n      <td>1</td>\n      <td>4024.803754</td>\n      <td>36</td>\n      <td>среднее</td>\n      <td>1</td>\n      <td>женат / замужем</td>\n      <td>0</td>\n      <td>F</td>\n      <td>сотрудник</td>\n      <td>0</td>\n      <td>112080.014102</td>\n      <td>приобретение автомобиля</td>\n    </tr>\n    <tr>\n      <th>2</th>\n      <td>0</td>\n      <td>5623.42261</td>\n      <td>33</td>\n      <td>Среднее</td>\n      <td>1</td>\n      <td>женат / замужем</td>\n      <td>0</td>\n      <td>M</td>\n      <td>сотрудник</td>\n      <td>0</td>\n      <td>145885.952297</td>\n      <td>покупка жилья</td>\n    </tr>\n    <tr>\n      <th>3</th>\n      <td>3</td>\n      <td>4124.747207</td>\n      <td>32</td>\n      <td>среднее</td>\n      <td>1</td>\n      <td>женат / замужем</td>\n      <td>0</td>\n      <td>M</td>\n      <td>сотрудник</td>\n      <td>0</td>\n      <td>267628.550329</td>\n      <td>дополнительное образование</td>\n    </tr>\n    <tr>\n      <th>4</th>\n      <td>0</td>\n      <td>340266.072047</td>\n      <td>53</td>\n      <td>среднее</td>\n      <td>1</td>\n      <td>гражданский брак</td>\n      <td>1</td>\n      <td>F</td>\n      <td>пенсионер</td>\n      <td>0</td>\n      <td>158616.07787</td>\n      <td>сыграть свадьбу</td>\n    </tr>\n    <tr>\n      <th>5</th>\n      <td>0</td>\n      <td>926.185831</td>\n      <td>27</td>\n      <td>высшее</td>\n      <td>0</td>\n      <td>гражданский брак</td>\n      <td>1</td>\n      <td>M</td>\n      <td>компаньон</td>\n      <td>0</td>\n      <td>255763.565419</td>\n      <td>покупка жилья</td>\n    </tr>\n    <tr>\n      <th>6</th>\n      <td>0</td>\n      <td>2879.202052</td>\n      <td>43</td>\n      <td>высшее</td>\n      <td>0</td>\n      <td>женат / замужем</td>\n      <td>0</td>\n      <td>F</td>\n      <td>компаньон</td>\n      <td>0</td>\n      <td>240525.97192</td>\n      <td>операции с жильем</td>\n    </tr>\n    <tr>\n      <th>7</th>\n      <td>0</td>\n      <td>152.779569</td>\n      <td>50</td>\n      <td>СРЕДНЕЕ</td>\n      <td>1</td>\n      <td>женат / замужем</td>\n      <td>0</td>\n      <td>M</td>\n      <td>сотрудник</td>\n      <td>0</td>\n      <td>135823.934197</td>\n      <td>образование</td>\n    </tr>\n    <tr>\n      <th>8</th>\n      <td>2</td>\n      <td>6929.865299</td>\n      <td>35</td>\n      <td>ВЫСШЕЕ</td>\n      <td>0</td>\n      <td>гражданский брак</td>\n      <td>1</td>\n      <td>F</td>\n      <td>сотрудник</td>\n      <td>0</td>\n      <td>95856.832424</td>\n      <td>на проведение свадьбы</td>\n    </tr>\n    <tr>\n      <th>9</th>\n      <td>0</td>\n      <td>2188.756445</td>\n      <td>41</td>\n      <td>среднее</td>\n      <td>1</td>\n      <td>женат / замужем</td>\n      <td>0</td>\n      <td>M</td>\n      <td>сотрудник</td>\n      <td>0</td>\n      <td>144425.938277</td>\n      <td>покупка жилья для семьи</td>\n    </tr>\n    <tr>\n      <th>10</th>\n      <td>2</td>\n      <td>4171.483647</td>\n      <td>36</td>\n      <td>высшее</td>\n      <td>0</td>\n      <td>женат / замужем</td>\n      <td>0</td>\n      <td>M</td>\n      <td>компаньон</td>\n      <td>0</td>\n      <td>113943.49146</td>\n      <td>покупка недвижимости</td>\n    </tr>\n    <tr>\n      <th>11</th>\n      <td>0</td>\n      <td>792.701887</td>\n      <td>40</td>\n      <td>среднее</td>\n      <td>1</td>\n      <td>женат / замужем</td>\n      <td>0</td>\n      <td>F</td>\n      <td>сотрудник</td>\n      <td>0</td>\n      <td>77069.234271</td>\n      <td>покупка коммерческой недвижимости</td>\n    </tr>\n    <tr>\n      <th>12</th>\n      <td>0</td>\n      <td></td>\n      <td>65</td>\n      <td>среднее</td>\n      <td>1</td>\n      <td>гражданский брак</td>\n      <td>1</td>\n      <td>M</td>\n      <td>пенсионер</td>\n      <td>0</td>\n      <td></td>\n      <td>сыграть свадьбу</td>\n    </tr>\n    <tr>\n      <th>13</th>\n      <td>0</td>\n      <td>1846.641941</td>\n      <td>54</td>\n      <td>неоконченное высшее</td>\n      <td>2</td>\n      <td>женат / замужем</td>\n      <td>0</td>\n      <td>F</td>\n      <td>сотрудник</td>\n      <td>0</td>\n      <td>130458.228857</td>\n      <td>приобретение автомобиля</td>\n    </tr>\n    <tr>\n      <th>14</th>\n      <td>0</td>\n      <td>1844.956182</td>\n      <td>56</td>\n      <td>высшее</td>\n      <td>0</td>\n      <td>гражданский брак</td>\n      <td>1</td>\n      <td>F</td>\n      <td>компаньон</td>\n      <td>1</td>\n      <td>165127.911772</td>\n      <td>покупка жилой недвижимости</td>\n    </tr>\n  </tbody>\n</table>\n</div>"
     },
     "execution_count": 8,
     "metadata": {},
     "output_type": "execute_result"
    }
   ],
   "source": [
    "data = data.fillna(value='') # replace the blanks with ''\n",
    "data.head(15)"
   ]
  },
  {
   "cell_type": "code",
   "execution_count": 9,
   "metadata": {
    "ExecuteTime": {
     "end_time": "2023-11-27T13:30:26.541204Z",
     "start_time": "2023-11-27T13:30:22.811690Z"
    }
   },
   "outputs": [],
   "source": [
    "data_len = data.shape[0]\n",
    "\n",
    "for x in range(data_len): # replace empty values with median monthly income values\n",
    "    try:\n",
    "        if data.loc[x, 'total_income'] == '':\n",
    "            x_income_type = data.loc[x, 'income_type']\n",
    "            median_income = dict_income_type.loc[x_income_type, 'total_income'].to_list()[0]\n",
    "            data.loc[x, 'total_income'] = median_income\n",
    "    except:\n",
    "        print('Error')"
   ]
  },
  {
   "cell_type": "markdown",
   "metadata": {},
   "source": [
    "I use the try-except construct to minimize the occurrence of errors. This algorithm checks for each row to see if there is a missing value in the 'total_income' column. If there is a missing value, we store the type of income source in the variable x_income_type. After that I turn to the dictionary source employment type-median value of monthly income for this type of employment and select median monthly income (median_income_type), which I insert into the value of this row in the column 'total_income'."
   ]
  },
  {
   "cell_type": "code",
   "execution_count": 10,
   "metadata": {
    "ExecuteTime": {
     "end_time": "2023-11-27T13:30:26.629983Z",
     "start_time": "2023-11-27T13:30:26.547116Z"
    }
   },
   "outputs": [
    {
     "data": {
      "text/plain": "Empty DataFrame\nColumns: [children, days_employed, dob_years, education, education_id, family_status, family_status_id, gender, income_type, debt, total_income, purpose]\nIndex: []",
      "text/html": "<div>\n<style scoped>\n    .dataframe tbody tr th:only-of-type {\n        vertical-align: middle;\n    }\n\n    .dataframe tbody tr th {\n        vertical-align: top;\n    }\n\n    .dataframe thead th {\n        text-align: right;\n    }\n</style>\n<table border=\"1\" class=\"dataframe\">\n  <thead>\n    <tr style=\"text-align: right;\">\n      <th></th>\n      <th>children</th>\n      <th>days_employed</th>\n      <th>dob_years</th>\n      <th>education</th>\n      <th>education_id</th>\n      <th>family_status</th>\n      <th>family_status_id</th>\n      <th>gender</th>\n      <th>income_type</th>\n      <th>debt</th>\n      <th>total_income</th>\n      <th>purpose</th>\n    </tr>\n  </thead>\n  <tbody>\n  </tbody>\n</table>\n</div>"
     },
     "execution_count": 10,
     "metadata": {},
     "output_type": "execute_result"
    }
   ],
   "source": [
    "data.loc[data['total_income'] == ''] # check for empty values in the total_income column"
   ]
  },
  {
   "cell_type": "code",
   "execution_count": 11,
   "metadata": {
    "ExecuteTime": {
     "end_time": "2023-11-27T13:30:26.631768Z",
     "start_time": "2023-11-27T13:30:26.570888Z"
    }
   },
   "outputs": [
    {
     "data": {
      "text/plain": "   days_employed   total_income\n12                118514.486412\n26                150447.935283\n29                118514.486412\n41                150447.935283\n55                118514.486412\n65                172357.950966\n67                118514.486412\n72                150447.935283\n82                142594.396847\n83                142594.396847",
      "text/html": "<div>\n<style scoped>\n    .dataframe tbody tr th:only-of-type {\n        vertical-align: middle;\n    }\n\n    .dataframe tbody tr th {\n        vertical-align: top;\n    }\n\n    .dataframe thead th {\n        text-align: right;\n    }\n</style>\n<table border=\"1\" class=\"dataframe\">\n  <thead>\n    <tr style=\"text-align: right;\">\n      <th></th>\n      <th>days_employed</th>\n      <th>total_income</th>\n    </tr>\n  </thead>\n  <tbody>\n    <tr>\n      <th>12</th>\n      <td></td>\n      <td>118514.486412</td>\n    </tr>\n    <tr>\n      <th>26</th>\n      <td></td>\n      <td>150447.935283</td>\n    </tr>\n    <tr>\n      <th>29</th>\n      <td></td>\n      <td>118514.486412</td>\n    </tr>\n    <tr>\n      <th>41</th>\n      <td></td>\n      <td>150447.935283</td>\n    </tr>\n    <tr>\n      <th>55</th>\n      <td></td>\n      <td>118514.486412</td>\n    </tr>\n    <tr>\n      <th>65</th>\n      <td></td>\n      <td>172357.950966</td>\n    </tr>\n    <tr>\n      <th>67</th>\n      <td></td>\n      <td>118514.486412</td>\n    </tr>\n    <tr>\n      <th>72</th>\n      <td></td>\n      <td>150447.935283</td>\n    </tr>\n    <tr>\n      <th>82</th>\n      <td></td>\n      <td>142594.396847</td>\n    </tr>\n    <tr>\n      <th>83</th>\n      <td></td>\n      <td>142594.396847</td>\n    </tr>\n  </tbody>\n</table>\n</div>"
     },
     "execution_count": 11,
     "metadata": {},
     "output_type": "execute_result"
    }
   ],
   "source": [
    "data.loc[data['days_employed'] == '', ['days_employed', 'total_income']].head(10)"
   ]
  },
  {
   "cell_type": "code",
   "execution_count": 12,
   "metadata": {
    "ExecuteTime": {
     "end_time": "2023-11-27T13:30:29.944175Z",
     "start_time": "2023-11-27T13:30:26.591810Z"
    }
   },
   "outputs": [],
   "source": [
    "data_len = data.shape[0]\n",
    "\n",
    "for x in range(data_len): # replace skips with the median value of years of service\n",
    "    try:\n",
    "        if data.loc[x, 'days_employed'] == '':\n",
    "            x_income_type = data.loc[x, 'income_type']\n",
    "            median_days_employed = dict_income_type.loc[x_income_type, 'days_employed'].to_list()[0]\n",
    "            data.loc[x, 'days_employed'] = median_days_employed\n",
    "    except:\n",
    "        print('Error')"
   ]
  },
  {
   "cell_type": "code",
   "execution_count": 13,
   "metadata": {
    "ExecuteTime": {
     "end_time": "2023-11-27T13:30:29.963079Z",
     "start_time": "2023-11-27T13:30:29.952757Z"
    }
   },
   "outputs": [
    {
     "data": {
      "text/plain": "Empty DataFrame\nColumns: [days_employed, total_income]\nIndex: []",
      "text/html": "<div>\n<style scoped>\n    .dataframe tbody tr th:only-of-type {\n        vertical-align: middle;\n    }\n\n    .dataframe tbody tr th {\n        vertical-align: top;\n    }\n\n    .dataframe thead th {\n        text-align: right;\n    }\n</style>\n<table border=\"1\" class=\"dataframe\">\n  <thead>\n    <tr style=\"text-align: right;\">\n      <th></th>\n      <th>days_employed</th>\n      <th>total_income</th>\n    </tr>\n  </thead>\n  <tbody>\n  </tbody>\n</table>\n</div>"
     },
     "execution_count": 13,
     "metadata": {},
     "output_type": "execute_result"
    }
   ],
   "source": [
    "data.loc[data['days_employed'] == '', ['days_employed', 'total_income']].head(10)\n",
    "# I check if there are empty values in the days_employed column"
   ]
  },
  {
   "cell_type": "markdown",
   "metadata": {},
   "source": [
    "#### Conclusion"
   ]
  },
  {
   "cell_type": "markdown",
   "metadata": {},
   "source": [
    "In total, I replaced omissions in the total_income and days_employed columns, filling them with median values, grouped by source of income (income_type). Determined that the pattern of skips in these columns is regularized. The data in the days_employed column were also corrected from negative to positive values."
   ]
  },
  {
   "cell_type": "markdown",
   "metadata": {},
   "source": [
    "### Data type replacement"
   ]
  },
  {
   "cell_type": "code",
   "execution_count": 14,
   "metadata": {
    "ExecuteTime": {
     "end_time": "2023-11-27T13:30:30.162451Z",
     "start_time": "2023-11-27T13:30:29.993260Z"
    }
   },
   "outputs": [
    {
     "name": "stdout",
     "output_type": "stream",
     "text": [
      "<class 'pandas.core.frame.DataFrame'>\n",
      "RangeIndex: 21525 entries, 0 to 21524\n",
      "Data columns (total 12 columns):\n",
      " #   Column            Non-Null Count  Dtype \n",
      "---  ------            --------------  ----- \n",
      " 0   children          21525 non-null  int64 \n",
      " 1   days_employed     21525 non-null  object\n",
      " 2   dob_years         21525 non-null  int64 \n",
      " 3   education         21525 non-null  object\n",
      " 4   education_id      21525 non-null  int64 \n",
      " 5   family_status     21525 non-null  object\n",
      " 6   family_status_id  21525 non-null  int64 \n",
      " 7   gender            21525 non-null  object\n",
      " 8   income_type       21525 non-null  object\n",
      " 9   debt              21525 non-null  int64 \n",
      " 10  total_income      21525 non-null  object\n",
      " 11  purpose           21525 non-null  object\n",
      "dtypes: int64(5), object(7)\n",
      "memory usage: 2.0+ MB\n"
     ]
    }
   ],
   "source": [
    "data.info()"
   ]
  },
  {
   "cell_type": "markdown",
   "metadata": {},
   "source": [
    "You can see that the days_employed and total_income columns should be converted from string type to float64 type, because they contain data of numeric type."
   ]
  },
  {
   "cell_type": "code",
   "execution_count": 15,
   "metadata": {
    "ExecuteTime": {
     "end_time": "2023-11-27T13:30:30.163181Z",
     "start_time": "2023-11-27T13:30:30.014830Z"
    }
   },
   "outputs": [],
   "source": [
    "try:\n",
    "    data['days_employed'] = pd.to_numeric(data['days_employed']) \n",
    "    data['total_income'] = pd.to_numeric(data['total_income'])\n",
    "except:\n",
    "    print('Error')"
   ]
  },
  {
   "cell_type": "code",
   "execution_count": 16,
   "metadata": {
    "ExecuteTime": {
     "end_time": "2023-11-27T13:30:30.201036Z",
     "start_time": "2023-11-27T13:30:30.030406Z"
    }
   },
   "outputs": [
    {
     "name": "stdout",
     "output_type": "stream",
     "text": [
      "<class 'pandas.core.frame.DataFrame'>\n",
      "RangeIndex: 21525 entries, 0 to 21524\n",
      "Data columns (total 12 columns):\n",
      " #   Column            Non-Null Count  Dtype  \n",
      "---  ------            --------------  -----  \n",
      " 0   children          21525 non-null  int64  \n",
      " 1   days_employed     21525 non-null  float64\n",
      " 2   dob_years         21525 non-null  int64  \n",
      " 3   education         21525 non-null  object \n",
      " 4   education_id      21525 non-null  int64  \n",
      " 5   family_status     21525 non-null  object \n",
      " 6   family_status_id  21525 non-null  int64  \n",
      " 7   gender            21525 non-null  object \n",
      " 8   income_type       21525 non-null  object \n",
      " 9   debt              21525 non-null  int64  \n",
      " 10  total_income      21525 non-null  float64\n",
      " 11  purpose           21525 non-null  object \n",
      "dtypes: float64(2), int64(5), object(5)\n",
      "memory usage: 2.0+ MB\n"
     ]
    }
   ],
   "source": [
    "data.info()"
   ]
  },
  {
   "cell_type": "markdown",
   "metadata": {},
   "source": [
    "#### Conclusion"
   ]
  },
  {
   "cell_type": "markdown",
   "metadata": {},
   "source": [
    "Changed data types from lowercase to float64 of columns: days_employed and total_income."
   ]
  },
  {
   "cell_type": "markdown",
   "metadata": {},
   "source": [
    "### Duplicate processing"
   ]
  },
  {
   "cell_type": "markdown",
   "metadata": {},
   "source": [
    "Look for duplicates in the columns: education, family_status, gender, income_type. The other column types have a quantitative data type, the purpose column contains a textual reason."
   ]
  },
  {
   "cell_type": "code",
   "execution_count": 17,
   "metadata": {
    "ExecuteTime": {
     "end_time": "2023-11-27T13:30:30.242132Z",
     "start_time": "2023-11-27T13:30:30.076559Z"
    }
   },
   "outputs": [
    {
     "name": "stdout",
     "output_type": "stream",
     "text": [
      "21510\n",
      "среднее                13750\n",
      "высшее                  4718\n",
      "СРЕДНЕЕ                  772\n",
      "Среднее                  711\n",
      "неоконченное высшее      668\n",
      "ВЫСШЕЕ                   274\n",
      "Высшее                   268\n",
      "начальное                250\n",
      "Неоконченное высшее       47\n",
      "НЕОКОНЧЕННОЕ ВЫСШЕЕ       29\n",
      "НАЧАЛЬНОЕ                 17\n",
      "Начальное                 15\n",
      "ученая степень             4\n",
      "Ученая степень             1\n",
      "УЧЕНАЯ СТЕПЕНЬ             1\n",
      "Name: education, dtype: int64\n"
     ]
    }
   ],
   "source": [
    "# I'm looking at the education column\n",
    "print(data['education'].duplicated().sum())\n",
    "print(data['education'].value_counts())"
   ]
  },
  {
   "cell_type": "markdown",
   "metadata": {},
   "source": [
    "The column contains values of the same word written with different case characters. Let's convert all the characters of the values in this column to lower case."
   ]
  },
  {
   "cell_type": "code",
   "execution_count": 18,
   "metadata": {
    "ExecuteTime": {
     "end_time": "2023-11-27T13:30:30.243613Z",
     "start_time": "2023-11-27T13:30:30.099453Z"
    }
   },
   "outputs": [
    {
     "data": {
      "text/plain": "среднее                15233\nвысшее                  5260\nнеоконченное высшее      744\nначальное                282\nученая степень             6\nName: education, dtype: int64"
     },
     "execution_count": 18,
     "metadata": {},
     "output_type": "execute_result"
    }
   ],
   "source": [
    "data['education'] = data['education'].str.lower()\n",
    "# use the str.lower method to lowercase all values in the column\n",
    "data['education'].value_counts()"
   ]
  },
  {
   "cell_type": "code",
   "execution_count": 19,
   "metadata": {
    "ExecuteTime": {
     "end_time": "2023-11-27T13:30:30.552562Z",
     "start_time": "2023-11-27T13:30:30.119625Z"
    }
   },
   "outputs": [
    {
     "data": {
      "text/plain": "женат / замужем          12380\nгражданский брак          4177\nне женат / не замужем     2813\nв разводе                 1195\nвдовец / вдова             960\nName: family_status, dtype: int64"
     },
     "execution_count": 19,
     "metadata": {},
     "output_type": "execute_result"
    }
   ],
   "source": [
    "data['family_status'] = data['family_status'].str.lower()\n",
    "data['family_status'].value_counts()"
   ]
  },
  {
   "cell_type": "markdown",
   "metadata": {},
   "source": [
    "Essentially common-law marriage and unmarried/unmarried are the same thing, so let's just leave unmarried/unmarried."
   ]
  },
  {
   "cell_type": "code",
   "execution_count": 20,
   "metadata": {
    "ExecuteTime": {
     "end_time": "2023-11-27T13:30:30.553248Z",
     "start_time": "2023-11-27T13:30:30.152873Z"
    }
   },
   "outputs": [
    {
     "data": {
      "text/plain": "женат / замужем          16557\nне женат / не замужем     2813\nв разводе                 1195\nвдовец / вдова             960\nName: family_status, dtype: int64"
     },
     "execution_count": 20,
     "metadata": {},
     "output_type": "execute_result"
    }
   ],
   "source": [
    "data.loc[data['family_status'] == 'гражданский брак', 'family_status'] = 'женат / замужем'\n",
    "data['family_status'].value_counts()"
   ]
  },
  {
   "cell_type": "code",
   "execution_count": 21,
   "metadata": {
    "ExecuteTime": {
     "end_time": "2023-11-27T13:30:30.553804Z",
     "start_time": "2023-11-27T13:30:30.181077Z"
    }
   },
   "outputs": [
    {
     "data": {
      "text/plain": "F      14236\nM       7288\nXNA        1\nName: gender, dtype: int64"
     },
     "execution_count": 21,
     "metadata": {},
     "output_type": "execute_result"
    }
   ],
   "source": [
    "data['gender'].value_counts()"
   ]
  },
  {
   "cell_type": "markdown",
   "metadata": {},
   "source": [
    "Interestingly, there is one line that lists gender as XNA. What is that? Let's replace it with a mode value."
   ]
  },
  {
   "cell_type": "code",
   "execution_count": 22,
   "metadata": {
    "ExecuteTime": {
     "end_time": "2023-11-27T13:30:30.555913Z",
     "start_time": "2023-11-27T13:30:30.191760Z"
    }
   },
   "outputs": [
    {
     "data": {
      "text/plain": "Series([], Name: gender, dtype: object)"
     },
     "execution_count": 22,
     "metadata": {},
     "output_type": "execute_result"
    }
   ],
   "source": [
    "data.loc[data['gender'] == 'XNA', 'gender'] = data['gender'].mode()\n",
    "data['gender'] = data['gender'].str.lower()\n",
    "data.loc[data['gender'] == 'XNA', 'gender']"
   ]
  },
  {
   "cell_type": "code",
   "execution_count": 23,
   "metadata": {
    "ExecuteTime": {
     "end_time": "2023-11-27T13:30:30.556795Z",
     "start_time": "2023-11-27T13:30:30.220228Z"
    }
   },
   "outputs": [
    {
     "data": {
      "text/plain": "сотрудник          11119\nкомпаньон           5085\nпенсионер           3856\nгосслужащий         1459\nбезработный            2\nпредприниматель        2\nстудент                1\nв декрете              1\nName: income_type, dtype: int64"
     },
     "execution_count": 23,
     "metadata": {},
     "output_type": "execute_result"
    }
   ],
   "source": [
    "data['income_type'].value_counts()"
   ]
  },
  {
   "cell_type": "code",
   "execution_count": 24,
   "metadata": {
    "ExecuteTime": {
     "end_time": "2023-11-27T13:30:30.636089Z",
     "start_time": "2023-11-27T13:30:30.235126Z"
    }
   },
   "outputs": [
    {
     "data": {
      "text/plain": "71"
     },
     "execution_count": 24,
     "metadata": {},
     "output_type": "execute_result"
    }
   ],
   "source": [
    "data.duplicated().sum()"
   ]
  },
  {
   "cell_type": "code",
   "execution_count": 25,
   "metadata": {
    "ExecuteTime": {
     "end_time": "2023-11-27T13:30:30.640228Z",
     "start_time": "2023-11-27T13:30:30.307579Z"
    }
   },
   "outputs": [
    {
     "data": {
      "text/plain": "0"
     },
     "execution_count": 25,
     "metadata": {},
     "output_type": "execute_result"
    }
   ],
   "source": [
    "data = data.drop_duplicates().reset_index(drop=True)\n",
    "data.duplicated().sum()"
   ]
  },
  {
   "cell_type": "markdown",
   "metadata": {},
   "source": [
    "#### Conclusion"
   ]
  },
  {
   "cell_type": "markdown",
   "metadata": {},
   "source": [
    "Unnecessary values in the education column were removed. One value in the gender column was removed. Since the values in the columns are categorical, there is no need to look for duplicates in the general sense."
   ]
  },
  {
   "cell_type": "markdown",
   "metadata": {},
   "source": [
    "### Lemmatization"
   ]
  },
  {
   "cell_type": "markdown",
   "metadata": {},
   "source": [
    "Lemmatization is the process of reducing a word to its dictionary form."
   ]
  },
  {
   "cell_type": "code",
   "execution_count": 26,
   "metadata": {
    "ExecuteTime": {
     "end_time": "2023-11-27T13:30:43.554402Z",
     "start_time": "2023-11-27T13:30:30.366998Z"
    }
   },
   "outputs": [
    {
     "name": "stdout",
     "output_type": "stream",
     "text": [
      "dict_keys(['покупка', ' ', 'жилье', '\\n', 'приобретение', 'автомобиль', 'дополнительный', 'образование', 'сыграть', 'свадьба', 'операция', 'с', 'на', 'проведение', 'для', 'семья', 'недвижимость', 'коммерческий', 'жилой', 'строительство', 'собственный', 'подержать', 'свой', 'со', 'заниматься', 'сделка', 'подержанный', 'получение', 'высокий', 'профильный', 'сдача', 'ремонт'])\n"
     ]
    }
   ],
   "source": [
    "from pymystem3 import Mystem\n",
    "from collections import Counter\n",
    "m = Mystem()\n",
    "words = []\n",
    "rows = data.shape[0]\n",
    "try: # create a list of unique words from all reasons for taking credit\n",
    "    for row in range(rows):\n",
    "        list_purpose = data.loc[row, 'purpose']\n",
    "        words += m.lemmatize(data.loc[row, 'purpose'])\n",
    "except:\n",
    "    print('Error')\n",
    "\n",
    "words = Counter(words)\n",
    "print(words.keys())"
   ]
  },
  {
   "cell_type": "code",
   "execution_count": 27,
   "metadata": {
    "ExecuteTime": {
     "end_time": "2023-11-27T13:30:43.565317Z",
     "start_time": "2023-11-27T13:30:43.551318Z"
    }
   },
   "outputs": [],
   "source": [
    "list_target_words = ['жилье', 'автомобиль', 'образование', 'свадьба', 'недвижимость', 'строительство', 'ремонт']\n",
    "# of the unique ones obtained, I create a list of important and keywords that characterize the cause"
   ]
  },
  {
   "cell_type": "code",
   "execution_count": 28,
   "metadata": {
    "ExecuteTime": {
     "end_time": "2023-11-27T13:30:55.111003Z",
     "start_time": "2023-11-27T13:30:43.592095Z"
    }
   },
   "outputs": [],
   "source": [
    "rows = data.shape[0]\n",
    "\n",
    "for row in range(rows):\n",
    "    try: # create a column that will store the keyword that characterizes the cause\n",
    "        lemmas = m.lemmatize(data.loc[row, 'purpose'])\n",
    "        for lemma in lemmas:\n",
    "            if lemma in list_target_words:\n",
    "                data.loc[row, 'purpose_unique'] = lemma\n",
    "    except:\n",
    "        print('Error')"
   ]
  },
  {
   "cell_type": "code",
   "execution_count": 29,
   "metadata": {
    "ExecuteTime": {
     "end_time": "2023-11-27T13:30:55.367249Z",
     "start_time": "2023-11-27T13:30:55.130377Z"
    }
   },
   "outputs": [
    {
     "data": {
      "text/plain": "   children  days_employed  dob_years education  education_id  \\\n0         1    8437.673028         42    высшее             0   \n1         1    4024.803754         36   среднее             1   \n2         0    5623.422610         33   среднее             1   \n3         3    4124.747207         32   среднее             1   \n4         0  340266.072047         53   среднее             1   \n5         0     926.185831         27    высшее             0   \n6         0    2879.202052         43    высшее             0   \n7         0     152.779569         50   среднее             1   \n8         2    6929.865299         35    высшее             0   \n9         0    2188.756445         41   среднее             1   \n\n     family_status  family_status_id gender income_type  debt   total_income  \\\n0  женат / замужем                 0      f   сотрудник     0  253875.639453   \n1  женат / замужем                 0      f   сотрудник     0  112080.014102   \n2  женат / замужем                 0      m   сотрудник     0  145885.952297   \n3  женат / замужем                 0      m   сотрудник     0  267628.550329   \n4  женат / замужем                 1      f   пенсионер     0  158616.077870   \n5  женат / замужем                 1      m   компаньон     0  255763.565419   \n6  женат / замужем                 0      f   компаньон     0  240525.971920   \n7  женат / замужем                 0      m   сотрудник     0  135823.934197   \n8  женат / замужем                 1      f   сотрудник     0   95856.832424   \n9  женат / замужем                 0      m   сотрудник     0  144425.938277   \n\n                      purpose purpose_unique  \n0               покупка жилья          жилье  \n1     приобретение автомобиля     автомобиль  \n2               покупка жилья          жилье  \n3  дополнительное образование    образование  \n4             сыграть свадьбу        свадьба  \n5               покупка жилья          жилье  \n6           операции с жильем          жилье  \n7                 образование    образование  \n8       на проведение свадьбы        свадьба  \n9     покупка жилья для семьи          жилье  ",
      "text/html": "<div>\n<style scoped>\n    .dataframe tbody tr th:only-of-type {\n        vertical-align: middle;\n    }\n\n    .dataframe tbody tr th {\n        vertical-align: top;\n    }\n\n    .dataframe thead th {\n        text-align: right;\n    }\n</style>\n<table border=\"1\" class=\"dataframe\">\n  <thead>\n    <tr style=\"text-align: right;\">\n      <th></th>\n      <th>children</th>\n      <th>days_employed</th>\n      <th>dob_years</th>\n      <th>education</th>\n      <th>education_id</th>\n      <th>family_status</th>\n      <th>family_status_id</th>\n      <th>gender</th>\n      <th>income_type</th>\n      <th>debt</th>\n      <th>total_income</th>\n      <th>purpose</th>\n      <th>purpose_unique</th>\n    </tr>\n  </thead>\n  <tbody>\n    <tr>\n      <th>0</th>\n      <td>1</td>\n      <td>8437.673028</td>\n      <td>42</td>\n      <td>высшее</td>\n      <td>0</td>\n      <td>женат / замужем</td>\n      <td>0</td>\n      <td>f</td>\n      <td>сотрудник</td>\n      <td>0</td>\n      <td>253875.639453</td>\n      <td>покупка жилья</td>\n      <td>жилье</td>\n    </tr>\n    <tr>\n      <th>1</th>\n      <td>1</td>\n      <td>4024.803754</td>\n      <td>36</td>\n      <td>среднее</td>\n      <td>1</td>\n      <td>женат / замужем</td>\n      <td>0</td>\n      <td>f</td>\n      <td>сотрудник</td>\n      <td>0</td>\n      <td>112080.014102</td>\n      <td>приобретение автомобиля</td>\n      <td>автомобиль</td>\n    </tr>\n    <tr>\n      <th>2</th>\n      <td>0</td>\n      <td>5623.422610</td>\n      <td>33</td>\n      <td>среднее</td>\n      <td>1</td>\n      <td>женат / замужем</td>\n      <td>0</td>\n      <td>m</td>\n      <td>сотрудник</td>\n      <td>0</td>\n      <td>145885.952297</td>\n      <td>покупка жилья</td>\n      <td>жилье</td>\n    </tr>\n    <tr>\n      <th>3</th>\n      <td>3</td>\n      <td>4124.747207</td>\n      <td>32</td>\n      <td>среднее</td>\n      <td>1</td>\n      <td>женат / замужем</td>\n      <td>0</td>\n      <td>m</td>\n      <td>сотрудник</td>\n      <td>0</td>\n      <td>267628.550329</td>\n      <td>дополнительное образование</td>\n      <td>образование</td>\n    </tr>\n    <tr>\n      <th>4</th>\n      <td>0</td>\n      <td>340266.072047</td>\n      <td>53</td>\n      <td>среднее</td>\n      <td>1</td>\n      <td>женат / замужем</td>\n      <td>1</td>\n      <td>f</td>\n      <td>пенсионер</td>\n      <td>0</td>\n      <td>158616.077870</td>\n      <td>сыграть свадьбу</td>\n      <td>свадьба</td>\n    </tr>\n    <tr>\n      <th>5</th>\n      <td>0</td>\n      <td>926.185831</td>\n      <td>27</td>\n      <td>высшее</td>\n      <td>0</td>\n      <td>женат / замужем</td>\n      <td>1</td>\n      <td>m</td>\n      <td>компаньон</td>\n      <td>0</td>\n      <td>255763.565419</td>\n      <td>покупка жилья</td>\n      <td>жилье</td>\n    </tr>\n    <tr>\n      <th>6</th>\n      <td>0</td>\n      <td>2879.202052</td>\n      <td>43</td>\n      <td>высшее</td>\n      <td>0</td>\n      <td>женат / замужем</td>\n      <td>0</td>\n      <td>f</td>\n      <td>компаньон</td>\n      <td>0</td>\n      <td>240525.971920</td>\n      <td>операции с жильем</td>\n      <td>жилье</td>\n    </tr>\n    <tr>\n      <th>7</th>\n      <td>0</td>\n      <td>152.779569</td>\n      <td>50</td>\n      <td>среднее</td>\n      <td>1</td>\n      <td>женат / замужем</td>\n      <td>0</td>\n      <td>m</td>\n      <td>сотрудник</td>\n      <td>0</td>\n      <td>135823.934197</td>\n      <td>образование</td>\n      <td>образование</td>\n    </tr>\n    <tr>\n      <th>8</th>\n      <td>2</td>\n      <td>6929.865299</td>\n      <td>35</td>\n      <td>высшее</td>\n      <td>0</td>\n      <td>женат / замужем</td>\n      <td>1</td>\n      <td>f</td>\n      <td>сотрудник</td>\n      <td>0</td>\n      <td>95856.832424</td>\n      <td>на проведение свадьбы</td>\n      <td>свадьба</td>\n    </tr>\n    <tr>\n      <th>9</th>\n      <td>0</td>\n      <td>2188.756445</td>\n      <td>41</td>\n      <td>среднее</td>\n      <td>1</td>\n      <td>женат / замужем</td>\n      <td>0</td>\n      <td>m</td>\n      <td>сотрудник</td>\n      <td>0</td>\n      <td>144425.938277</td>\n      <td>покупка жилья для семьи</td>\n      <td>жилье</td>\n    </tr>\n  </tbody>\n</table>\n</div>"
     },
     "execution_count": 29,
     "metadata": {},
     "output_type": "execute_result"
    }
   ],
   "source": [
    "data.head(10)"
   ]
  },
  {
   "cell_type": "code",
   "execution_count": 30,
   "metadata": {
    "ExecuteTime": {
     "end_time": "2023-11-27T13:30:55.368036Z",
     "start_time": "2023-11-27T13:30:55.275346Z"
    }
   },
   "outputs": [
    {
     "name": "stdout",
     "output_type": "stream",
     "text": [
      "недвижимость    10811\n",
      "автомобиль       4306\n",
      "образование      4013\n",
      "свадьба          2324\n",
      "Name: purpose_unique, dtype: int64\n",
      "The sum of the values is equal to: 21454\n",
      "Total rows in the table: 21454\n"
     ]
    }
   ],
   "source": [
    "data.loc[data['purpose_unique'] == 'жилье', 'purpose_unique'] = 'недвижимость'\n",
    "print(data['purpose_unique'].value_counts())\n",
    "print(f\"The sum of the values is equal to: {data['purpose_unique'].value_counts().sum()}\")\n",
    "print(f'Total rows in the table: {data.shape[0]}')"
   ]
  },
  {
   "cell_type": "markdown",
   "metadata": {},
   "source": [
    "#### Conclusion"
   ]
  },
  {
   "cell_type": "markdown",
   "metadata": {},
   "source": [
    "We have a column with a single word for the reason for taking a loan from a customer's proposal."
   ]
  },
  {
   "cell_type": "markdown",
   "metadata": {},
   "source": [
    "### Data categorization"
   ]
  },
  {
   "cell_type": "markdown",
   "metadata": {},
   "source": [
    "Data categorization is divided into two types: categorization by type and categorization by data merging."
   ]
  },
  {
   "cell_type": "code",
   "execution_count": 31,
   "metadata": {
    "ExecuteTime": {
     "end_time": "2023-11-27T13:30:55.865118Z",
     "start_time": "2023-11-27T13:30:55.372547Z"
    }
   },
   "outputs": [
    {
     "name": "stdout",
     "output_type": "stream",
     "text": [
      "<class 'pandas.core.frame.DataFrame'>\n",
      "RangeIndex: 21454 entries, 0 to 21453\n",
      "Data columns (total 13 columns):\n",
      " #   Column            Non-Null Count  Dtype  \n",
      "---  ------            --------------  -----  \n",
      " 0   children          21454 non-null  int64  \n",
      " 1   days_employed     21454 non-null  float64\n",
      " 2   dob_years         21454 non-null  int64  \n",
      " 3   education         21454 non-null  object \n",
      " 4   education_id      21454 non-null  int64  \n",
      " 5   family_status     21454 non-null  object \n",
      " 6   family_status_id  21454 non-null  int64  \n",
      " 7   gender            21453 non-null  object \n",
      " 8   income_type       21454 non-null  object \n",
      " 9   debt              21454 non-null  int64  \n",
      " 10  total_income      21454 non-null  float64\n",
      " 11  purpose           21454 non-null  object \n",
      " 12  purpose_unique    21454 non-null  object \n",
      "dtypes: float64(2), int64(5), object(6)\n",
      "memory usage: 2.1+ MB\n"
     ]
    }
   ],
   "source": [
    "data.info()"
   ]
  },
  {
   "cell_type": "markdown",
   "metadata": {},
   "source": [
    "The following table columns fall under categorization by type: family_status, education, income_type, purpose_unique.\n",
    "The following columns are categorized by data aggregation: children, dob_years."
   ]
  },
  {
   "cell_type": "markdown",
   "metadata": {},
   "source": [
    "In the purpose_unique column, let's name one word: real estate and housing."
   ]
  },
  {
   "cell_type": "code",
   "execution_count": 32,
   "metadata": {
    "ExecuteTime": {
     "end_time": "2023-11-27T13:30:55.866110Z",
     "start_time": "2023-11-27T13:30:55.489178Z"
    }
   },
   "outputs": [
    {
     "data": {
      "text/plain": "недвижимость    10811\nавтомобиль       4306\nобразование      4013\nсвадьба          2324\nName: purpose_unique, dtype: int64"
     },
     "execution_count": 32,
     "metadata": {},
     "output_type": "execute_result"
    }
   ],
   "source": [
    "data.loc[data['purpose_unique'] == 'жилье', 'purpose_unique'] = 'недвижимость'\n",
    "data['purpose_unique'].value_counts()"
   ]
  },
  {
   "cell_type": "markdown",
   "metadata": {},
   "source": [
    "Let's make the following categorization of data - according to the number of children in the family we can divide it into childless (0 children), small (1-2 children) and large (3+ children)."
   ]
  },
  {
   "cell_type": "markdown",
   "metadata": {},
   "source": [
    "Do unmarried/unmarried people have children?"
   ]
  },
  {
   "cell_type": "code",
   "execution_count": 33,
   "metadata": {
    "ExecuteTime": {
     "end_time": "2023-11-27T13:30:55.866915Z",
     "start_time": "2023-11-27T13:30:55.521481Z"
    }
   },
   "outputs": [
    {
     "data": {
      "text/plain": " 0     2262\n 1      449\n 2       75\n 20       9\n 3        8\n-1        5\n 4        2\nName: children, dtype: int64"
     },
     "execution_count": 33,
     "metadata": {},
     "output_type": "execute_result"
    }
   ],
   "source": [
    "data.loc[data['family_status'] == 'не женат / не замужем', 'children'].value_counts()"
   ]
  },
  {
   "cell_type": "markdown",
   "metadata": {},
   "source": [
    "Yes, there are children, and some even have 20 children! Some have -1 child :) It's worth looking at all people, not a sample of unmarried/unmarried people."
   ]
  },
  {
   "cell_type": "code",
   "execution_count": 34,
   "metadata": {
    "ExecuteTime": {
     "end_time": "2023-11-27T13:30:55.867584Z",
     "start_time": "2023-11-27T13:30:55.545101Z"
    }
   },
   "outputs": [
    {
     "data": {
      "text/plain": " 0     14091\n 1      4808\n 2      2052\n 3       330\n 20       76\n-1        47\n 4        41\n 5         9\nName: children, dtype: int64"
     },
     "execution_count": 34,
     "metadata": {},
     "output_type": "execute_result"
    }
   ],
   "source": [
    "data['children'].value_counts()"
   ]
  },
  {
   "cell_type": "markdown",
   "metadata": {},
   "source": [
    "The 20 children can be explained very simply: a 0 was added to the number 2 during data entry or data unloading. Where the -1 child was assigned a '-' when uploading-loading the data. Both of these errors could have been the result of a technical problem or human error. Let's fix it."
   ]
  },
  {
   "cell_type": "code",
   "execution_count": 35,
   "metadata": {
    "ExecuteTime": {
     "end_time": "2023-11-27T13:30:55.868311Z",
     "start_time": "2023-11-27T13:30:55.571539Z"
    }
   },
   "outputs": [
    {
     "data": {
      "text/plain": "0    14091\n1     4855\n2     2128\n3      330\n4       41\n5        9\nName: children, dtype: int64"
     },
     "execution_count": 35,
     "metadata": {},
     "output_type": "execute_result"
    }
   ],
   "source": [
    "data.loc[data['children'] == 20, 'children'] = 2\n",
    "data.loc[data['children'] == -1, 'children'] = 1\n",
    "data['children'].value_counts()"
   ]
  },
  {
   "cell_type": "code",
   "execution_count": 36,
   "metadata": {
    "ExecuteTime": {
     "end_time": "2023-11-27T13:30:56.624802Z",
     "start_time": "2023-11-27T13:30:55.587723Z"
    }
   },
   "outputs": [
    {
     "data": {
      "text/plain": "   children  days_employed  dob_years education  education_id  \\\n0         1    8437.673028         42    высшее             0   \n1         1    4024.803754         36   среднее             1   \n2         0    5623.422610         33   среднее             1   \n3         3    4124.747207         32   среднее             1   \n4         0  340266.072047         53   среднее             1   \n5         0     926.185831         27    высшее             0   \n6         0    2879.202052         43    высшее             0   \n7         0     152.779569         50   среднее             1   \n8         2    6929.865299         35    высшее             0   \n9         0    2188.756445         41   среднее             1   \n\n     family_status  family_status_id gender income_type  debt   total_income  \\\n0  женат / замужем                 0      f   сотрудник     0  253875.639453   \n1  женат / замужем                 0      f   сотрудник     0  112080.014102   \n2  женат / замужем                 0      m   сотрудник     0  145885.952297   \n3  женат / замужем                 0      m   сотрудник     0  267628.550329   \n4  женат / замужем                 1      f   пенсионер     0  158616.077870   \n5  женат / замужем                 1      m   компаньон     0  255763.565419   \n6  женат / замужем                 0      f   компаньон     0  240525.971920   \n7  женат / замужем                 0      m   сотрудник     0  135823.934197   \n8  женат / замужем                 1      f   сотрудник     0   95856.832424   \n9  женат / замужем                 0      m   сотрудник     0  144425.938277   \n\n                      purpose purpose_unique family_type_by_children_parents  \n0               покупка жилья   недвижимость         полная малодетная семья  \n1     приобретение автомобиля     автомобиль         полная малодетная семья  \n2               покупка жилья   недвижимость                        Не семья  \n3  дополнительное образование    образование        полная многодетная семья  \n4             сыграть свадьбу        свадьба                        Не семья  \n5               покупка жилья   недвижимость                        Не семья  \n6           операции с жильем   недвижимость                        Не семья  \n7                 образование    образование                        Не семья  \n8       на проведение свадьбы        свадьба         полная малодетная семья  \n9     покупка жилья для семьи   недвижимость                        Не семья  ",
      "text/html": "<div>\n<style scoped>\n    .dataframe tbody tr th:only-of-type {\n        vertical-align: middle;\n    }\n\n    .dataframe tbody tr th {\n        vertical-align: top;\n    }\n\n    .dataframe thead th {\n        text-align: right;\n    }\n</style>\n<table border=\"1\" class=\"dataframe\">\n  <thead>\n    <tr style=\"text-align: right;\">\n      <th></th>\n      <th>children</th>\n      <th>days_employed</th>\n      <th>dob_years</th>\n      <th>education</th>\n      <th>education_id</th>\n      <th>family_status</th>\n      <th>family_status_id</th>\n      <th>gender</th>\n      <th>income_type</th>\n      <th>debt</th>\n      <th>total_income</th>\n      <th>purpose</th>\n      <th>purpose_unique</th>\n      <th>family_type_by_children_parents</th>\n    </tr>\n  </thead>\n  <tbody>\n    <tr>\n      <th>0</th>\n      <td>1</td>\n      <td>8437.673028</td>\n      <td>42</td>\n      <td>высшее</td>\n      <td>0</td>\n      <td>женат / замужем</td>\n      <td>0</td>\n      <td>f</td>\n      <td>сотрудник</td>\n      <td>0</td>\n      <td>253875.639453</td>\n      <td>покупка жилья</td>\n      <td>недвижимость</td>\n      <td>полная малодетная семья</td>\n    </tr>\n    <tr>\n      <th>1</th>\n      <td>1</td>\n      <td>4024.803754</td>\n      <td>36</td>\n      <td>среднее</td>\n      <td>1</td>\n      <td>женат / замужем</td>\n      <td>0</td>\n      <td>f</td>\n      <td>сотрудник</td>\n      <td>0</td>\n      <td>112080.014102</td>\n      <td>приобретение автомобиля</td>\n      <td>автомобиль</td>\n      <td>полная малодетная семья</td>\n    </tr>\n    <tr>\n      <th>2</th>\n      <td>0</td>\n      <td>5623.422610</td>\n      <td>33</td>\n      <td>среднее</td>\n      <td>1</td>\n      <td>женат / замужем</td>\n      <td>0</td>\n      <td>m</td>\n      <td>сотрудник</td>\n      <td>0</td>\n      <td>145885.952297</td>\n      <td>покупка жилья</td>\n      <td>недвижимость</td>\n      <td>Не семья</td>\n    </tr>\n    <tr>\n      <th>3</th>\n      <td>3</td>\n      <td>4124.747207</td>\n      <td>32</td>\n      <td>среднее</td>\n      <td>1</td>\n      <td>женат / замужем</td>\n      <td>0</td>\n      <td>m</td>\n      <td>сотрудник</td>\n      <td>0</td>\n      <td>267628.550329</td>\n      <td>дополнительное образование</td>\n      <td>образование</td>\n      <td>полная многодетная семья</td>\n    </tr>\n    <tr>\n      <th>4</th>\n      <td>0</td>\n      <td>340266.072047</td>\n      <td>53</td>\n      <td>среднее</td>\n      <td>1</td>\n      <td>женат / замужем</td>\n      <td>1</td>\n      <td>f</td>\n      <td>пенсионер</td>\n      <td>0</td>\n      <td>158616.077870</td>\n      <td>сыграть свадьбу</td>\n      <td>свадьба</td>\n      <td>Не семья</td>\n    </tr>\n    <tr>\n      <th>5</th>\n      <td>0</td>\n      <td>926.185831</td>\n      <td>27</td>\n      <td>высшее</td>\n      <td>0</td>\n      <td>женат / замужем</td>\n      <td>1</td>\n      <td>m</td>\n      <td>компаньон</td>\n      <td>0</td>\n      <td>255763.565419</td>\n      <td>покупка жилья</td>\n      <td>недвижимость</td>\n      <td>Не семья</td>\n    </tr>\n    <tr>\n      <th>6</th>\n      <td>0</td>\n      <td>2879.202052</td>\n      <td>43</td>\n      <td>высшее</td>\n      <td>0</td>\n      <td>женат / замужем</td>\n      <td>0</td>\n      <td>f</td>\n      <td>компаньон</td>\n      <td>0</td>\n      <td>240525.971920</td>\n      <td>операции с жильем</td>\n      <td>недвижимость</td>\n      <td>Не семья</td>\n    </tr>\n    <tr>\n      <th>7</th>\n      <td>0</td>\n      <td>152.779569</td>\n      <td>50</td>\n      <td>среднее</td>\n      <td>1</td>\n      <td>женат / замужем</td>\n      <td>0</td>\n      <td>m</td>\n      <td>сотрудник</td>\n      <td>0</td>\n      <td>135823.934197</td>\n      <td>образование</td>\n      <td>образование</td>\n      <td>Не семья</td>\n    </tr>\n    <tr>\n      <th>8</th>\n      <td>2</td>\n      <td>6929.865299</td>\n      <td>35</td>\n      <td>высшее</td>\n      <td>0</td>\n      <td>женат / замужем</td>\n      <td>1</td>\n      <td>f</td>\n      <td>сотрудник</td>\n      <td>0</td>\n      <td>95856.832424</td>\n      <td>на проведение свадьбы</td>\n      <td>свадьба</td>\n      <td>полная малодетная семья</td>\n    </tr>\n    <tr>\n      <th>9</th>\n      <td>0</td>\n      <td>2188.756445</td>\n      <td>41</td>\n      <td>среднее</td>\n      <td>1</td>\n      <td>женат / замужем</td>\n      <td>0</td>\n      <td>m</td>\n      <td>сотрудник</td>\n      <td>0</td>\n      <td>144425.938277</td>\n      <td>покупка жилья для семьи</td>\n      <td>недвижимость</td>\n      <td>Не семья</td>\n    </tr>\n  </tbody>\n</table>\n</div>"
     },
     "execution_count": 36,
     "metadata": {},
     "output_type": "execute_result"
    }
   ],
   "source": [
    "# I consider a complete family: there is one or more child and marital status: married/unmarried, common-law, single/unmarried.\n",
    "# Incomplete family: there is one or more child and marital status: divorced, widow/widower. No family: no child and marital status: any.\n",
    "# Childless family: 0 children, small family: 1-2 children, large family: 3+ children.\n",
    "def family_type_by_children_parents(row):\n",
    "    number_of_childrens = row['children']\n",
    "    family_status = row['family_status']\n",
    "    if number_of_childrens == 0:\n",
    "        return 'Не семья'\n",
    "    if 1 <= number_of_childrens <= 2:\n",
    "        if family_status in ['женат / замужем', 'не женат / не замужем']:\n",
    "            return 'полная малодетная семья'\n",
    "        return 'неполная малодетная семья'\n",
    "    if number_of_childrens > 2:\n",
    "        if family_status in ['женат / замужем', 'не женат / не замужем']:\n",
    "            return 'полная многодетная семья'\n",
    "        return 'неполная многодетная семья'\n",
    "    \n",
    "data['family_type_by_children_parents'] = data.apply(family_type_by_children_parents, axis=1)\n",
    "data.head(10)"
   ]
  },
  {
   "cell_type": "code",
   "execution_count": 37,
   "metadata": {
    "ExecuteTime": {
     "end_time": "2023-11-27T13:30:56.625928Z",
     "start_time": "2023-11-27T13:30:56.362337Z"
    }
   },
   "outputs": [
    {
     "data": {
      "text/plain": "Не семья                      14091\nполная малодетная семья        6479\nнеполная малодетная семья       504\nполная многодетная семья        361\nнеполная многодетная семья       19\nName: family_type_by_children_parents, dtype: int64"
     },
     "execution_count": 37,
     "metadata": {},
     "output_type": "execute_result"
    }
   ],
   "source": [
    "data['family_type_by_children_parents'].value_counts()"
   ]
  },
  {
   "cell_type": "markdown",
   "metadata": {},
   "source": [
    "Let's get rid of data redundancy and simplify data handling. Let's start with family_status."
   ]
  },
  {
   "cell_type": "code",
   "execution_count": 38,
   "metadata": {
    "ExecuteTime": {
     "end_time": "2023-11-27T13:30:56.634379Z",
     "start_time": "2023-11-27T13:30:56.482947Z"
    }
   },
   "outputs": [
    {
     "data": {
      "text/plain": "     family_status  family_status_id\n0  женат / замужем                 0\n1  женат / замужем                 0\n2  женат / замужем                 0\n3  женат / замужем                 0\n4  женат / замужем                 1\n5  женат / замужем                 1\n6  женат / замужем                 0\n7  женат / замужем                 0\n8  женат / замужем                 1\n9  женат / замужем                 0",
      "text/html": "<div>\n<style scoped>\n    .dataframe tbody tr th:only-of-type {\n        vertical-align: middle;\n    }\n\n    .dataframe tbody tr th {\n        vertical-align: top;\n    }\n\n    .dataframe thead th {\n        text-align: right;\n    }\n</style>\n<table border=\"1\" class=\"dataframe\">\n  <thead>\n    <tr style=\"text-align: right;\">\n      <th></th>\n      <th>family_status</th>\n      <th>family_status_id</th>\n    </tr>\n  </thead>\n  <tbody>\n    <tr>\n      <th>0</th>\n      <td>женат / замужем</td>\n      <td>0</td>\n    </tr>\n    <tr>\n      <th>1</th>\n      <td>женат / замужем</td>\n      <td>0</td>\n    </tr>\n    <tr>\n      <th>2</th>\n      <td>женат / замужем</td>\n      <td>0</td>\n    </tr>\n    <tr>\n      <th>3</th>\n      <td>женат / замужем</td>\n      <td>0</td>\n    </tr>\n    <tr>\n      <th>4</th>\n      <td>женат / замужем</td>\n      <td>1</td>\n    </tr>\n    <tr>\n      <th>5</th>\n      <td>женат / замужем</td>\n      <td>1</td>\n    </tr>\n    <tr>\n      <th>6</th>\n      <td>женат / замужем</td>\n      <td>0</td>\n    </tr>\n    <tr>\n      <th>7</th>\n      <td>женат / замужем</td>\n      <td>0</td>\n    </tr>\n    <tr>\n      <th>8</th>\n      <td>женат / замужем</td>\n      <td>1</td>\n    </tr>\n    <tr>\n      <th>9</th>\n      <td>женат / замужем</td>\n      <td>0</td>\n    </tr>\n  </tbody>\n</table>\n</div>"
     },
     "execution_count": 38,
     "metadata": {},
     "output_type": "execute_result"
    }
   ],
   "source": [
    "dict_family_status = data[['family_status', 'family_status_id']] # a dictionary that stores the family status and its index\n",
    "dict_family_status.head(10)"
   ]
  },
  {
   "cell_type": "code",
   "execution_count": 39,
   "metadata": {
    "ExecuteTime": {
     "end_time": "2023-11-27T13:30:56.751113Z",
     "start_time": "2023-11-27T13:30:56.512874Z"
    }
   },
   "outputs": [
    {
     "data": {
      "text/plain": "           family_status  family_status_id\n0        женат / замужем                 0\n1        женат / замужем                 1\n2         вдовец / вдова                 2\n3              в разводе                 3\n4  не женат / не замужем                 4",
      "text/html": "<div>\n<style scoped>\n    .dataframe tbody tr th:only-of-type {\n        vertical-align: middle;\n    }\n\n    .dataframe tbody tr th {\n        vertical-align: top;\n    }\n\n    .dataframe thead th {\n        text-align: right;\n    }\n</style>\n<table border=\"1\" class=\"dataframe\">\n  <thead>\n    <tr style=\"text-align: right;\">\n      <th></th>\n      <th>family_status</th>\n      <th>family_status_id</th>\n    </tr>\n  </thead>\n  <tbody>\n    <tr>\n      <th>0</th>\n      <td>женат / замужем</td>\n      <td>0</td>\n    </tr>\n    <tr>\n      <th>1</th>\n      <td>женат / замужем</td>\n      <td>1</td>\n    </tr>\n    <tr>\n      <th>2</th>\n      <td>вдовец / вдова</td>\n      <td>2</td>\n    </tr>\n    <tr>\n      <th>3</th>\n      <td>в разводе</td>\n      <td>3</td>\n    </tr>\n    <tr>\n      <th>4</th>\n      <td>не женат / не замужем</td>\n      <td>4</td>\n    </tr>\n  </tbody>\n</table>\n</div>"
     },
     "execution_count": 39,
     "metadata": {},
     "output_type": "execute_result"
    }
   ],
   "source": [
    "dict_family_status = dict_family_status.drop_duplicates().reset_index(drop=True)\n",
    "dict_family_status.head(10)"
   ]
  },
  {
   "cell_type": "markdown",
   "metadata": {},
   "source": [
    "Strange that married/married was repeated twice. This error occurred because the civil marriage was replaced and its id was not."
   ]
  },
  {
   "cell_type": "code",
   "execution_count": 40,
   "metadata": {
    "ExecuteTime": {
     "end_time": "2023-11-27T13:30:56.752237Z",
     "start_time": "2023-11-27T13:30:56.588270Z"
    }
   },
   "outputs": [
    {
     "data": {
      "text/plain": "           family_status  family_status_id\n0        женат / замужем                 0\n1         вдовец / вдова                 2\n2              в разводе                 3\n3  не женат / не замужем                 4",
      "text/html": "<div>\n<style scoped>\n    .dataframe tbody tr th:only-of-type {\n        vertical-align: middle;\n    }\n\n    .dataframe tbody tr th {\n        vertical-align: top;\n    }\n\n    .dataframe thead th {\n        text-align: right;\n    }\n</style>\n<table border=\"1\" class=\"dataframe\">\n  <thead>\n    <tr style=\"text-align: right;\">\n      <th></th>\n      <th>family_status</th>\n      <th>family_status_id</th>\n    </tr>\n  </thead>\n  <tbody>\n    <tr>\n      <th>0</th>\n      <td>женат / замужем</td>\n      <td>0</td>\n    </tr>\n    <tr>\n      <th>1</th>\n      <td>вдовец / вдова</td>\n      <td>2</td>\n    </tr>\n    <tr>\n      <th>2</th>\n      <td>в разводе</td>\n      <td>3</td>\n    </tr>\n    <tr>\n      <th>3</th>\n      <td>не женат / не замужем</td>\n      <td>4</td>\n    </tr>\n  </tbody>\n</table>\n</div>"
     },
     "execution_count": 40,
     "metadata": {},
     "output_type": "execute_result"
    }
   ],
   "source": [
    "data.loc[data['family_status_id'] == 1, 'family_status_id'] = 0\n",
    "dict_family_status = data[['family_status', 'family_status_id']]\n",
    "dict_family_status = dict_family_status.drop_duplicates().reset_index(drop=True)\n",
    "dict_family_status.head(10)"
   ]
  },
  {
   "cell_type": "code",
   "execution_count": 41,
   "metadata": {
    "ExecuteTime": {
     "end_time": "2023-11-27T13:30:56.798063Z",
     "start_time": "2023-11-27T13:30:56.616887Z"
    }
   },
   "outputs": [
    {
     "data": {
      "text/plain": "   children  days_employed  dob_years education  education_id  \\\n0         1    8437.673028         42    высшее             0   \n1         1    4024.803754         36   среднее             1   \n2         0    5623.422610         33   среднее             1   \n3         3    4124.747207         32   среднее             1   \n4         0  340266.072047         53   среднее             1   \n\n   family_status_id gender income_type  debt   total_income  \\\n0                 0      f   сотрудник     0  253875.639453   \n1                 0      f   сотрудник     0  112080.014102   \n2                 0      m   сотрудник     0  145885.952297   \n3                 0      m   сотрудник     0  267628.550329   \n4                 0      f   пенсионер     0  158616.077870   \n\n                      purpose purpose_unique family_type_by_children_parents  \n0               покупка жилья   недвижимость         полная малодетная семья  \n1     приобретение автомобиля     автомобиль         полная малодетная семья  \n2               покупка жилья   недвижимость                        Не семья  \n3  дополнительное образование    образование        полная многодетная семья  \n4             сыграть свадьбу        свадьба                        Не семья  ",
      "text/html": "<div>\n<style scoped>\n    .dataframe tbody tr th:only-of-type {\n        vertical-align: middle;\n    }\n\n    .dataframe tbody tr th {\n        vertical-align: top;\n    }\n\n    .dataframe thead th {\n        text-align: right;\n    }\n</style>\n<table border=\"1\" class=\"dataframe\">\n  <thead>\n    <tr style=\"text-align: right;\">\n      <th></th>\n      <th>children</th>\n      <th>days_employed</th>\n      <th>dob_years</th>\n      <th>education</th>\n      <th>education_id</th>\n      <th>family_status_id</th>\n      <th>gender</th>\n      <th>income_type</th>\n      <th>debt</th>\n      <th>total_income</th>\n      <th>purpose</th>\n      <th>purpose_unique</th>\n      <th>family_type_by_children_parents</th>\n    </tr>\n  </thead>\n  <tbody>\n    <tr>\n      <th>0</th>\n      <td>1</td>\n      <td>8437.673028</td>\n      <td>42</td>\n      <td>высшее</td>\n      <td>0</td>\n      <td>0</td>\n      <td>f</td>\n      <td>сотрудник</td>\n      <td>0</td>\n      <td>253875.639453</td>\n      <td>покупка жилья</td>\n      <td>недвижимость</td>\n      <td>полная малодетная семья</td>\n    </tr>\n    <tr>\n      <th>1</th>\n      <td>1</td>\n      <td>4024.803754</td>\n      <td>36</td>\n      <td>среднее</td>\n      <td>1</td>\n      <td>0</td>\n      <td>f</td>\n      <td>сотрудник</td>\n      <td>0</td>\n      <td>112080.014102</td>\n      <td>приобретение автомобиля</td>\n      <td>автомобиль</td>\n      <td>полная малодетная семья</td>\n    </tr>\n    <tr>\n      <th>2</th>\n      <td>0</td>\n      <td>5623.422610</td>\n      <td>33</td>\n      <td>среднее</td>\n      <td>1</td>\n      <td>0</td>\n      <td>m</td>\n      <td>сотрудник</td>\n      <td>0</td>\n      <td>145885.952297</td>\n      <td>покупка жилья</td>\n      <td>недвижимость</td>\n      <td>Не семья</td>\n    </tr>\n    <tr>\n      <th>3</th>\n      <td>3</td>\n      <td>4124.747207</td>\n      <td>32</td>\n      <td>среднее</td>\n      <td>1</td>\n      <td>0</td>\n      <td>m</td>\n      <td>сотрудник</td>\n      <td>0</td>\n      <td>267628.550329</td>\n      <td>дополнительное образование</td>\n      <td>образование</td>\n      <td>полная многодетная семья</td>\n    </tr>\n    <tr>\n      <th>4</th>\n      <td>0</td>\n      <td>340266.072047</td>\n      <td>53</td>\n      <td>среднее</td>\n      <td>1</td>\n      <td>0</td>\n      <td>f</td>\n      <td>пенсионер</td>\n      <td>0</td>\n      <td>158616.077870</td>\n      <td>сыграть свадьбу</td>\n      <td>свадьба</td>\n      <td>Не семья</td>\n    </tr>\n  </tbody>\n</table>\n</div>"
     },
     "execution_count": 41,
     "metadata": {},
     "output_type": "execute_result"
    }
   ],
   "source": [
    "data = data.drop(['family_status'], axis='columns')\n",
    "data.head(5)"
   ]
  },
  {
   "cell_type": "markdown",
   "metadata": {},
   "source": [
    "Likewise with education."
   ]
  },
  {
   "cell_type": "code",
   "execution_count": 42,
   "metadata": {
    "ExecuteTime": {
     "end_time": "2023-11-27T13:30:56.798676Z",
     "start_time": "2023-11-27T13:30:56.652238Z"
    }
   },
   "outputs": [],
   "source": [
    "try:\n",
    "    dict_education = data[['education', 'education_id']]\n",
    "    dict_education = dict_education.drop_duplicates().reset_index(drop=True)\n",
    "    data = data.drop(['education'], axis='columns')\n",
    "except:\n",
    "    print('That operations already have been done.')"
   ]
  },
  {
   "cell_type": "code",
   "execution_count": 43,
   "metadata": {
    "ExecuteTime": {
     "end_time": "2023-11-27T13:30:56.955773Z",
     "start_time": "2023-11-27T13:30:56.676642Z"
    }
   },
   "outputs": [
    {
     "data": {
      "text/plain": "             education  education_id\n0               высшее             0\n1              среднее             1\n2  неоконченное высшее             2\n3            начальное             3\n4       ученая степень             4",
      "text/html": "<div>\n<style scoped>\n    .dataframe tbody tr th:only-of-type {\n        vertical-align: middle;\n    }\n\n    .dataframe tbody tr th {\n        vertical-align: top;\n    }\n\n    .dataframe thead th {\n        text-align: right;\n    }\n</style>\n<table border=\"1\" class=\"dataframe\">\n  <thead>\n    <tr style=\"text-align: right;\">\n      <th></th>\n      <th>education</th>\n      <th>education_id</th>\n    </tr>\n  </thead>\n  <tbody>\n    <tr>\n      <th>0</th>\n      <td>высшее</td>\n      <td>0</td>\n    </tr>\n    <tr>\n      <th>1</th>\n      <td>среднее</td>\n      <td>1</td>\n    </tr>\n    <tr>\n      <th>2</th>\n      <td>неоконченное высшее</td>\n      <td>2</td>\n    </tr>\n    <tr>\n      <th>3</th>\n      <td>начальное</td>\n      <td>3</td>\n    </tr>\n    <tr>\n      <th>4</th>\n      <td>ученая степень</td>\n      <td>4</td>\n    </tr>\n  </tbody>\n</table>\n</div>"
     },
     "execution_count": 43,
     "metadata": {},
     "output_type": "execute_result"
    }
   ],
   "source": [
    "dict_education"
   ]
  },
  {
   "cell_type": "code",
   "execution_count": 44,
   "metadata": {
    "scrolled": true,
    "ExecuteTime": {
     "end_time": "2023-11-27T13:30:56.957112Z",
     "start_time": "2023-11-27T13:30:56.690581Z"
    }
   },
   "outputs": [
    {
     "data": {
      "text/plain": "   children  days_employed  dob_years  education_id  family_status_id gender  \\\n0         1    8437.673028         42             0                 0      f   \n1         1    4024.803754         36             1                 0      f   \n2         0    5623.422610         33             1                 0      m   \n3         3    4124.747207         32             1                 0      m   \n4         0  340266.072047         53             1                 0      f   \n\n  income_type  debt   total_income                     purpose purpose_unique  \\\n0   сотрудник     0  253875.639453               покупка жилья   недвижимость   \n1   сотрудник     0  112080.014102     приобретение автомобиля     автомобиль   \n2   сотрудник     0  145885.952297               покупка жилья   недвижимость   \n3   сотрудник     0  267628.550329  дополнительное образование    образование   \n4   пенсионер     0  158616.077870             сыграть свадьбу        свадьба   \n\n  family_type_by_children_parents  \n0         полная малодетная семья  \n1         полная малодетная семья  \n2                        Не семья  \n3        полная многодетная семья  \n4                        Не семья  ",
      "text/html": "<div>\n<style scoped>\n    .dataframe tbody tr th:only-of-type {\n        vertical-align: middle;\n    }\n\n    .dataframe tbody tr th {\n        vertical-align: top;\n    }\n\n    .dataframe thead th {\n        text-align: right;\n    }\n</style>\n<table border=\"1\" class=\"dataframe\">\n  <thead>\n    <tr style=\"text-align: right;\">\n      <th></th>\n      <th>children</th>\n      <th>days_employed</th>\n      <th>dob_years</th>\n      <th>education_id</th>\n      <th>family_status_id</th>\n      <th>gender</th>\n      <th>income_type</th>\n      <th>debt</th>\n      <th>total_income</th>\n      <th>purpose</th>\n      <th>purpose_unique</th>\n      <th>family_type_by_children_parents</th>\n    </tr>\n  </thead>\n  <tbody>\n    <tr>\n      <th>0</th>\n      <td>1</td>\n      <td>8437.673028</td>\n      <td>42</td>\n      <td>0</td>\n      <td>0</td>\n      <td>f</td>\n      <td>сотрудник</td>\n      <td>0</td>\n      <td>253875.639453</td>\n      <td>покупка жилья</td>\n      <td>недвижимость</td>\n      <td>полная малодетная семья</td>\n    </tr>\n    <tr>\n      <th>1</th>\n      <td>1</td>\n      <td>4024.803754</td>\n      <td>36</td>\n      <td>1</td>\n      <td>0</td>\n      <td>f</td>\n      <td>сотрудник</td>\n      <td>0</td>\n      <td>112080.014102</td>\n      <td>приобретение автомобиля</td>\n      <td>автомобиль</td>\n      <td>полная малодетная семья</td>\n    </tr>\n    <tr>\n      <th>2</th>\n      <td>0</td>\n      <td>5623.422610</td>\n      <td>33</td>\n      <td>1</td>\n      <td>0</td>\n      <td>m</td>\n      <td>сотрудник</td>\n      <td>0</td>\n      <td>145885.952297</td>\n      <td>покупка жилья</td>\n      <td>недвижимость</td>\n      <td>Не семья</td>\n    </tr>\n    <tr>\n      <th>3</th>\n      <td>3</td>\n      <td>4124.747207</td>\n      <td>32</td>\n      <td>1</td>\n      <td>0</td>\n      <td>m</td>\n      <td>сотрудник</td>\n      <td>0</td>\n      <td>267628.550329</td>\n      <td>дополнительное образование</td>\n      <td>образование</td>\n      <td>полная многодетная семья</td>\n    </tr>\n    <tr>\n      <th>4</th>\n      <td>0</td>\n      <td>340266.072047</td>\n      <td>53</td>\n      <td>1</td>\n      <td>0</td>\n      <td>f</td>\n      <td>пенсионер</td>\n      <td>0</td>\n      <td>158616.077870</td>\n      <td>сыграть свадьбу</td>\n      <td>свадьба</td>\n      <td>Не семья</td>\n    </tr>\n  </tbody>\n</table>\n</div>"
     },
     "execution_count": 44,
     "metadata": {},
     "output_type": "execute_result"
    }
   ],
   "source": [
    "data.head(5)"
   ]
  },
  {
   "cell_type": "markdown",
   "metadata": {},
   "source": [
    "I will do the same with the income_type, purpose_unique and family_type_by_children_parents columns, but before that I will add the id columns to the data table."
   ]
  },
  {
   "cell_type": "code",
   "execution_count": 45,
   "metadata": {
    "ExecuteTime": {
     "end_time": "2023-11-27T13:30:57.000757Z",
     "start_time": "2023-11-27T13:30:56.715323Z"
    }
   },
   "outputs": [
    {
     "data": {
      "text/plain": "   children  days_employed  dob_years  education_id  family_status_id gender  \\\n0         1    8437.673028         42             0                 0      f   \n1         1    4024.803754         36             1                 0      f   \n2         0    5623.422610         33             1                 0      m   \n3         3    4124.747207         32             1                 0      m   \n4         0  340266.072047         53             1                 0      f   \n\n  income_type  debt   total_income                     purpose purpose_unique  \\\n0   сотрудник     0  253875.639453               покупка жилья   недвижимость   \n1   сотрудник     0  112080.014102     приобретение автомобиля     автомобиль   \n2   сотрудник     0  145885.952297               покупка жилья   недвижимость   \n3   сотрудник     0  267628.550329  дополнительное образование    образование   \n4   пенсионер     0  158616.077870             сыграть свадьбу        свадьба   \n\n  family_type_by_children_parents  income_type_id  \n0         полная малодетная семья             0.0  \n1         полная малодетная семья             0.0  \n2                        Не семья             0.0  \n3        полная многодетная семья             0.0  \n4                        Не семья             1.0  ",
      "text/html": "<div>\n<style scoped>\n    .dataframe tbody tr th:only-of-type {\n        vertical-align: middle;\n    }\n\n    .dataframe tbody tr th {\n        vertical-align: top;\n    }\n\n    .dataframe thead th {\n        text-align: right;\n    }\n</style>\n<table border=\"1\" class=\"dataframe\">\n  <thead>\n    <tr style=\"text-align: right;\">\n      <th></th>\n      <th>children</th>\n      <th>days_employed</th>\n      <th>dob_years</th>\n      <th>education_id</th>\n      <th>family_status_id</th>\n      <th>gender</th>\n      <th>income_type</th>\n      <th>debt</th>\n      <th>total_income</th>\n      <th>purpose</th>\n      <th>purpose_unique</th>\n      <th>family_type_by_children_parents</th>\n      <th>income_type_id</th>\n    </tr>\n  </thead>\n  <tbody>\n    <tr>\n      <th>0</th>\n      <td>1</td>\n      <td>8437.673028</td>\n      <td>42</td>\n      <td>0</td>\n      <td>0</td>\n      <td>f</td>\n      <td>сотрудник</td>\n      <td>0</td>\n      <td>253875.639453</td>\n      <td>покупка жилья</td>\n      <td>недвижимость</td>\n      <td>полная малодетная семья</td>\n      <td>0.0</td>\n    </tr>\n    <tr>\n      <th>1</th>\n      <td>1</td>\n      <td>4024.803754</td>\n      <td>36</td>\n      <td>1</td>\n      <td>0</td>\n      <td>f</td>\n      <td>сотрудник</td>\n      <td>0</td>\n      <td>112080.014102</td>\n      <td>приобретение автомобиля</td>\n      <td>автомобиль</td>\n      <td>полная малодетная семья</td>\n      <td>0.0</td>\n    </tr>\n    <tr>\n      <th>2</th>\n      <td>0</td>\n      <td>5623.422610</td>\n      <td>33</td>\n      <td>1</td>\n      <td>0</td>\n      <td>m</td>\n      <td>сотрудник</td>\n      <td>0</td>\n      <td>145885.952297</td>\n      <td>покупка жилья</td>\n      <td>недвижимость</td>\n      <td>Не семья</td>\n      <td>0.0</td>\n    </tr>\n    <tr>\n      <th>3</th>\n      <td>3</td>\n      <td>4124.747207</td>\n      <td>32</td>\n      <td>1</td>\n      <td>0</td>\n      <td>m</td>\n      <td>сотрудник</td>\n      <td>0</td>\n      <td>267628.550329</td>\n      <td>дополнительное образование</td>\n      <td>образование</td>\n      <td>полная многодетная семья</td>\n      <td>0.0</td>\n    </tr>\n    <tr>\n      <th>4</th>\n      <td>0</td>\n      <td>340266.072047</td>\n      <td>53</td>\n      <td>1</td>\n      <td>0</td>\n      <td>f</td>\n      <td>пенсионер</td>\n      <td>0</td>\n      <td>158616.077870</td>\n      <td>сыграть свадьбу</td>\n      <td>свадьба</td>\n      <td>Не семья</td>\n      <td>1.0</td>\n    </tr>\n  </tbody>\n</table>\n</div>"
     },
     "execution_count": 45,
     "metadata": {},
     "output_type": "execute_result"
    }
   ],
   "source": [
    "list_income_type = data['income_type'].unique()\n",
    "for i in range(len(list_income_type)):\n",
    "    data.loc[data['income_type'] == list_income_type[i], 'income_type_id'] = i\n",
    "data.head(5)"
   ]
  },
  {
   "cell_type": "code",
   "execution_count": 46,
   "metadata": {
    "ExecuteTime": {
     "end_time": "2023-11-27T13:30:57.279805Z",
     "start_time": "2023-11-27T13:30:56.771905Z"
    }
   },
   "outputs": [
    {
     "data": {
      "text/plain": "       income_type  income_type_id\n0        сотрудник               0\n1        пенсионер               1\n2        компаньон               2\n3      госслужащий               3\n4      безработный               4\n5  предприниматель               5\n6          студент               6\n7        в декрете               7",
      "text/html": "<div>\n<style scoped>\n    .dataframe tbody tr th:only-of-type {\n        vertical-align: middle;\n    }\n\n    .dataframe tbody tr th {\n        vertical-align: top;\n    }\n\n    .dataframe thead th {\n        text-align: right;\n    }\n</style>\n<table border=\"1\" class=\"dataframe\">\n  <thead>\n    <tr style=\"text-align: right;\">\n      <th></th>\n      <th>income_type</th>\n      <th>income_type_id</th>\n    </tr>\n  </thead>\n  <tbody>\n    <tr>\n      <th>0</th>\n      <td>сотрудник</td>\n      <td>0</td>\n    </tr>\n    <tr>\n      <th>1</th>\n      <td>пенсионер</td>\n      <td>1</td>\n    </tr>\n    <tr>\n      <th>2</th>\n      <td>компаньон</td>\n      <td>2</td>\n    </tr>\n    <tr>\n      <th>3</th>\n      <td>госслужащий</td>\n      <td>3</td>\n    </tr>\n    <tr>\n      <th>4</th>\n      <td>безработный</td>\n      <td>4</td>\n    </tr>\n    <tr>\n      <th>5</th>\n      <td>предприниматель</td>\n      <td>5</td>\n    </tr>\n    <tr>\n      <th>6</th>\n      <td>студент</td>\n      <td>6</td>\n    </tr>\n    <tr>\n      <th>7</th>\n      <td>в декрете</td>\n      <td>7</td>\n    </tr>\n  </tbody>\n</table>\n</div>"
     },
     "execution_count": 46,
     "metadata": {},
     "output_type": "execute_result"
    }
   ],
   "source": [
    "data['income_type_id'] = data['income_type_id'].astype('int') # changing the data type from float to integer\n",
    "dict_income_type = data[['income_type', 'income_type_id']]\n",
    "dict_income_type = dict_income_type.drop_duplicates().reset_index(drop=True)\n",
    "data = data.drop(['income_type'], axis='columns')\n",
    "dict_income_type"
   ]
  },
  {
   "cell_type": "code",
   "execution_count": 47,
   "metadata": {
    "scrolled": true,
    "ExecuteTime": {
     "end_time": "2023-11-27T13:30:57.346452Z",
     "start_time": "2023-11-27T13:30:56.811200Z"
    }
   },
   "outputs": [
    {
     "data": {
      "text/plain": "   children  days_employed  dob_years  education_id  family_status_id gender  \\\n0         1    8437.673028         42             0                 0      f   \n1         1    4024.803754         36             1                 0      f   \n2         0    5623.422610         33             1                 0      m   \n3         3    4124.747207         32             1                 0      m   \n4         0  340266.072047         53             1                 0      f   \n\n   debt   total_income                     purpose purpose_unique  \\\n0     0  253875.639453               покупка жилья   недвижимость   \n1     0  112080.014102     приобретение автомобиля     автомобиль   \n2     0  145885.952297               покупка жилья   недвижимость   \n3     0  267628.550329  дополнительное образование    образование   \n4     0  158616.077870             сыграть свадьбу        свадьба   \n\n  family_type_by_children_parents  income_type_id  \n0         полная малодетная семья               0  \n1         полная малодетная семья               0  \n2                        Не семья               0  \n3        полная многодетная семья               0  \n4                        Не семья               1  ",
      "text/html": "<div>\n<style scoped>\n    .dataframe tbody tr th:only-of-type {\n        vertical-align: middle;\n    }\n\n    .dataframe tbody tr th {\n        vertical-align: top;\n    }\n\n    .dataframe thead th {\n        text-align: right;\n    }\n</style>\n<table border=\"1\" class=\"dataframe\">\n  <thead>\n    <tr style=\"text-align: right;\">\n      <th></th>\n      <th>children</th>\n      <th>days_employed</th>\n      <th>dob_years</th>\n      <th>education_id</th>\n      <th>family_status_id</th>\n      <th>gender</th>\n      <th>debt</th>\n      <th>total_income</th>\n      <th>purpose</th>\n      <th>purpose_unique</th>\n      <th>family_type_by_children_parents</th>\n      <th>income_type_id</th>\n    </tr>\n  </thead>\n  <tbody>\n    <tr>\n      <th>0</th>\n      <td>1</td>\n      <td>8437.673028</td>\n      <td>42</td>\n      <td>0</td>\n      <td>0</td>\n      <td>f</td>\n      <td>0</td>\n      <td>253875.639453</td>\n      <td>покупка жилья</td>\n      <td>недвижимость</td>\n      <td>полная малодетная семья</td>\n      <td>0</td>\n    </tr>\n    <tr>\n      <th>1</th>\n      <td>1</td>\n      <td>4024.803754</td>\n      <td>36</td>\n      <td>1</td>\n      <td>0</td>\n      <td>f</td>\n      <td>0</td>\n      <td>112080.014102</td>\n      <td>приобретение автомобиля</td>\n      <td>автомобиль</td>\n      <td>полная малодетная семья</td>\n      <td>0</td>\n    </tr>\n    <tr>\n      <th>2</th>\n      <td>0</td>\n      <td>5623.422610</td>\n      <td>33</td>\n      <td>1</td>\n      <td>0</td>\n      <td>m</td>\n      <td>0</td>\n      <td>145885.952297</td>\n      <td>покупка жилья</td>\n      <td>недвижимость</td>\n      <td>Не семья</td>\n      <td>0</td>\n    </tr>\n    <tr>\n      <th>3</th>\n      <td>3</td>\n      <td>4124.747207</td>\n      <td>32</td>\n      <td>1</td>\n      <td>0</td>\n      <td>m</td>\n      <td>0</td>\n      <td>267628.550329</td>\n      <td>дополнительное образование</td>\n      <td>образование</td>\n      <td>полная многодетная семья</td>\n      <td>0</td>\n    </tr>\n    <tr>\n      <th>4</th>\n      <td>0</td>\n      <td>340266.072047</td>\n      <td>53</td>\n      <td>1</td>\n      <td>0</td>\n      <td>f</td>\n      <td>0</td>\n      <td>158616.077870</td>\n      <td>сыграть свадьбу</td>\n      <td>свадьба</td>\n      <td>Не семья</td>\n      <td>1</td>\n    </tr>\n  </tbody>\n</table>\n</div>"
     },
     "execution_count": 47,
     "metadata": {},
     "output_type": "execute_result"
    }
   ],
   "source": [
    "data.head(5)"
   ]
  },
  {
   "cell_type": "markdown",
   "metadata": {},
   "source": [
    "purpose_unique\n",
    "\n",
    "I'll write functions to make it easier to work with other columns."
   ]
  },
  {
   "cell_type": "code",
   "execution_count": 48,
   "metadata": {
    "scrolled": true,
    "ExecuteTime": {
     "end_time": "2023-11-27T13:30:57.401612Z",
     "start_time": "2023-11-27T13:30:56.835791Z"
    }
   },
   "outputs": [
    {
     "data": {
      "text/plain": "   children  days_employed  dob_years  education_id  family_status_id gender  \\\n0         1    8437.673028         42             0                 0      f   \n1         1    4024.803754         36             1                 0      f   \n2         0    5623.422610         33             1                 0      m   \n3         3    4124.747207         32             1                 0      m   \n4         0  340266.072047         53             1                 0      f   \n\n   debt   total_income                     purpose purpose_unique  \\\n0     0  253875.639453               покупка жилья   недвижимость   \n1     0  112080.014102     приобретение автомобиля     автомобиль   \n2     0  145885.952297               покупка жилья   недвижимость   \n3     0  267628.550329  дополнительное образование    образование   \n4     0  158616.077870             сыграть свадьбу        свадьба   \n\n  family_type_by_children_parents  income_type_id  purpose_unique_id  \n0         полная малодетная семья               0                  0  \n1         полная малодетная семья               0                  1  \n2                        Не семья               0                  0  \n3        полная многодетная семья               0                  2  \n4                        Не семья               1                  3  ",
      "text/html": "<div>\n<style scoped>\n    .dataframe tbody tr th:only-of-type {\n        vertical-align: middle;\n    }\n\n    .dataframe tbody tr th {\n        vertical-align: top;\n    }\n\n    .dataframe thead th {\n        text-align: right;\n    }\n</style>\n<table border=\"1\" class=\"dataframe\">\n  <thead>\n    <tr style=\"text-align: right;\">\n      <th></th>\n      <th>children</th>\n      <th>days_employed</th>\n      <th>dob_years</th>\n      <th>education_id</th>\n      <th>family_status_id</th>\n      <th>gender</th>\n      <th>debt</th>\n      <th>total_income</th>\n      <th>purpose</th>\n      <th>purpose_unique</th>\n      <th>family_type_by_children_parents</th>\n      <th>income_type_id</th>\n      <th>purpose_unique_id</th>\n    </tr>\n  </thead>\n  <tbody>\n    <tr>\n      <th>0</th>\n      <td>1</td>\n      <td>8437.673028</td>\n      <td>42</td>\n      <td>0</td>\n      <td>0</td>\n      <td>f</td>\n      <td>0</td>\n      <td>253875.639453</td>\n      <td>покупка жилья</td>\n      <td>недвижимость</td>\n      <td>полная малодетная семья</td>\n      <td>0</td>\n      <td>0</td>\n    </tr>\n    <tr>\n      <th>1</th>\n      <td>1</td>\n      <td>4024.803754</td>\n      <td>36</td>\n      <td>1</td>\n      <td>0</td>\n      <td>f</td>\n      <td>0</td>\n      <td>112080.014102</td>\n      <td>приобретение автомобиля</td>\n      <td>автомобиль</td>\n      <td>полная малодетная семья</td>\n      <td>0</td>\n      <td>1</td>\n    </tr>\n    <tr>\n      <th>2</th>\n      <td>0</td>\n      <td>5623.422610</td>\n      <td>33</td>\n      <td>1</td>\n      <td>0</td>\n      <td>m</td>\n      <td>0</td>\n      <td>145885.952297</td>\n      <td>покупка жилья</td>\n      <td>недвижимость</td>\n      <td>Не семья</td>\n      <td>0</td>\n      <td>0</td>\n    </tr>\n    <tr>\n      <th>3</th>\n      <td>3</td>\n      <td>4124.747207</td>\n      <td>32</td>\n      <td>1</td>\n      <td>0</td>\n      <td>m</td>\n      <td>0</td>\n      <td>267628.550329</td>\n      <td>дополнительное образование</td>\n      <td>образование</td>\n      <td>полная многодетная семья</td>\n      <td>0</td>\n      <td>2</td>\n    </tr>\n    <tr>\n      <th>4</th>\n      <td>0</td>\n      <td>340266.072047</td>\n      <td>53</td>\n      <td>1</td>\n      <td>0</td>\n      <td>f</td>\n      <td>0</td>\n      <td>158616.077870</td>\n      <td>сыграть свадьбу</td>\n      <td>свадьба</td>\n      <td>Не семья</td>\n      <td>1</td>\n      <td>3</td>\n    </tr>\n  </tbody>\n</table>\n</div>"
     },
     "execution_count": 48,
     "metadata": {},
     "output_type": "execute_result"
    }
   ],
   "source": [
    "def id_column_for_categorical_column(name, df):\n",
    "    list_column_name = df[name].unique()\n",
    "    for i in range(len(list_column_name)):\n",
    "        df.loc[df[name] == list_column_name[i], f'{name}_id'] = i\n",
    "    df[f'{name}_id'] = df[f'{name}_id'].astype('int')\n",
    "    return df\n",
    "    \n",
    "data = id_column_for_categorical_column('purpose_unique', data)\n",
    "data.head(5)"
   ]
  },
  {
   "cell_type": "code",
   "execution_count": 49,
   "metadata": {
    "ExecuteTime": {
     "end_time": "2023-11-27T13:30:57.402787Z",
     "start_time": "2023-11-27T13:30:56.875340Z"
    }
   },
   "outputs": [
    {
     "data": {
      "text/plain": "   purpose_unique_id purpose_unique\n0                  0   недвижимость\n1                  1     автомобиль\n2                  2    образование\n3                  3        свадьба",
      "text/html": "<div>\n<style scoped>\n    .dataframe tbody tr th:only-of-type {\n        vertical-align: middle;\n    }\n\n    .dataframe tbody tr th {\n        vertical-align: top;\n    }\n\n    .dataframe thead th {\n        text-align: right;\n    }\n</style>\n<table border=\"1\" class=\"dataframe\">\n  <thead>\n    <tr style=\"text-align: right;\">\n      <th></th>\n      <th>purpose_unique_id</th>\n      <th>purpose_unique</th>\n    </tr>\n  </thead>\n  <tbody>\n    <tr>\n      <th>0</th>\n      <td>0</td>\n      <td>недвижимость</td>\n    </tr>\n    <tr>\n      <th>1</th>\n      <td>1</td>\n      <td>автомобиль</td>\n    </tr>\n    <tr>\n      <th>2</th>\n      <td>2</td>\n      <td>образование</td>\n    </tr>\n    <tr>\n      <th>3</th>\n      <td>3</td>\n      <td>свадьба</td>\n    </tr>\n  </tbody>\n</table>\n</div>"
     },
     "execution_count": 49,
     "metadata": {},
     "output_type": "execute_result"
    }
   ],
   "source": [
    "def create_dict_for_categorical_column(id_column, column, df):\n",
    "    dict_column = df[[column, id_column]]\n",
    "    dict_column = dict_column.drop_duplicates().reset_index(drop=True)\n",
    "    return dict_column\n",
    "\n",
    "dict_purpose_unique = create_dict_for_categorical_column('purpose_unique', 'purpose_unique_id', data)\n",
    "dict_purpose_unique"
   ]
  },
  {
   "cell_type": "code",
   "execution_count": 50,
   "metadata": {
    "scrolled": true,
    "ExecuteTime": {
     "end_time": "2023-11-27T13:30:57.403970Z",
     "start_time": "2023-11-27T13:30:56.904932Z"
    }
   },
   "outputs": [
    {
     "data": {
      "text/plain": "   children  days_employed  dob_years  education_id  family_status_id gender  \\\n0         1    8437.673028         42             0                 0      f   \n1         1    4024.803754         36             1                 0      f   \n2         0    5623.422610         33             1                 0      m   \n3         3    4124.747207         32             1                 0      m   \n4         0  340266.072047         53             1                 0      f   \n\n   debt   total_income family_type_by_children_parents  income_type_id  \\\n0     0  253875.639453         полная малодетная семья               0   \n1     0  112080.014102         полная малодетная семья               0   \n2     0  145885.952297                        Не семья               0   \n3     0  267628.550329        полная многодетная семья               0   \n4     0  158616.077870                        Не семья               1   \n\n   purpose_unique_id  \n0                  0  \n1                  1  \n2                  0  \n3                  2  \n4                  3  ",
      "text/html": "<div>\n<style scoped>\n    .dataframe tbody tr th:only-of-type {\n        vertical-align: middle;\n    }\n\n    .dataframe tbody tr th {\n        vertical-align: top;\n    }\n\n    .dataframe thead th {\n        text-align: right;\n    }\n</style>\n<table border=\"1\" class=\"dataframe\">\n  <thead>\n    <tr style=\"text-align: right;\">\n      <th></th>\n      <th>children</th>\n      <th>days_employed</th>\n      <th>dob_years</th>\n      <th>education_id</th>\n      <th>family_status_id</th>\n      <th>gender</th>\n      <th>debt</th>\n      <th>total_income</th>\n      <th>family_type_by_children_parents</th>\n      <th>income_type_id</th>\n      <th>purpose_unique_id</th>\n    </tr>\n  </thead>\n  <tbody>\n    <tr>\n      <th>0</th>\n      <td>1</td>\n      <td>8437.673028</td>\n      <td>42</td>\n      <td>0</td>\n      <td>0</td>\n      <td>f</td>\n      <td>0</td>\n      <td>253875.639453</td>\n      <td>полная малодетная семья</td>\n      <td>0</td>\n      <td>0</td>\n    </tr>\n    <tr>\n      <th>1</th>\n      <td>1</td>\n      <td>4024.803754</td>\n      <td>36</td>\n      <td>1</td>\n      <td>0</td>\n      <td>f</td>\n      <td>0</td>\n      <td>112080.014102</td>\n      <td>полная малодетная семья</td>\n      <td>0</td>\n      <td>1</td>\n    </tr>\n    <tr>\n      <th>2</th>\n      <td>0</td>\n      <td>5623.422610</td>\n      <td>33</td>\n      <td>1</td>\n      <td>0</td>\n      <td>m</td>\n      <td>0</td>\n      <td>145885.952297</td>\n      <td>Не семья</td>\n      <td>0</td>\n      <td>0</td>\n    </tr>\n    <tr>\n      <th>3</th>\n      <td>3</td>\n      <td>4124.747207</td>\n      <td>32</td>\n      <td>1</td>\n      <td>0</td>\n      <td>m</td>\n      <td>0</td>\n      <td>267628.550329</td>\n      <td>полная многодетная семья</td>\n      <td>0</td>\n      <td>2</td>\n    </tr>\n    <tr>\n      <th>4</th>\n      <td>0</td>\n      <td>340266.072047</td>\n      <td>53</td>\n      <td>1</td>\n      <td>0</td>\n      <td>f</td>\n      <td>0</td>\n      <td>158616.077870</td>\n      <td>Не семья</td>\n      <td>1</td>\n      <td>3</td>\n    </tr>\n  </tbody>\n</table>\n</div>"
     },
     "execution_count": 50,
     "metadata": {},
     "output_type": "execute_result"
    }
   ],
   "source": [
    "data = data.drop(['purpose', 'purpose_unique'], axis='columns')\n",
    "data.head(5)"
   ]
  },
  {
   "cell_type": "markdown",
   "metadata": {},
   "source": [
    "family_type_by_children_parents"
   ]
  },
  {
   "cell_type": "code",
   "execution_count": 51,
   "metadata": {
    "scrolled": true,
    "ExecuteTime": {
     "end_time": "2023-11-27T13:30:57.405224Z",
     "start_time": "2023-11-27T13:30:56.929255Z"
    }
   },
   "outputs": [
    {
     "data": {
      "text/plain": "   children  days_employed  dob_years  education_id  family_status_id gender  \\\n0         1    8437.673028         42             0                 0      f   \n1         1    4024.803754         36             1                 0      f   \n2         0    5623.422610         33             1                 0      m   \n3         3    4124.747207         32             1                 0      m   \n4         0  340266.072047         53             1                 0      f   \n\n   debt   total_income family_type_by_children_parents  income_type_id  \\\n0     0  253875.639453         полная малодетная семья               0   \n1     0  112080.014102         полная малодетная семья               0   \n2     0  145885.952297                        Не семья               0   \n3     0  267628.550329        полная многодетная семья               0   \n4     0  158616.077870                        Не семья               1   \n\n   purpose_unique_id  family_type_by_children_parents_id  \n0                  0                                   0  \n1                  1                                   0  \n2                  0                                   1  \n3                  2                                   2  \n4                  3                                   1  ",
      "text/html": "<div>\n<style scoped>\n    .dataframe tbody tr th:only-of-type {\n        vertical-align: middle;\n    }\n\n    .dataframe tbody tr th {\n        vertical-align: top;\n    }\n\n    .dataframe thead th {\n        text-align: right;\n    }\n</style>\n<table border=\"1\" class=\"dataframe\">\n  <thead>\n    <tr style=\"text-align: right;\">\n      <th></th>\n      <th>children</th>\n      <th>days_employed</th>\n      <th>dob_years</th>\n      <th>education_id</th>\n      <th>family_status_id</th>\n      <th>gender</th>\n      <th>debt</th>\n      <th>total_income</th>\n      <th>family_type_by_children_parents</th>\n      <th>income_type_id</th>\n      <th>purpose_unique_id</th>\n      <th>family_type_by_children_parents_id</th>\n    </tr>\n  </thead>\n  <tbody>\n    <tr>\n      <th>0</th>\n      <td>1</td>\n      <td>8437.673028</td>\n      <td>42</td>\n      <td>0</td>\n      <td>0</td>\n      <td>f</td>\n      <td>0</td>\n      <td>253875.639453</td>\n      <td>полная малодетная семья</td>\n      <td>0</td>\n      <td>0</td>\n      <td>0</td>\n    </tr>\n    <tr>\n      <th>1</th>\n      <td>1</td>\n      <td>4024.803754</td>\n      <td>36</td>\n      <td>1</td>\n      <td>0</td>\n      <td>f</td>\n      <td>0</td>\n      <td>112080.014102</td>\n      <td>полная малодетная семья</td>\n      <td>0</td>\n      <td>1</td>\n      <td>0</td>\n    </tr>\n    <tr>\n      <th>2</th>\n      <td>0</td>\n      <td>5623.422610</td>\n      <td>33</td>\n      <td>1</td>\n      <td>0</td>\n      <td>m</td>\n      <td>0</td>\n      <td>145885.952297</td>\n      <td>Не семья</td>\n      <td>0</td>\n      <td>0</td>\n      <td>1</td>\n    </tr>\n    <tr>\n      <th>3</th>\n      <td>3</td>\n      <td>4124.747207</td>\n      <td>32</td>\n      <td>1</td>\n      <td>0</td>\n      <td>m</td>\n      <td>0</td>\n      <td>267628.550329</td>\n      <td>полная многодетная семья</td>\n      <td>0</td>\n      <td>2</td>\n      <td>2</td>\n    </tr>\n    <tr>\n      <th>4</th>\n      <td>0</td>\n      <td>340266.072047</td>\n      <td>53</td>\n      <td>1</td>\n      <td>0</td>\n      <td>f</td>\n      <td>0</td>\n      <td>158616.077870</td>\n      <td>Не семья</td>\n      <td>1</td>\n      <td>3</td>\n      <td>1</td>\n    </tr>\n  </tbody>\n</table>\n</div>"
     },
     "execution_count": 51,
     "metadata": {},
     "output_type": "execute_result"
    }
   ],
   "source": [
    "data = id_column_for_categorical_column('family_type_by_children_parents', data)\n",
    "data.head(5)"
   ]
  },
  {
   "cell_type": "code",
   "execution_count": 52,
   "metadata": {
    "scrolled": true,
    "ExecuteTime": {
     "end_time": "2023-11-27T13:30:57.447246Z",
     "start_time": "2023-11-27T13:30:56.979618Z"
    }
   },
   "outputs": [
    {
     "data": {
      "text/plain": "   family_type_by_children_parents_id family_type_by_children_parents\n0                                   0         полная малодетная семья\n1                                   1                        Не семья\n2                                   2        полная многодетная семья\n3                                   3       неполная малодетная семья\n4                                   4      неполная многодетная семья",
      "text/html": "<div>\n<style scoped>\n    .dataframe tbody tr th:only-of-type {\n        vertical-align: middle;\n    }\n\n    .dataframe tbody tr th {\n        vertical-align: top;\n    }\n\n    .dataframe thead th {\n        text-align: right;\n    }\n</style>\n<table border=\"1\" class=\"dataframe\">\n  <thead>\n    <tr style=\"text-align: right;\">\n      <th></th>\n      <th>family_type_by_children_parents_id</th>\n      <th>family_type_by_children_parents</th>\n    </tr>\n  </thead>\n  <tbody>\n    <tr>\n      <th>0</th>\n      <td>0</td>\n      <td>полная малодетная семья</td>\n    </tr>\n    <tr>\n      <th>1</th>\n      <td>1</td>\n      <td>Не семья</td>\n    </tr>\n    <tr>\n      <th>2</th>\n      <td>2</td>\n      <td>полная многодетная семья</td>\n    </tr>\n    <tr>\n      <th>3</th>\n      <td>3</td>\n      <td>неполная малодетная семья</td>\n    </tr>\n    <tr>\n      <th>4</th>\n      <td>4</td>\n      <td>неполная многодетная семья</td>\n    </tr>\n  </tbody>\n</table>\n</div>"
     },
     "execution_count": 52,
     "metadata": {},
     "output_type": "execute_result"
    }
   ],
   "source": [
    "dict_family_type_by_children_parents = create_dict_for_categorical_column('family_type_by_children_parents', 'family_type_by_children_parents_id', data)\n",
    "dict_family_type_by_children_parents"
   ]
  },
  {
   "cell_type": "code",
   "execution_count": 53,
   "metadata": {
    "scrolled": true,
    "ExecuteTime": {
     "end_time": "2023-11-27T13:30:57.491254Z",
     "start_time": "2023-11-27T13:30:57.019868Z"
    }
   },
   "outputs": [
    {
     "data": {
      "text/plain": "   children  days_employed  dob_years  education_id  family_status_id gender  \\\n0         1    8437.673028         42             0                 0      f   \n1         1    4024.803754         36             1                 0      f   \n2         0    5623.422610         33             1                 0      m   \n3         3    4124.747207         32             1                 0      m   \n4         0  340266.072047         53             1                 0      f   \n\n   debt   total_income  income_type_id  purpose_unique_id  \\\n0     0  253875.639453               0                  0   \n1     0  112080.014102               0                  1   \n2     0  145885.952297               0                  0   \n3     0  267628.550329               0                  2   \n4     0  158616.077870               1                  3   \n\n   family_type_by_children_parents_id  \n0                                   0  \n1                                   0  \n2                                   1  \n3                                   2  \n4                                   1  ",
      "text/html": "<div>\n<style scoped>\n    .dataframe tbody tr th:only-of-type {\n        vertical-align: middle;\n    }\n\n    .dataframe tbody tr th {\n        vertical-align: top;\n    }\n\n    .dataframe thead th {\n        text-align: right;\n    }\n</style>\n<table border=\"1\" class=\"dataframe\">\n  <thead>\n    <tr style=\"text-align: right;\">\n      <th></th>\n      <th>children</th>\n      <th>days_employed</th>\n      <th>dob_years</th>\n      <th>education_id</th>\n      <th>family_status_id</th>\n      <th>gender</th>\n      <th>debt</th>\n      <th>total_income</th>\n      <th>income_type_id</th>\n      <th>purpose_unique_id</th>\n      <th>family_type_by_children_parents_id</th>\n    </tr>\n  </thead>\n  <tbody>\n    <tr>\n      <th>0</th>\n      <td>1</td>\n      <td>8437.673028</td>\n      <td>42</td>\n      <td>0</td>\n      <td>0</td>\n      <td>f</td>\n      <td>0</td>\n      <td>253875.639453</td>\n      <td>0</td>\n      <td>0</td>\n      <td>0</td>\n    </tr>\n    <tr>\n      <th>1</th>\n      <td>1</td>\n      <td>4024.803754</td>\n      <td>36</td>\n      <td>1</td>\n      <td>0</td>\n      <td>f</td>\n      <td>0</td>\n      <td>112080.014102</td>\n      <td>0</td>\n      <td>1</td>\n      <td>0</td>\n    </tr>\n    <tr>\n      <th>2</th>\n      <td>0</td>\n      <td>5623.422610</td>\n      <td>33</td>\n      <td>1</td>\n      <td>0</td>\n      <td>m</td>\n      <td>0</td>\n      <td>145885.952297</td>\n      <td>0</td>\n      <td>0</td>\n      <td>1</td>\n    </tr>\n    <tr>\n      <th>3</th>\n      <td>3</td>\n      <td>4124.747207</td>\n      <td>32</td>\n      <td>1</td>\n      <td>0</td>\n      <td>m</td>\n      <td>0</td>\n      <td>267628.550329</td>\n      <td>0</td>\n      <td>2</td>\n      <td>2</td>\n    </tr>\n    <tr>\n      <th>4</th>\n      <td>0</td>\n      <td>340266.072047</td>\n      <td>53</td>\n      <td>1</td>\n      <td>0</td>\n      <td>f</td>\n      <td>0</td>\n      <td>158616.077870</td>\n      <td>1</td>\n      <td>3</td>\n      <td>1</td>\n    </tr>\n  </tbody>\n</table>\n</div>"
     },
     "execution_count": 53,
     "metadata": {},
     "output_type": "execute_result"
    }
   ],
   "source": [
    "data = data.drop(['family_type_by_children_parents'], axis='columns')\n",
    "data.head(5)"
   ]
  },
  {
   "cell_type": "markdown",
   "metadata": {},
   "source": [
    "#### Conclusion"
   ]
  },
  {
   "cell_type": "markdown",
   "metadata": {},
   "source": [
    "Families were categorized by the number of children and parents and categorized by the reason for taking a loan. Also categories by type were put into separate tables: education, family_status, income_type, purpose_unique, family_type_by_children_parents."
   ]
  },
  {
   "cell_type": "markdown",
   "metadata": {},
   "source": [
    "### Additional data exploration"
   ]
  },
  {
   "cell_type": "markdown",
   "metadata": {},
   "source": [
    "It remains to get to know the data in the days_employed and dob_years columns. I will start with days_employed."
   ]
  },
  {
   "cell_type": "markdown",
   "metadata": {},
   "source": [
    "Obviously, a person cannot have a total work record in days at least more than 30000 days exactly (that's 83+ years of working every day). Let's reduce the boundary value to 10000 days (27+ years of work every day)."
   ]
  },
  {
   "cell_type": "code",
   "execution_count": 54,
   "metadata": {
    "ExecuteTime": {
     "end_time": "2023-11-27T13:30:57.767238Z",
     "start_time": "2023-11-27T13:30:57.037383Z"
    }
   },
   "outputs": [
    {
     "data": {
      "text/plain": "(4091, 11)"
     },
     "execution_count": 54,
     "metadata": {},
     "output_type": "execute_result"
    }
   ],
   "source": [
    "data.loc[data['days_employed'] >= 10000].shape"
   ]
  },
  {
   "cell_type": "markdown",
   "metadata": {},
   "source": [
    "Let's look at values that have >= 100000."
   ]
  },
  {
   "cell_type": "code",
   "execution_count": 55,
   "metadata": {
    "ExecuteTime": {
     "end_time": "2023-11-27T13:30:57.768463Z",
     "start_time": "2023-11-27T13:30:57.067811Z"
    }
   },
   "outputs": [
    {
     "data": {
      "text/plain": "(3831, 11)"
     },
     "execution_count": 55,
     "metadata": {},
     "output_type": "execute_result"
    }
   ],
   "source": [
    "data.loc[data['days_employed'] >= 100000].shape"
   ]
  },
  {
   "cell_type": "markdown",
   "metadata": {},
   "source": [
    "There is clearly a data upload-loading error here. Because there can't be such a length of service. To correct this error, let's divide each number in this sample by 100."
   ]
  },
  {
   "cell_type": "code",
   "execution_count": 56,
   "metadata": {
    "scrolled": true,
    "ExecuteTime": {
     "end_time": "2023-11-27T13:30:57.910286Z",
     "start_time": "2023-11-27T13:30:57.087942Z"
    }
   },
   "outputs": [
    {
     "data": {
      "text/plain": "   children  days_employed  dob_years  education_id  family_status_id gender  \\\n0         1    8437.673028         42             0                 0      f   \n1         1    4024.803754         36             1                 0      f   \n2         0    5623.422610         33             1                 0      m   \n3         3    4124.747207         32             1                 0      m   \n4         0    3402.660720         53             1                 0      f   \n\n   debt   total_income  income_type_id  purpose_unique_id  \\\n0     0  253875.639453               0                  0   \n1     0  112080.014102               0                  1   \n2     0  145885.952297               0                  0   \n3     0  267628.550329               0                  2   \n4     0  158616.077870               1                  3   \n\n   family_type_by_children_parents_id  \n0                                   0  \n1                                   0  \n2                                   1  \n3                                   2  \n4                                   1  ",
      "text/html": "<div>\n<style scoped>\n    .dataframe tbody tr th:only-of-type {\n        vertical-align: middle;\n    }\n\n    .dataframe tbody tr th {\n        vertical-align: top;\n    }\n\n    .dataframe thead th {\n        text-align: right;\n    }\n</style>\n<table border=\"1\" class=\"dataframe\">\n  <thead>\n    <tr style=\"text-align: right;\">\n      <th></th>\n      <th>children</th>\n      <th>days_employed</th>\n      <th>dob_years</th>\n      <th>education_id</th>\n      <th>family_status_id</th>\n      <th>gender</th>\n      <th>debt</th>\n      <th>total_income</th>\n      <th>income_type_id</th>\n      <th>purpose_unique_id</th>\n      <th>family_type_by_children_parents_id</th>\n    </tr>\n  </thead>\n  <tbody>\n    <tr>\n      <th>0</th>\n      <td>1</td>\n      <td>8437.673028</td>\n      <td>42</td>\n      <td>0</td>\n      <td>0</td>\n      <td>f</td>\n      <td>0</td>\n      <td>253875.639453</td>\n      <td>0</td>\n      <td>0</td>\n      <td>0</td>\n    </tr>\n    <tr>\n      <th>1</th>\n      <td>1</td>\n      <td>4024.803754</td>\n      <td>36</td>\n      <td>1</td>\n      <td>0</td>\n      <td>f</td>\n      <td>0</td>\n      <td>112080.014102</td>\n      <td>0</td>\n      <td>1</td>\n      <td>0</td>\n    </tr>\n    <tr>\n      <th>2</th>\n      <td>0</td>\n      <td>5623.422610</td>\n      <td>33</td>\n      <td>1</td>\n      <td>0</td>\n      <td>m</td>\n      <td>0</td>\n      <td>145885.952297</td>\n      <td>0</td>\n      <td>0</td>\n      <td>1</td>\n    </tr>\n    <tr>\n      <th>3</th>\n      <td>3</td>\n      <td>4124.747207</td>\n      <td>32</td>\n      <td>1</td>\n      <td>0</td>\n      <td>m</td>\n      <td>0</td>\n      <td>267628.550329</td>\n      <td>0</td>\n      <td>2</td>\n      <td>2</td>\n    </tr>\n    <tr>\n      <th>4</th>\n      <td>0</td>\n      <td>3402.660720</td>\n      <td>53</td>\n      <td>1</td>\n      <td>0</td>\n      <td>f</td>\n      <td>0</td>\n      <td>158616.077870</td>\n      <td>1</td>\n      <td>3</td>\n      <td>1</td>\n    </tr>\n  </tbody>\n</table>\n</div>"
     },
     "execution_count": 56,
     "metadata": {},
     "output_type": "execute_result"
    }
   ],
   "source": [
    "data.loc[data['days_employed'] >= 100000, 'days_employed'] = data.loc[data['days_employed'] >= 100000, 'days_employed'] / 100\n",
    "data.head(5)"
   ]
  },
  {
   "cell_type": "code",
   "execution_count": 57,
   "metadata": {
    "scrolled": false,
    "ExecuteTime": {
     "end_time": "2023-11-27T13:30:57.956284Z",
     "start_time": "2023-11-27T13:30:57.127062Z"
    }
   },
   "outputs": [
    {
     "data": {
      "text/plain": "       children  days_employed  dob_years  education_id  family_status_id  \\\n1539          0   15785.678893         59             0                 4   \n3972          0   15835.725775         64             1                 0   \n4296          0   17615.563266         61             1                 0   \n4318          0   15773.061335         61             1                 0   \n5576          0   15079.216069         55             1                 0   \n7323          0   16593.472817         60             0                 0   \n7725          0   15618.063786         64             1                 0   \n15640         0   15410.040779         65             0                 0   \n16297         1   18388.949901         61             1                 0   \n16786         0   16119.687737         64             1                 0   \n16829         0   15193.032201         57             1                 0   \n17793         0   16264.699501         59             1                 0   \n19729         0   15267.541183         56             1                 0   \n\n      gender  debt   total_income  income_type_id  purpose_unique_id  \\\n1539       f     0  119563.851852               0                  0   \n3972       f     0   96858.531436               2                  3   \n4296       f     0  122560.741753               2                  0   \n4318       f     0  205868.585780               0                  3   \n5576       f     0  178761.373413               3                  0   \n7323       f     0  124697.846781               0                  2   \n7725       f     0  296525.358574               2                  2   \n15640      f     0  188800.068859               0                  0   \n16297      f     0  186178.934089               0                  0   \n16786      f     0   91527.685995               0                  0   \n16829      f     0  194993.882911               3                  0   \n17793      f     0   51238.967133               0                  1   \n19729      m     0  122976.371341               0                  1   \n\n       family_type_by_children_parents_id  \n1539                                    1  \n3972                                    1  \n4296                                    1  \n4318                                    1  \n5576                                    1  \n7323                                    1  \n7725                                    1  \n15640                                   1  \n16297                                   0  \n16786                                   1  \n16829                                   1  \n17793                                   1  \n19729                                   1  ",
      "text/html": "<div>\n<style scoped>\n    .dataframe tbody tr th:only-of-type {\n        vertical-align: middle;\n    }\n\n    .dataframe tbody tr th {\n        vertical-align: top;\n    }\n\n    .dataframe thead th {\n        text-align: right;\n    }\n</style>\n<table border=\"1\" class=\"dataframe\">\n  <thead>\n    <tr style=\"text-align: right;\">\n      <th></th>\n      <th>children</th>\n      <th>days_employed</th>\n      <th>dob_years</th>\n      <th>education_id</th>\n      <th>family_status_id</th>\n      <th>gender</th>\n      <th>debt</th>\n      <th>total_income</th>\n      <th>income_type_id</th>\n      <th>purpose_unique_id</th>\n      <th>family_type_by_children_parents_id</th>\n    </tr>\n  </thead>\n  <tbody>\n    <tr>\n      <th>1539</th>\n      <td>0</td>\n      <td>15785.678893</td>\n      <td>59</td>\n      <td>0</td>\n      <td>4</td>\n      <td>f</td>\n      <td>0</td>\n      <td>119563.851852</td>\n      <td>0</td>\n      <td>0</td>\n      <td>1</td>\n    </tr>\n    <tr>\n      <th>3972</th>\n      <td>0</td>\n      <td>15835.725775</td>\n      <td>64</td>\n      <td>1</td>\n      <td>0</td>\n      <td>f</td>\n      <td>0</td>\n      <td>96858.531436</td>\n      <td>2</td>\n      <td>3</td>\n      <td>1</td>\n    </tr>\n    <tr>\n      <th>4296</th>\n      <td>0</td>\n      <td>17615.563266</td>\n      <td>61</td>\n      <td>1</td>\n      <td>0</td>\n      <td>f</td>\n      <td>0</td>\n      <td>122560.741753</td>\n      <td>2</td>\n      <td>0</td>\n      <td>1</td>\n    </tr>\n    <tr>\n      <th>4318</th>\n      <td>0</td>\n      <td>15773.061335</td>\n      <td>61</td>\n      <td>1</td>\n      <td>0</td>\n      <td>f</td>\n      <td>0</td>\n      <td>205868.585780</td>\n      <td>0</td>\n      <td>3</td>\n      <td>1</td>\n    </tr>\n    <tr>\n      <th>5576</th>\n      <td>0</td>\n      <td>15079.216069</td>\n      <td>55</td>\n      <td>1</td>\n      <td>0</td>\n      <td>f</td>\n      <td>0</td>\n      <td>178761.373413</td>\n      <td>3</td>\n      <td>0</td>\n      <td>1</td>\n    </tr>\n    <tr>\n      <th>7323</th>\n      <td>0</td>\n      <td>16593.472817</td>\n      <td>60</td>\n      <td>0</td>\n      <td>0</td>\n      <td>f</td>\n      <td>0</td>\n      <td>124697.846781</td>\n      <td>0</td>\n      <td>2</td>\n      <td>1</td>\n    </tr>\n    <tr>\n      <th>7725</th>\n      <td>0</td>\n      <td>15618.063786</td>\n      <td>64</td>\n      <td>1</td>\n      <td>0</td>\n      <td>f</td>\n      <td>0</td>\n      <td>296525.358574</td>\n      <td>2</td>\n      <td>2</td>\n      <td>1</td>\n    </tr>\n    <tr>\n      <th>15640</th>\n      <td>0</td>\n      <td>15410.040779</td>\n      <td>65</td>\n      <td>0</td>\n      <td>0</td>\n      <td>f</td>\n      <td>0</td>\n      <td>188800.068859</td>\n      <td>0</td>\n      <td>0</td>\n      <td>1</td>\n    </tr>\n    <tr>\n      <th>16297</th>\n      <td>1</td>\n      <td>18388.949901</td>\n      <td>61</td>\n      <td>1</td>\n      <td>0</td>\n      <td>f</td>\n      <td>0</td>\n      <td>186178.934089</td>\n      <td>0</td>\n      <td>0</td>\n      <td>0</td>\n    </tr>\n    <tr>\n      <th>16786</th>\n      <td>0</td>\n      <td>16119.687737</td>\n      <td>64</td>\n      <td>1</td>\n      <td>0</td>\n      <td>f</td>\n      <td>0</td>\n      <td>91527.685995</td>\n      <td>0</td>\n      <td>0</td>\n      <td>1</td>\n    </tr>\n    <tr>\n      <th>16829</th>\n      <td>0</td>\n      <td>15193.032201</td>\n      <td>57</td>\n      <td>1</td>\n      <td>0</td>\n      <td>f</td>\n      <td>0</td>\n      <td>194993.882911</td>\n      <td>3</td>\n      <td>0</td>\n      <td>1</td>\n    </tr>\n    <tr>\n      <th>17793</th>\n      <td>0</td>\n      <td>16264.699501</td>\n      <td>59</td>\n      <td>1</td>\n      <td>0</td>\n      <td>f</td>\n      <td>0</td>\n      <td>51238.967133</td>\n      <td>0</td>\n      <td>1</td>\n      <td>1</td>\n    </tr>\n    <tr>\n      <th>19729</th>\n      <td>0</td>\n      <td>15267.541183</td>\n      <td>56</td>\n      <td>1</td>\n      <td>0</td>\n      <td>m</td>\n      <td>0</td>\n      <td>122976.371341</td>\n      <td>0</td>\n      <td>1</td>\n      <td>1</td>\n    </tr>\n  </tbody>\n</table>\n</div>"
     },
     "execution_count": 57,
     "metadata": {},
     "output_type": "execute_result"
    }
   ],
   "source": [
    "data.loc[data['days_employed'] >= 15000]"
   ]
  },
  {
   "cell_type": "markdown",
   "metadata": {},
   "source": [
    "Let's assume that this can happen. A value of 20000 would be critical, but there is no such data, fortunately :)"
   ]
  },
  {
   "cell_type": "code",
   "execution_count": 58,
   "metadata": {
    "scrolled": true,
    "ExecuteTime": {
     "end_time": "2023-11-27T13:30:57.957034Z",
     "start_time": "2023-11-27T13:30:57.142727Z"
    }
   },
   "outputs": [
    {
     "data": {
      "text/plain": "Empty DataFrame\nColumns: [children, days_employed, dob_years, education_id, family_status_id, gender, debt, total_income, income_type_id, purpose_unique_id, family_type_by_children_parents_id]\nIndex: []",
      "text/html": "<div>\n<style scoped>\n    .dataframe tbody tr th:only-of-type {\n        vertical-align: middle;\n    }\n\n    .dataframe tbody tr th {\n        vertical-align: top;\n    }\n\n    .dataframe thead th {\n        text-align: right;\n    }\n</style>\n<table border=\"1\" class=\"dataframe\">\n  <thead>\n    <tr style=\"text-align: right;\">\n      <th></th>\n      <th>children</th>\n      <th>days_employed</th>\n      <th>dob_years</th>\n      <th>education_id</th>\n      <th>family_status_id</th>\n      <th>gender</th>\n      <th>debt</th>\n      <th>total_income</th>\n      <th>income_type_id</th>\n      <th>purpose_unique_id</th>\n      <th>family_type_by_children_parents_id</th>\n    </tr>\n  </thead>\n  <tbody>\n  </tbody>\n</table>\n</div>"
     },
     "execution_count": 58,
     "metadata": {},
     "output_type": "execute_result"
    }
   ],
   "source": [
    "data.loc[data['days_employed'] == 0]"
   ]
  },
  {
   "cell_type": "markdown",
   "metadata": {},
   "source": [
    "Now let's examine the dob_years column."
   ]
  },
  {
   "cell_type": "code",
   "execution_count": 59,
   "metadata": {
    "scrolled": true,
    "ExecuteTime": {
     "end_time": "2023-11-27T13:30:57.957926Z",
     "start_time": "2023-11-27T13:30:57.157088Z"
    }
   },
   "outputs": [
    {
     "data": {
      "text/plain": "Empty DataFrame\nColumns: [children, days_employed, dob_years, education_id, family_status_id, gender, debt, total_income, income_type_id, purpose_unique_id, family_type_by_children_parents_id]\nIndex: []",
      "text/html": "<div>\n<style scoped>\n    .dataframe tbody tr th:only-of-type {\n        vertical-align: middle;\n    }\n\n    .dataframe tbody tr th {\n        vertical-align: top;\n    }\n\n    .dataframe thead th {\n        text-align: right;\n    }\n</style>\n<table border=\"1\" class=\"dataframe\">\n  <thead>\n    <tr style=\"text-align: right;\">\n      <th></th>\n      <th>children</th>\n      <th>days_employed</th>\n      <th>dob_years</th>\n      <th>education_id</th>\n      <th>family_status_id</th>\n      <th>gender</th>\n      <th>debt</th>\n      <th>total_income</th>\n      <th>income_type_id</th>\n      <th>purpose_unique_id</th>\n      <th>family_type_by_children_parents_id</th>\n    </tr>\n  </thead>\n  <tbody>\n  </tbody>\n</table>\n</div>"
     },
     "execution_count": 59,
     "metadata": {},
     "output_type": "execute_result"
    }
   ],
   "source": [
    "data.loc[data['dob_years'] >= 100]"
   ]
  },
  {
   "cell_type": "code",
   "execution_count": 60,
   "metadata": {
    "scrolled": true,
    "ExecuteTime": {
     "end_time": "2023-11-27T13:30:57.958875Z",
     "start_time": "2023-11-27T13:30:57.178131Z"
    }
   },
   "outputs": [
    {
     "data": {
      "text/plain": "Empty DataFrame\nColumns: [children, days_employed, dob_years, education_id, family_status_id, gender, debt, total_income, income_type_id, purpose_unique_id, family_type_by_children_parents_id]\nIndex: []",
      "text/html": "<div>\n<style scoped>\n    .dataframe tbody tr th:only-of-type {\n        vertical-align: middle;\n    }\n\n    .dataframe tbody tr th {\n        vertical-align: top;\n    }\n\n    .dataframe thead th {\n        text-align: right;\n    }\n</style>\n<table border=\"1\" class=\"dataframe\">\n  <thead>\n    <tr style=\"text-align: right;\">\n      <th></th>\n      <th>children</th>\n      <th>days_employed</th>\n      <th>dob_years</th>\n      <th>education_id</th>\n      <th>family_status_id</th>\n      <th>gender</th>\n      <th>debt</th>\n      <th>total_income</th>\n      <th>income_type_id</th>\n      <th>purpose_unique_id</th>\n      <th>family_type_by_children_parents_id</th>\n    </tr>\n  </thead>\n  <tbody>\n  </tbody>\n</table>\n</div>"
     },
     "execution_count": 60,
     "metadata": {},
     "output_type": "execute_result"
    }
   ],
   "source": [
    "data.loc[data['dob_years'] < 0]"
   ]
  },
  {
   "cell_type": "code",
   "execution_count": 61,
   "metadata": {
    "scrolled": false,
    "ExecuteTime": {
     "end_time": "2023-11-27T13:30:57.959484Z",
     "start_time": "2023-11-27T13:30:57.216804Z"
    }
   },
   "outputs": [
    {
     "data": {
      "text/plain": "       children  days_employed  dob_years  education_id  family_status_id  \\\n99            0    3465.416189          0             1                 0   \n149           0    2664.273168          0             1                 3   \n270           3    1872.663186          0             1                 0   \n578           0    3978.565650          0             1                 0   \n1040          0    1158.029561          0             0                 3   \n...         ...            ...        ...           ...               ...   \n19770         0    1574.202821          0             1                 0   \n20397         0    3387.348685          0             1                 0   \n20512         0    3317.412715          0             1                 4   \n21110         2     108.967042          0             0                 0   \n21243         0    1268.487728          0             1                 4   \n\n      gender  debt   total_income  income_type_id  purpose_unique_id  \\\n99         f     0   71291.522491               1                  1   \n149        f     0   70176.435951               0                  0   \n270        f     0  102166.458894               0                  0   \n578        f     0   97620.687042               1                  0   \n1040       f     0  303994.134987               2                  1   \n...      ...   ...            ...             ...                ...   \n19770      f     0  142594.396847               0                  0   \n20397      f     0  259193.920299               1                  0   \n20512      f     0  129788.762899               1                  0   \n21110      m     0  240702.007382               2                  0   \n21243      m     0  152419.184851               0                  0   \n\n       family_type_by_children_parents_id  \n99                                      1  \n149                                     1  \n270                                     2  \n578                                     1  \n1040                                    1  \n...                                   ...  \n19770                                   1  \n20397                                   1  \n20512                                   1  \n21110                                   0  \n21243                                   1  \n\n[101 rows x 11 columns]",
      "text/html": "<div>\n<style scoped>\n    .dataframe tbody tr th:only-of-type {\n        vertical-align: middle;\n    }\n\n    .dataframe tbody tr th {\n        vertical-align: top;\n    }\n\n    .dataframe thead th {\n        text-align: right;\n    }\n</style>\n<table border=\"1\" class=\"dataframe\">\n  <thead>\n    <tr style=\"text-align: right;\">\n      <th></th>\n      <th>children</th>\n      <th>days_employed</th>\n      <th>dob_years</th>\n      <th>education_id</th>\n      <th>family_status_id</th>\n      <th>gender</th>\n      <th>debt</th>\n      <th>total_income</th>\n      <th>income_type_id</th>\n      <th>purpose_unique_id</th>\n      <th>family_type_by_children_parents_id</th>\n    </tr>\n  </thead>\n  <tbody>\n    <tr>\n      <th>99</th>\n      <td>0</td>\n      <td>3465.416189</td>\n      <td>0</td>\n      <td>1</td>\n      <td>0</td>\n      <td>f</td>\n      <td>0</td>\n      <td>71291.522491</td>\n      <td>1</td>\n      <td>1</td>\n      <td>1</td>\n    </tr>\n    <tr>\n      <th>149</th>\n      <td>0</td>\n      <td>2664.273168</td>\n      <td>0</td>\n      <td>1</td>\n      <td>3</td>\n      <td>f</td>\n      <td>0</td>\n      <td>70176.435951</td>\n      <td>0</td>\n      <td>0</td>\n      <td>1</td>\n    </tr>\n    <tr>\n      <th>270</th>\n      <td>3</td>\n      <td>1872.663186</td>\n      <td>0</td>\n      <td>1</td>\n      <td>0</td>\n      <td>f</td>\n      <td>0</td>\n      <td>102166.458894</td>\n      <td>0</td>\n      <td>0</td>\n      <td>2</td>\n    </tr>\n    <tr>\n      <th>578</th>\n      <td>0</td>\n      <td>3978.565650</td>\n      <td>0</td>\n      <td>1</td>\n      <td>0</td>\n      <td>f</td>\n      <td>0</td>\n      <td>97620.687042</td>\n      <td>1</td>\n      <td>0</td>\n      <td>1</td>\n    </tr>\n    <tr>\n      <th>1040</th>\n      <td>0</td>\n      <td>1158.029561</td>\n      <td>0</td>\n      <td>0</td>\n      <td>3</td>\n      <td>f</td>\n      <td>0</td>\n      <td>303994.134987</td>\n      <td>2</td>\n      <td>1</td>\n      <td>1</td>\n    </tr>\n    <tr>\n      <th>...</th>\n      <td>...</td>\n      <td>...</td>\n      <td>...</td>\n      <td>...</td>\n      <td>...</td>\n      <td>...</td>\n      <td>...</td>\n      <td>...</td>\n      <td>...</td>\n      <td>...</td>\n      <td>...</td>\n    </tr>\n    <tr>\n      <th>19770</th>\n      <td>0</td>\n      <td>1574.202821</td>\n      <td>0</td>\n      <td>1</td>\n      <td>0</td>\n      <td>f</td>\n      <td>0</td>\n      <td>142594.396847</td>\n      <td>0</td>\n      <td>0</td>\n      <td>1</td>\n    </tr>\n    <tr>\n      <th>20397</th>\n      <td>0</td>\n      <td>3387.348685</td>\n      <td>0</td>\n      <td>1</td>\n      <td>0</td>\n      <td>f</td>\n      <td>0</td>\n      <td>259193.920299</td>\n      <td>1</td>\n      <td>0</td>\n      <td>1</td>\n    </tr>\n    <tr>\n      <th>20512</th>\n      <td>0</td>\n      <td>3317.412715</td>\n      <td>0</td>\n      <td>1</td>\n      <td>4</td>\n      <td>f</td>\n      <td>0</td>\n      <td>129788.762899</td>\n      <td>1</td>\n      <td>0</td>\n      <td>1</td>\n    </tr>\n    <tr>\n      <th>21110</th>\n      <td>2</td>\n      <td>108.967042</td>\n      <td>0</td>\n      <td>0</td>\n      <td>0</td>\n      <td>m</td>\n      <td>0</td>\n      <td>240702.007382</td>\n      <td>2</td>\n      <td>0</td>\n      <td>0</td>\n    </tr>\n    <tr>\n      <th>21243</th>\n      <td>0</td>\n      <td>1268.487728</td>\n      <td>0</td>\n      <td>1</td>\n      <td>4</td>\n      <td>m</td>\n      <td>0</td>\n      <td>152419.184851</td>\n      <td>0</td>\n      <td>0</td>\n      <td>1</td>\n    </tr>\n  </tbody>\n</table>\n<p>101 rows × 11 columns</p>\n</div>"
     },
     "execution_count": 61,
     "metadata": {},
     "output_type": "execute_result"
    }
   ],
   "source": [
    "data.loc[data['dob_years'] == 0]"
   ]
  },
  {
   "cell_type": "markdown",
   "metadata": {},
   "source": [
    "We replace with the mean of age where age is 0."
   ]
  },
  {
   "cell_type": "code",
   "execution_count": 62,
   "metadata": {
    "scrolled": false,
    "ExecuteTime": {
     "end_time": "2023-11-27T13:30:57.960219Z",
     "start_time": "2023-11-27T13:30:57.234652Z"
    }
   },
   "outputs": [
    {
     "data": {
      "text/plain": "Empty DataFrame\nColumns: [children, days_employed, dob_years, education_id, family_status_id, gender, debt, total_income, income_type_id, purpose_unique_id, family_type_by_children_parents_id]\nIndex: []",
      "text/html": "<div>\n<style scoped>\n    .dataframe tbody tr th:only-of-type {\n        vertical-align: middle;\n    }\n\n    .dataframe tbody tr th {\n        vertical-align: top;\n    }\n\n    .dataframe thead th {\n        text-align: right;\n    }\n</style>\n<table border=\"1\" class=\"dataframe\">\n  <thead>\n    <tr style=\"text-align: right;\">\n      <th></th>\n      <th>children</th>\n      <th>days_employed</th>\n      <th>dob_years</th>\n      <th>education_id</th>\n      <th>family_status_id</th>\n      <th>gender</th>\n      <th>debt</th>\n      <th>total_income</th>\n      <th>income_type_id</th>\n      <th>purpose_unique_id</th>\n      <th>family_type_by_children_parents_id</th>\n    </tr>\n  </thead>\n  <tbody>\n  </tbody>\n</table>\n</div>"
     },
     "execution_count": 62,
     "metadata": {},
     "output_type": "execute_result"
    }
   ],
   "source": [
    "data.loc[data['dob_years'] == 0, 'dob_years'] = data['dob_years'].mean()\n",
    "data.loc[data['dob_years'] == 0]"
   ]
  },
  {
   "cell_type": "code",
   "execution_count": 63,
   "metadata": {
    "ExecuteTime": {
     "end_time": "2023-11-27T13:30:57.960834Z",
     "start_time": "2023-11-27T13:30:57.250803Z"
    }
   },
   "outputs": [
    {
     "data": {
      "text/plain": "Empty DataFrame\nColumns: [children, days_employed, dob_years, education_id, family_status_id, gender, debt, total_income, income_type_id, purpose_unique_id, family_type_by_children_parents_id]\nIndex: []",
      "text/html": "<div>\n<style scoped>\n    .dataframe tbody tr th:only-of-type {\n        vertical-align: middle;\n    }\n\n    .dataframe tbody tr th {\n        vertical-align: top;\n    }\n\n    .dataframe thead th {\n        text-align: right;\n    }\n</style>\n<table border=\"1\" class=\"dataframe\">\n  <thead>\n    <tr style=\"text-align: right;\">\n      <th></th>\n      <th>children</th>\n      <th>days_employed</th>\n      <th>dob_years</th>\n      <th>education_id</th>\n      <th>family_status_id</th>\n      <th>gender</th>\n      <th>debt</th>\n      <th>total_income</th>\n      <th>income_type_id</th>\n      <th>purpose_unique_id</th>\n      <th>family_type_by_children_parents_id</th>\n    </tr>\n  </thead>\n  <tbody>\n  </tbody>\n</table>\n</div>"
     },
     "execution_count": 63,
     "metadata": {},
     "output_type": "execute_result"
    }
   ],
   "source": [
    "data.loc[data['total_income'] < 0]"
   ]
  },
  {
   "cell_type": "markdown",
   "metadata": {},
   "source": [
    "## Analytics"
   ]
  },
  {
   "cell_type": "markdown",
   "metadata": {},
   "source": [
    "#### Is there a correlation between having children and paying back the loan on time?"
   ]
  },
  {
   "cell_type": "code",
   "execution_count": 64,
   "metadata": {
    "ExecuteTime": {
     "end_time": "2023-11-27T13:30:57.993573Z",
     "start_time": "2023-11-27T13:30:57.270162Z"
    }
   },
   "outputs": [
    {
     "data": {
      "text/plain": "debt\n0    19713\n1     1741\nName: debt, dtype: int64"
     },
     "execution_count": 64,
     "metadata": {},
     "output_type": "execute_result"
    }
   ],
   "source": [
    "data.groupby('debt')['debt'].count()"
   ]
  },
  {
   "cell_type": "code",
   "execution_count": 65,
   "metadata": {
    "scrolled": false,
    "ExecuteTime": {
     "end_time": "2023-11-27T13:30:58.502017Z",
     "start_time": "2023-11-27T13:30:57.302474Z"
    }
   },
   "outputs": [
    {
     "data": {
      "text/plain": "   children  days_employed  dob_years  education_id  family_status_id gender  \\\n0         1    8437.673028       42.0             0                 0      f   \n1         1    4024.803754       36.0             1                 0      f   \n2         0    5623.422610       33.0             1                 0      m   \n3         3    4124.747207       32.0             1                 0      m   \n4         0    3402.660720       53.0             1                 0      f   \n\n   debt   total_income  income_type_id  purpose_unique_id  \\\n0     0  253875.639453               0                  0   \n1     0  112080.014102               0                  1   \n2     0  145885.952297               0                  0   \n3     0  267628.550329               0                  2   \n4     0  158616.077870               1                  3   \n\n   family_type_by_children_parents_id is_children  \n0                                   0   Есть дети  \n1                                   0   Есть дети  \n2                                   1   Нет детей  \n3                                   2   Есть дети  \n4                                   1   Нет детей  ",
      "text/html": "<div>\n<style scoped>\n    .dataframe tbody tr th:only-of-type {\n        vertical-align: middle;\n    }\n\n    .dataframe tbody tr th {\n        vertical-align: top;\n    }\n\n    .dataframe thead th {\n        text-align: right;\n    }\n</style>\n<table border=\"1\" class=\"dataframe\">\n  <thead>\n    <tr style=\"text-align: right;\">\n      <th></th>\n      <th>children</th>\n      <th>days_employed</th>\n      <th>dob_years</th>\n      <th>education_id</th>\n      <th>family_status_id</th>\n      <th>gender</th>\n      <th>debt</th>\n      <th>total_income</th>\n      <th>income_type_id</th>\n      <th>purpose_unique_id</th>\n      <th>family_type_by_children_parents_id</th>\n      <th>is_children</th>\n    </tr>\n  </thead>\n  <tbody>\n    <tr>\n      <th>0</th>\n      <td>1</td>\n      <td>8437.673028</td>\n      <td>42.0</td>\n      <td>0</td>\n      <td>0</td>\n      <td>f</td>\n      <td>0</td>\n      <td>253875.639453</td>\n      <td>0</td>\n      <td>0</td>\n      <td>0</td>\n      <td>Есть дети</td>\n    </tr>\n    <tr>\n      <th>1</th>\n      <td>1</td>\n      <td>4024.803754</td>\n      <td>36.0</td>\n      <td>1</td>\n      <td>0</td>\n      <td>f</td>\n      <td>0</td>\n      <td>112080.014102</td>\n      <td>0</td>\n      <td>1</td>\n      <td>0</td>\n      <td>Есть дети</td>\n    </tr>\n    <tr>\n      <th>2</th>\n      <td>0</td>\n      <td>5623.422610</td>\n      <td>33.0</td>\n      <td>1</td>\n      <td>0</td>\n      <td>m</td>\n      <td>0</td>\n      <td>145885.952297</td>\n      <td>0</td>\n      <td>0</td>\n      <td>1</td>\n      <td>Нет детей</td>\n    </tr>\n    <tr>\n      <th>3</th>\n      <td>3</td>\n      <td>4124.747207</td>\n      <td>32.0</td>\n      <td>1</td>\n      <td>0</td>\n      <td>m</td>\n      <td>0</td>\n      <td>267628.550329</td>\n      <td>0</td>\n      <td>2</td>\n      <td>2</td>\n      <td>Есть дети</td>\n    </tr>\n    <tr>\n      <th>4</th>\n      <td>0</td>\n      <td>3402.660720</td>\n      <td>53.0</td>\n      <td>1</td>\n      <td>0</td>\n      <td>f</td>\n      <td>0</td>\n      <td>158616.077870</td>\n      <td>1</td>\n      <td>3</td>\n      <td>1</td>\n      <td>Нет детей</td>\n    </tr>\n  </tbody>\n</table>\n</div>"
     },
     "execution_count": 65,
     "metadata": {},
     "output_type": "execute_result"
    }
   ],
   "source": [
    "def is_children(row):\n",
    "    if row == 0:\n",
    "        return 'Нет детей'\n",
    "    return 'Есть дети'\n",
    "\n",
    "data['is_children'] = data['children'].apply(is_children)\n",
    "data.head(5)"
   ]
  },
  {
   "cell_type": "code",
   "execution_count": 66,
   "metadata": {
    "ExecuteTime": {
     "end_time": "2023-11-27T13:30:58.502487Z",
     "start_time": "2023-11-27T13:30:57.323015Z"
    }
   },
   "outputs": [
    {
     "data": {
      "text/plain": "   children  days_employed  dob_years  education_id  family_status_id gender  \\\n0         1    8437.673028       42.0             0                 0      f   \n1         1    4024.803754       36.0             1                 0      f   \n2         0    5623.422610       33.0             1                 0      m   \n3         3    4124.747207       32.0             1                 0      m   \n4         0    3402.660720       53.0             1                 0      f   \n\n   debt   total_income  income_type_id  purpose_unique_id  \\\n0     0  253875.639453               0                  0   \n1     0  112080.014102               0                  1   \n2     0  145885.952297               0                  0   \n3     0  267628.550329               0                  2   \n4     0  158616.077870               1                  3   \n\n   family_type_by_children_parents_id is_children            is_debt  \n0                                   0   Есть дети  Нет задолженности  \n1                                   0   Есть дети  Нет задолженности  \n2                                   1   Нет детей  Нет задолженности  \n3                                   2   Есть дети  Нет задолженности  \n4                                   1   Нет детей  Нет задолженности  ",
      "text/html": "<div>\n<style scoped>\n    .dataframe tbody tr th:only-of-type {\n        vertical-align: middle;\n    }\n\n    .dataframe tbody tr th {\n        vertical-align: top;\n    }\n\n    .dataframe thead th {\n        text-align: right;\n    }\n</style>\n<table border=\"1\" class=\"dataframe\">\n  <thead>\n    <tr style=\"text-align: right;\">\n      <th></th>\n      <th>children</th>\n      <th>days_employed</th>\n      <th>dob_years</th>\n      <th>education_id</th>\n      <th>family_status_id</th>\n      <th>gender</th>\n      <th>debt</th>\n      <th>total_income</th>\n      <th>income_type_id</th>\n      <th>purpose_unique_id</th>\n      <th>family_type_by_children_parents_id</th>\n      <th>is_children</th>\n      <th>is_debt</th>\n    </tr>\n  </thead>\n  <tbody>\n    <tr>\n      <th>0</th>\n      <td>1</td>\n      <td>8437.673028</td>\n      <td>42.0</td>\n      <td>0</td>\n      <td>0</td>\n      <td>f</td>\n      <td>0</td>\n      <td>253875.639453</td>\n      <td>0</td>\n      <td>0</td>\n      <td>0</td>\n      <td>Есть дети</td>\n      <td>Нет задолженности</td>\n    </tr>\n    <tr>\n      <th>1</th>\n      <td>1</td>\n      <td>4024.803754</td>\n      <td>36.0</td>\n      <td>1</td>\n      <td>0</td>\n      <td>f</td>\n      <td>0</td>\n      <td>112080.014102</td>\n      <td>0</td>\n      <td>1</td>\n      <td>0</td>\n      <td>Есть дети</td>\n      <td>Нет задолженности</td>\n    </tr>\n    <tr>\n      <th>2</th>\n      <td>0</td>\n      <td>5623.422610</td>\n      <td>33.0</td>\n      <td>1</td>\n      <td>0</td>\n      <td>m</td>\n      <td>0</td>\n      <td>145885.952297</td>\n      <td>0</td>\n      <td>0</td>\n      <td>1</td>\n      <td>Нет детей</td>\n      <td>Нет задолженности</td>\n    </tr>\n    <tr>\n      <th>3</th>\n      <td>3</td>\n      <td>4124.747207</td>\n      <td>32.0</td>\n      <td>1</td>\n      <td>0</td>\n      <td>m</td>\n      <td>0</td>\n      <td>267628.550329</td>\n      <td>0</td>\n      <td>2</td>\n      <td>2</td>\n      <td>Есть дети</td>\n      <td>Нет задолженности</td>\n    </tr>\n    <tr>\n      <th>4</th>\n      <td>0</td>\n      <td>3402.660720</td>\n      <td>53.0</td>\n      <td>1</td>\n      <td>0</td>\n      <td>f</td>\n      <td>0</td>\n      <td>158616.077870</td>\n      <td>1</td>\n      <td>3</td>\n      <td>1</td>\n      <td>Нет детей</td>\n      <td>Нет задолженности</td>\n    </tr>\n  </tbody>\n</table>\n</div>"
     },
     "execution_count": 66,
     "metadata": {},
     "output_type": "execute_result"
    }
   ],
   "source": [
    "def is_debt(row):\n",
    "    if row == 1:\n",
    "        return 'Есть задолженность'\n",
    "    return 'Нет задолженности'\n",
    "\n",
    "data['is_debt'] = data['debt'].apply(is_debt)\n",
    "data.head(5)"
   ]
  },
  {
   "cell_type": "code",
   "execution_count": 67,
   "metadata": {
    "ExecuteTime": {
     "end_time": "2023-11-27T13:30:58.545261Z",
     "start_time": "2023-11-27T13:30:57.358144Z"
    }
   },
   "outputs": [
    {
     "data": {
      "text/plain": "is_debt      Есть задолженность  Нет задолженности\nis_children                                       \nЕсть дети                   678               6685\nНет детей                  1063              13028",
      "text/html": "<div>\n<style scoped>\n    .dataframe tbody tr th:only-of-type {\n        vertical-align: middle;\n    }\n\n    .dataframe tbody tr th {\n        vertical-align: top;\n    }\n\n    .dataframe thead th {\n        text-align: right;\n    }\n</style>\n<table border=\"1\" class=\"dataframe\">\n  <thead>\n    <tr style=\"text-align: right;\">\n      <th>is_debt</th>\n      <th>Есть задолженность</th>\n      <th>Нет задолженности</th>\n    </tr>\n    <tr>\n      <th>is_children</th>\n      <th></th>\n      <th></th>\n    </tr>\n  </thead>\n  <tbody>\n    <tr>\n      <th>Есть дети</th>\n      <td>678</td>\n      <td>6685</td>\n    </tr>\n    <tr>\n      <th>Нет детей</th>\n      <td>1063</td>\n      <td>13028</td>\n    </tr>\n  </tbody>\n</table>\n</div>"
     },
     "execution_count": 67,
     "metadata": {},
     "output_type": "execute_result"
    }
   ],
   "source": [
    "data_pivot_children = data.pivot_table(index='is_children', columns='is_debt', values='debt', aggfunc='count')\n",
    "data_pivot_children"
   ]
  },
  {
   "cell_type": "markdown",
   "metadata": {},
   "source": [
    "Let's find the share in each of the categories (Have children, No children) of the share of loans with arrears in the sum of the total number of loans taken in this category."
   ]
  },
  {
   "cell_type": "code",
   "execution_count": 68,
   "metadata": {
    "ExecuteTime": {
     "end_time": "2023-11-27T13:30:58.602642Z",
     "start_time": "2023-11-27T13:30:57.443113Z"
    }
   },
   "outputs": [
    {
     "data": {
      "text/plain": "is_debt      Есть задолженность  Нет задолженности  ratio_expired\nis_children                                                      \nЕсть дети                   678               6685       0.092082\nНет детей                  1063              13028       0.075438",
      "text/html": "<div>\n<style scoped>\n    .dataframe tbody tr th:only-of-type {\n        vertical-align: middle;\n    }\n\n    .dataframe tbody tr th {\n        vertical-align: top;\n    }\n\n    .dataframe thead th {\n        text-align: right;\n    }\n</style>\n<table border=\"1\" class=\"dataframe\">\n  <thead>\n    <tr style=\"text-align: right;\">\n      <th>is_debt</th>\n      <th>Есть задолженность</th>\n      <th>Нет задолженности</th>\n      <th>ratio_expired</th>\n    </tr>\n    <tr>\n      <th>is_children</th>\n      <th></th>\n      <th></th>\n      <th></th>\n    </tr>\n  </thead>\n  <tbody>\n    <tr>\n      <th>Есть дети</th>\n      <td>678</td>\n      <td>6685</td>\n      <td>0.092082</td>\n    </tr>\n    <tr>\n      <th>Нет детей</th>\n      <td>1063</td>\n      <td>13028</td>\n      <td>0.075438</td>\n    </tr>\n  </tbody>\n</table>\n</div>"
     },
     "execution_count": 68,
     "metadata": {},
     "output_type": "execute_result"
    }
   ],
   "source": [
    "data_pivot_children['ratio_expired'] = data_pivot_children['Есть задолженность'] / (data_pivot_children['Нет задолженности'] + data_pivot_children['Есть задолженность'])\n",
    "data_pivot_children"
   ]
  },
  {
   "cell_type": "markdown",
   "metadata": {},
   "source": [
    "The summary table shows that people who have a child have a higher proportion of debt than those who do not, by 0.016791 (or 1.6791%)."
   ]
  },
  {
   "cell_type": "markdown",
   "metadata": {},
   "source": [
    "And let's look at the shares for family_type_by_children_parents_id categories."
   ]
  },
  {
   "cell_type": "code",
   "execution_count": 69,
   "metadata": {
    "ExecuteTime": {
     "end_time": "2023-11-27T13:30:58.705185Z",
     "start_time": "2023-11-27T13:30:57.459450Z"
    }
   },
   "outputs": [
    {
     "data": {
      "text/plain": "   family_type_by_children_parents_id family_type_by_children_parents\n0                                   0         полная малодетная семья\n1                                   1                        Не семья\n2                                   2        полная многодетная семья\n3                                   3       неполная малодетная семья\n4                                   4      неполная многодетная семья",
      "text/html": "<div>\n<style scoped>\n    .dataframe tbody tr th:only-of-type {\n        vertical-align: middle;\n    }\n\n    .dataframe tbody tr th {\n        vertical-align: top;\n    }\n\n    .dataframe thead th {\n        text-align: right;\n    }\n</style>\n<table border=\"1\" class=\"dataframe\">\n  <thead>\n    <tr style=\"text-align: right;\">\n      <th></th>\n      <th>family_type_by_children_parents_id</th>\n      <th>family_type_by_children_parents</th>\n    </tr>\n  </thead>\n  <tbody>\n    <tr>\n      <th>0</th>\n      <td>0</td>\n      <td>полная малодетная семья</td>\n    </tr>\n    <tr>\n      <th>1</th>\n      <td>1</td>\n      <td>Не семья</td>\n    </tr>\n    <tr>\n      <th>2</th>\n      <td>2</td>\n      <td>полная многодетная семья</td>\n    </tr>\n    <tr>\n      <th>3</th>\n      <td>3</td>\n      <td>неполная малодетная семья</td>\n    </tr>\n    <tr>\n      <th>4</th>\n      <td>4</td>\n      <td>неполная многодетная семья</td>\n    </tr>\n  </tbody>\n</table>\n</div>"
     },
     "execution_count": 69,
     "metadata": {},
     "output_type": "execute_result"
    }
   ],
   "source": [
    "dict_family_type_by_children_parents"
   ]
  },
  {
   "cell_type": "code",
   "execution_count": 70,
   "metadata": {
    "ExecuteTime": {
     "end_time": "2023-11-27T13:30:58.706669Z",
     "start_time": "2023-11-27T13:30:57.501471Z"
    }
   },
   "outputs": [
    {
     "data": {
      "text/plain": "is_debt                             Есть задолженность  Нет задолженности  \\\nfamily_type_by_children_parents_id                                          \n0                                                  608               5871   \n2                                                   30                331   \n3                                                   39                465   \n1                                                 1063              13028   \n4                                                    1                 18   \n\nis_debt                             ratio_expired  \nfamily_type_by_children_parents_id                 \n0                                        0.093842  \n2                                        0.083102  \n3                                        0.077381  \n1                                        0.075438  \n4                                        0.052632  ",
      "text/html": "<div>\n<style scoped>\n    .dataframe tbody tr th:only-of-type {\n        vertical-align: middle;\n    }\n\n    .dataframe tbody tr th {\n        vertical-align: top;\n    }\n\n    .dataframe thead th {\n        text-align: right;\n    }\n</style>\n<table border=\"1\" class=\"dataframe\">\n  <thead>\n    <tr style=\"text-align: right;\">\n      <th>is_debt</th>\n      <th>Есть задолженность</th>\n      <th>Нет задолженности</th>\n      <th>ratio_expired</th>\n    </tr>\n    <tr>\n      <th>family_type_by_children_parents_id</th>\n      <th></th>\n      <th></th>\n      <th></th>\n    </tr>\n  </thead>\n  <tbody>\n    <tr>\n      <th>0</th>\n      <td>608</td>\n      <td>5871</td>\n      <td>0.093842</td>\n    </tr>\n    <tr>\n      <th>2</th>\n      <td>30</td>\n      <td>331</td>\n      <td>0.083102</td>\n    </tr>\n    <tr>\n      <th>3</th>\n      <td>39</td>\n      <td>465</td>\n      <td>0.077381</td>\n    </tr>\n    <tr>\n      <th>1</th>\n      <td>1063</td>\n      <td>13028</td>\n      <td>0.075438</td>\n    </tr>\n    <tr>\n      <th>4</th>\n      <td>1</td>\n      <td>18</td>\n      <td>0.052632</td>\n    </tr>\n  </tbody>\n</table>\n</div>"
     },
     "execution_count": 70,
     "metadata": {},
     "output_type": "execute_result"
    }
   ],
   "source": [
    "data_pivot_children_2 = data.pivot_table(index='family_type_by_children_parents_id', columns='is_debt', values='debt', aggfunc='count')\n",
    "data_pivot_children_2['ratio_expired'] = data_pivot_children_2['Есть задолженность'] / (data_pivot_children_2['Есть задолженность'] + data_pivot_children_2['Нет задолженности'])\n",
    "data_pivot_children_2.sort_values(by='ratio_expired', ascending=False)"
   ]
  },
  {
   "cell_type": "markdown",
   "metadata": {},
   "source": [
    "This summary table shows that full families with few children have the highest share of arrears (9.3654%). The second place is occupied by complete large families (8.3102%). In the third place are incomplete small families (7.7381%). In fourth is non-family (7.5129%). And in fifth - incomplete large families (5.2632%)."
   ]
  },
  {
   "cell_type": "markdown",
   "metadata": {},
   "source": [
    "#### Conclusion"
   ]
  },
  {
   "cell_type": "markdown",
   "metadata": {},
   "source": [
    "We conclude that those who have children are more prone to have loan arrears. Complete few children and large families are more prone to have loan arrears. After incomplete small families and non-families have the same proportion of arrears. And incomplete large families are least likely to be in debt. Interesting, interesting :)"
   ]
  },
  {
   "cell_type": "markdown",
   "metadata": {},
   "source": [
    "#### Is there a correlation between marital status and loan repayment on time?"
   ]
  },
  {
   "cell_type": "code",
   "execution_count": 71,
   "metadata": {
    "scrolled": true,
    "ExecuteTime": {
     "end_time": "2023-11-27T13:30:58.707201Z",
     "start_time": "2023-11-27T13:30:57.547093Z"
    }
   },
   "outputs": [
    {
     "data": {
      "text/plain": "is_debt           Есть задолженность  Нет задолженности  ratio_expired\nfamily_status_id                                                      \n4                                274               2536       0.097509\n0                               1319              15171       0.079988\n3                                 85               1110       0.071130\n2                                 63                896       0.065693",
      "text/html": "<div>\n<style scoped>\n    .dataframe tbody tr th:only-of-type {\n        vertical-align: middle;\n    }\n\n    .dataframe tbody tr th {\n        vertical-align: top;\n    }\n\n    .dataframe thead th {\n        text-align: right;\n    }\n</style>\n<table border=\"1\" class=\"dataframe\">\n  <thead>\n    <tr style=\"text-align: right;\">\n      <th>is_debt</th>\n      <th>Есть задолженность</th>\n      <th>Нет задолженности</th>\n      <th>ratio_expired</th>\n    </tr>\n    <tr>\n      <th>family_status_id</th>\n      <th></th>\n      <th></th>\n      <th></th>\n    </tr>\n  </thead>\n  <tbody>\n    <tr>\n      <th>4</th>\n      <td>274</td>\n      <td>2536</td>\n      <td>0.097509</td>\n    </tr>\n    <tr>\n      <th>0</th>\n      <td>1319</td>\n      <td>15171</td>\n      <td>0.079988</td>\n    </tr>\n    <tr>\n      <th>3</th>\n      <td>85</td>\n      <td>1110</td>\n      <td>0.071130</td>\n    </tr>\n    <tr>\n      <th>2</th>\n      <td>63</td>\n      <td>896</td>\n      <td>0.065693</td>\n    </tr>\n  </tbody>\n</table>\n</div>"
     },
     "execution_count": 71,
     "metadata": {},
     "output_type": "execute_result"
    }
   ],
   "source": [
    "data_pivot_family_status = data.pivot_table(index='family_status_id', columns='is_debt', values='debt', aggfunc='count')\n",
    "data_pivot_family_status['ratio_expired'] = data_pivot_family_status['Есть задолженность'] / (data_pivot_family_status['Есть задолженность'] + data_pivot_family_status['Нет задолженности'])\n",
    "data_pivot_family_status.sort_values(by='ratio_expired', ascending=False)"
   ]
  },
  {
   "cell_type": "code",
   "execution_count": 72,
   "metadata": {
    "ExecuteTime": {
     "end_time": "2023-11-27T13:30:58.707965Z",
     "start_time": "2023-11-27T13:30:57.582827Z"
    }
   },
   "outputs": [
    {
     "data": {
      "text/plain": "           family_status  family_status_id\n0        женат / замужем                 0\n1         вдовец / вдова                 2\n2              в разводе                 3\n3  не женат / не замужем                 4",
      "text/html": "<div>\n<style scoped>\n    .dataframe tbody tr th:only-of-type {\n        vertical-align: middle;\n    }\n\n    .dataframe tbody tr th {\n        vertical-align: top;\n    }\n\n    .dataframe thead th {\n        text-align: right;\n    }\n</style>\n<table border=\"1\" class=\"dataframe\">\n  <thead>\n    <tr style=\"text-align: right;\">\n      <th></th>\n      <th>family_status</th>\n      <th>family_status_id</th>\n    </tr>\n  </thead>\n  <tbody>\n    <tr>\n      <th>0</th>\n      <td>женат / замужем</td>\n      <td>0</td>\n    </tr>\n    <tr>\n      <th>1</th>\n      <td>вдовец / вдова</td>\n      <td>2</td>\n    </tr>\n    <tr>\n      <th>2</th>\n      <td>в разводе</td>\n      <td>3</td>\n    </tr>\n    <tr>\n      <th>3</th>\n      <td>не женат / не замужем</td>\n      <td>4</td>\n    </tr>\n  </tbody>\n</table>\n</div>"
     },
     "execution_count": 72,
     "metadata": {},
     "output_type": "execute_result"
    }
   ],
   "source": [
    "dict_family_status"
   ]
  },
  {
   "cell_type": "markdown",
   "metadata": {},
   "source": [
    "#### Conclusion"
   ]
  },
  {
   "cell_type": "markdown",
   "metadata": {},
   "source": [
    "From the summary table we can conclude that unmarried/unmarried people (9.7405%) are more prone to indebtedness. People who are either married or in civil marriage have a share of debt of 7.9664%. Almost the same percentage is for people who are divorced (7.113%). People who are widows/widowers are least likely to be in debt - 6.5625%."
   ]
  },
  {
   "cell_type": "markdown",
   "metadata": {},
   "source": [
    "### Is there a correlation between income level and loan repayment on time?"
   ]
  },
  {
   "cell_type": "markdown",
   "metadata": {},
   "source": [
    "To find out, we need to procategorize people by income level."
   ]
  },
  {
   "cell_type": "code",
   "execution_count": 73,
   "metadata": {
    "scrolled": false,
    "ExecuteTime": {
     "end_time": "2023-11-27T13:30:58.819143Z",
     "start_time": "2023-11-27T13:30:57.618935Z"
    }
   },
   "outputs": [
    {
     "data": {
      "text/plain": "   children  days_employed  dob_years  education_id  family_status_id gender  \\\n0         1    8437.673028       42.0             0                 0      f   \n1         1    4024.803754       36.0             1                 0      f   \n2         0    5623.422610       33.0             1                 0      m   \n3         3    4124.747207       32.0             1                 0      m   \n4         0    3402.660720       53.0             1                 0      f   \n5         0     926.185831       27.0             0                 0      m   \n6         0    2879.202052       43.0             0                 0      f   \n7         0     152.779569       50.0             1                 0      m   \n8         2    6929.865299       35.0             0                 0      f   \n9         0    2188.756445       41.0             1                 0      m   \n\n   debt   total_income  income_type_id  purpose_unique_id  \\\n0     0  253875.639453               0                  0   \n1     0  112080.014102               0                  1   \n2     0  145885.952297               0                  0   \n3     0  267628.550329               0                  2   \n4     0  158616.077870               1                  3   \n5     0  255763.565419               2                  0   \n6     0  240525.971920               2                  0   \n7     0  135823.934197               0                  2   \n8     0   95856.832424               0                  3   \n9     0  144425.938277               0                  0   \n\n   family_type_by_children_parents_id is_children            is_debt  \\\n0                                   0   Есть дети  Нет задолженности   \n1                                   0   Есть дети  Нет задолженности   \n2                                   1   Нет детей  Нет задолженности   \n3                                   2   Есть дети  Нет задолженности   \n4                                   1   Нет детей  Нет задолженности   \n5                                   1   Нет детей  Нет задолженности   \n6                                   1   Нет детей  Нет задолженности   \n7                                   1   Нет детей  Нет задолженности   \n8                                   0   Есть дети  Нет задолженности   \n9                                   1   Нет детей  Нет задолженности   \n\n    level_income  \n0  средний доход  \n1  средний доход  \n2  средний доход  \n3  средний доход  \n4  средний доход  \n5  средний доход  \n6  средний доход  \n7  средний доход  \n8   низкий доход  \n9  средний доход  ",
      "text/html": "<div>\n<style scoped>\n    .dataframe tbody tr th:only-of-type {\n        vertical-align: middle;\n    }\n\n    .dataframe tbody tr th {\n        vertical-align: top;\n    }\n\n    .dataframe thead th {\n        text-align: right;\n    }\n</style>\n<table border=\"1\" class=\"dataframe\">\n  <thead>\n    <tr style=\"text-align: right;\">\n      <th></th>\n      <th>children</th>\n      <th>days_employed</th>\n      <th>dob_years</th>\n      <th>education_id</th>\n      <th>family_status_id</th>\n      <th>gender</th>\n      <th>debt</th>\n      <th>total_income</th>\n      <th>income_type_id</th>\n      <th>purpose_unique_id</th>\n      <th>family_type_by_children_parents_id</th>\n      <th>is_children</th>\n      <th>is_debt</th>\n      <th>level_income</th>\n    </tr>\n  </thead>\n  <tbody>\n    <tr>\n      <th>0</th>\n      <td>1</td>\n      <td>8437.673028</td>\n      <td>42.0</td>\n      <td>0</td>\n      <td>0</td>\n      <td>f</td>\n      <td>0</td>\n      <td>253875.639453</td>\n      <td>0</td>\n      <td>0</td>\n      <td>0</td>\n      <td>Есть дети</td>\n      <td>Нет задолженности</td>\n      <td>средний доход</td>\n    </tr>\n    <tr>\n      <th>1</th>\n      <td>1</td>\n      <td>4024.803754</td>\n      <td>36.0</td>\n      <td>1</td>\n      <td>0</td>\n      <td>f</td>\n      <td>0</td>\n      <td>112080.014102</td>\n      <td>0</td>\n      <td>1</td>\n      <td>0</td>\n      <td>Есть дети</td>\n      <td>Нет задолженности</td>\n      <td>средний доход</td>\n    </tr>\n    <tr>\n      <th>2</th>\n      <td>0</td>\n      <td>5623.422610</td>\n      <td>33.0</td>\n      <td>1</td>\n      <td>0</td>\n      <td>m</td>\n      <td>0</td>\n      <td>145885.952297</td>\n      <td>0</td>\n      <td>0</td>\n      <td>1</td>\n      <td>Нет детей</td>\n      <td>Нет задолженности</td>\n      <td>средний доход</td>\n    </tr>\n    <tr>\n      <th>3</th>\n      <td>3</td>\n      <td>4124.747207</td>\n      <td>32.0</td>\n      <td>1</td>\n      <td>0</td>\n      <td>m</td>\n      <td>0</td>\n      <td>267628.550329</td>\n      <td>0</td>\n      <td>2</td>\n      <td>2</td>\n      <td>Есть дети</td>\n      <td>Нет задолженности</td>\n      <td>средний доход</td>\n    </tr>\n    <tr>\n      <th>4</th>\n      <td>0</td>\n      <td>3402.660720</td>\n      <td>53.0</td>\n      <td>1</td>\n      <td>0</td>\n      <td>f</td>\n      <td>0</td>\n      <td>158616.077870</td>\n      <td>1</td>\n      <td>3</td>\n      <td>1</td>\n      <td>Нет детей</td>\n      <td>Нет задолженности</td>\n      <td>средний доход</td>\n    </tr>\n    <tr>\n      <th>5</th>\n      <td>0</td>\n      <td>926.185831</td>\n      <td>27.0</td>\n      <td>0</td>\n      <td>0</td>\n      <td>m</td>\n      <td>0</td>\n      <td>255763.565419</td>\n      <td>2</td>\n      <td>0</td>\n      <td>1</td>\n      <td>Нет детей</td>\n      <td>Нет задолженности</td>\n      <td>средний доход</td>\n    </tr>\n    <tr>\n      <th>6</th>\n      <td>0</td>\n      <td>2879.202052</td>\n      <td>43.0</td>\n      <td>0</td>\n      <td>0</td>\n      <td>f</td>\n      <td>0</td>\n      <td>240525.971920</td>\n      <td>2</td>\n      <td>0</td>\n      <td>1</td>\n      <td>Нет детей</td>\n      <td>Нет задолженности</td>\n      <td>средний доход</td>\n    </tr>\n    <tr>\n      <th>7</th>\n      <td>0</td>\n      <td>152.779569</td>\n      <td>50.0</td>\n      <td>1</td>\n      <td>0</td>\n      <td>m</td>\n      <td>0</td>\n      <td>135823.934197</td>\n      <td>0</td>\n      <td>2</td>\n      <td>1</td>\n      <td>Нет детей</td>\n      <td>Нет задолженности</td>\n      <td>средний доход</td>\n    </tr>\n    <tr>\n      <th>8</th>\n      <td>2</td>\n      <td>6929.865299</td>\n      <td>35.0</td>\n      <td>0</td>\n      <td>0</td>\n      <td>f</td>\n      <td>0</td>\n      <td>95856.832424</td>\n      <td>0</td>\n      <td>3</td>\n      <td>0</td>\n      <td>Есть дети</td>\n      <td>Нет задолженности</td>\n      <td>низкий доход</td>\n    </tr>\n    <tr>\n      <th>9</th>\n      <td>0</td>\n      <td>2188.756445</td>\n      <td>41.0</td>\n      <td>1</td>\n      <td>0</td>\n      <td>m</td>\n      <td>0</td>\n      <td>144425.938277</td>\n      <td>0</td>\n      <td>0</td>\n      <td>1</td>\n      <td>Нет детей</td>\n      <td>Нет задолженности</td>\n      <td>средний доход</td>\n    </tr>\n  </tbody>\n</table>\n</div>"
     },
     "execution_count": 73,
     "metadata": {},
     "output_type": "execute_result"
    }
   ],
   "source": [
    "def level_income(column_value):\n",
    "    if column_value <= 100000:\n",
    "        return 'низкий доход'\n",
    "    if 100000 < column_value <= 300000:\n",
    "        return 'средний доход'\n",
    "    return 'высокий доход'\n",
    "\n",
    "data['level_income'] = data['total_income'].apply(level_income)\n",
    "data.head(10)"
   ]
  },
  {
   "cell_type": "code",
   "execution_count": 74,
   "metadata": {
    "ExecuteTime": {
     "end_time": "2023-11-27T13:30:58.819840Z",
     "start_time": "2023-11-27T13:30:57.654734Z"
    }
   },
   "outputs": [
    {
     "data": {
      "text/plain": "средний доход    15508\nнизкий доход      4463\nвысокий доход     1483\nName: level_income, dtype: int64"
     },
     "execution_count": 74,
     "metadata": {},
     "output_type": "execute_result"
    }
   ],
   "source": [
    "data['level_income'].value_counts()"
   ]
  },
  {
   "cell_type": "code",
   "execution_count": 75,
   "metadata": {
    "ExecuteTime": {
     "end_time": "2023-11-27T13:30:58.921978Z",
     "start_time": "2023-11-27T13:30:57.678412Z"
    }
   },
   "outputs": [
    {
     "data": {
      "text/plain": "is_debt        Есть задолженность  Нет задолженности  ratio_expired\nlevel_income                                                       \nсредний доход                1281              14227       0.082603\nнизкий доход                  354               4109       0.079319\nвысокий доход                 106               1377       0.071477",
      "text/html": "<div>\n<style scoped>\n    .dataframe tbody tr th:only-of-type {\n        vertical-align: middle;\n    }\n\n    .dataframe tbody tr th {\n        vertical-align: top;\n    }\n\n    .dataframe thead th {\n        text-align: right;\n    }\n</style>\n<table border=\"1\" class=\"dataframe\">\n  <thead>\n    <tr style=\"text-align: right;\">\n      <th>is_debt</th>\n      <th>Есть задолженность</th>\n      <th>Нет задолженности</th>\n      <th>ratio_expired</th>\n    </tr>\n    <tr>\n      <th>level_income</th>\n      <th></th>\n      <th></th>\n      <th></th>\n    </tr>\n  </thead>\n  <tbody>\n    <tr>\n      <th>средний доход</th>\n      <td>1281</td>\n      <td>14227</td>\n      <td>0.082603</td>\n    </tr>\n    <tr>\n      <th>низкий доход</th>\n      <td>354</td>\n      <td>4109</td>\n      <td>0.079319</td>\n    </tr>\n    <tr>\n      <th>высокий доход</th>\n      <td>106</td>\n      <td>1377</td>\n      <td>0.071477</td>\n    </tr>\n  </tbody>\n</table>\n</div>"
     },
     "execution_count": 75,
     "metadata": {},
     "output_type": "execute_result"
    }
   ],
   "source": [
    "data_pivot_level_income = data.pivot_table(index='level_income', columns='is_debt', values='debt', aggfunc='count')\n",
    "data_pivot_level_income['ratio_expired'] = data_pivot_level_income['Есть задолженность'] / (data_pivot_level_income['Есть задолженность'] + data_pivot_level_income['Нет задолженности'])\n",
    "data_pivot_level_income.sort_values(by='ratio_expired', ascending=False)"
   ]
  },
  {
   "cell_type": "markdown",
   "metadata": {},
   "source": [
    "#### Conclusion"
   ]
  },
  {
   "cell_type": "markdown",
   "metadata": {},
   "source": [
    "We see that people with high income have the lowest share of debt - 7.1477%. The middle class is most prone to debt at 8.2226%. The percentage of low-income people who are in credit debt is 7.9319%."
   ]
  },
  {
   "cell_type": "markdown",
   "metadata": {},
   "source": [
    "### How do different purposes of a loan affect its repayment on time?"
   ]
  },
  {
   "cell_type": "code",
   "execution_count": 76,
   "metadata": {
    "ExecuteTime": {
     "end_time": "2023-11-27T13:30:58.923239Z",
     "start_time": "2023-11-27T13:30:57.724483Z"
    }
   },
   "outputs": [
    {
     "data": {
      "text/plain": "is_debt            Есть задолженность  Нет задолженности  ratio_expired\npurpose_unique_id                                                      \n1                                 403               3903       0.093590\n2                                 370               3643       0.092200\n3                                 186               2138       0.080034\n0                                 782              10029       0.072334",
      "text/html": "<div>\n<style scoped>\n    .dataframe tbody tr th:only-of-type {\n        vertical-align: middle;\n    }\n\n    .dataframe tbody tr th {\n        vertical-align: top;\n    }\n\n    .dataframe thead th {\n        text-align: right;\n    }\n</style>\n<table border=\"1\" class=\"dataframe\">\n  <thead>\n    <tr style=\"text-align: right;\">\n      <th>is_debt</th>\n      <th>Есть задолженность</th>\n      <th>Нет задолженности</th>\n      <th>ratio_expired</th>\n    </tr>\n    <tr>\n      <th>purpose_unique_id</th>\n      <th></th>\n      <th></th>\n      <th></th>\n    </tr>\n  </thead>\n  <tbody>\n    <tr>\n      <th>1</th>\n      <td>403</td>\n      <td>3903</td>\n      <td>0.093590</td>\n    </tr>\n    <tr>\n      <th>2</th>\n      <td>370</td>\n      <td>3643</td>\n      <td>0.092200</td>\n    </tr>\n    <tr>\n      <th>3</th>\n      <td>186</td>\n      <td>2138</td>\n      <td>0.080034</td>\n    </tr>\n    <tr>\n      <th>0</th>\n      <td>782</td>\n      <td>10029</td>\n      <td>0.072334</td>\n    </tr>\n  </tbody>\n</table>\n</div>"
     },
     "execution_count": 76,
     "metadata": {},
     "output_type": "execute_result"
    }
   ],
   "source": [
    "data_pivot_level_income = data.pivot_table(index='purpose_unique_id', columns='is_debt', values='debt', aggfunc='count')\n",
    "data_pivot_level_income['ratio_expired'] = data_pivot_level_income['Есть задолженность'] / (data_pivot_level_income['Есть задолженность'] + data_pivot_level_income['Нет задолженности'])\n",
    "data_pivot_level_income.sort_values(by='ratio_expired', ascending=False)"
   ]
  },
  {
   "cell_type": "code",
   "execution_count": 77,
   "metadata": {
    "ExecuteTime": {
     "end_time": "2023-11-27T13:30:58.981831Z",
     "start_time": "2023-11-27T13:30:57.770073Z"
    }
   },
   "outputs": [
    {
     "data": {
      "text/plain": "   purpose_unique_id purpose_unique\n0                  0   недвижимость\n1                  1     автомобиль\n2                  2    образование\n3                  3        свадьба",
      "text/html": "<div>\n<style scoped>\n    .dataframe tbody tr th:only-of-type {\n        vertical-align: middle;\n    }\n\n    .dataframe tbody tr th {\n        vertical-align: top;\n    }\n\n    .dataframe thead th {\n        text-align: right;\n    }\n</style>\n<table border=\"1\" class=\"dataframe\">\n  <thead>\n    <tr style=\"text-align: right;\">\n      <th></th>\n      <th>purpose_unique_id</th>\n      <th>purpose_unique</th>\n    </tr>\n  </thead>\n  <tbody>\n    <tr>\n      <th>0</th>\n      <td>0</td>\n      <td>недвижимость</td>\n    </tr>\n    <tr>\n      <th>1</th>\n      <td>1</td>\n      <td>автомобиль</td>\n    </tr>\n    <tr>\n      <th>2</th>\n      <td>2</td>\n      <td>образование</td>\n    </tr>\n    <tr>\n      <th>3</th>\n      <td>3</td>\n      <td>свадьба</td>\n    </tr>\n  </tbody>\n</table>\n</div>"
     },
     "execution_count": 77,
     "metadata": {},
     "output_type": "execute_result"
    }
   ],
   "source": [
    "dict_purpose_unique"
   ]
  },
  {
   "cell_type": "markdown",
   "metadata": {},
   "source": [
    "#### Conclusion"
   ]
  },
  {
   "cell_type": "markdown",
   "metadata": {},
   "source": [
    "People whose purpose is an automobile have a higher percentage of debt - 9.3395%. People with the purpose of education have almost the same percentage at 9.1994%. People with the purpose of wedding and real estate have a lower propensity for debt, with 7.9216% in one case and 7.214% in the other."
   ]
  },
  {
   "cell_type": "markdown",
   "metadata": {},
   "source": [
    "## General output"
   ]
  },
  {
   "cell_type": "markdown",
   "metadata": {},
   "source": [
    "Putting the data in order, their analysis showed that the people most prone to credit debt are those with middle income, with children, single/unmarried, whose goal is a car or education."
   ]
  },
  {
   "cell_type": "markdown",
   "metadata": {},
   "source": [
    "Questions and hypotheses to test:\n",
    "- Having children increases the likelihood of getting into credit debt - 9.2%;\n",
    "- complete families are most prone to credit debt - 8-9%;\n",
    "- unmarried/ single people are most likely to incur credit debt - 9.7%;\n",
    "- the middle class is most prone, like the low-income class, to credit debt - 8%;\n",
    "- people whose goal is to pay for education and buy a car are most prone to credit debt - 9%.\n",
    "\n",
    "The bank should keep the findings in mind when deciding whether to extend credit to people in these categories. As an option, reduce the number of loans to people in these categories."
   ]
  }
 ],
 "metadata": {
  "kernelspec": {
   "display_name": "Python 3",
   "language": "python",
   "name": "python3"
  },
  "language_info": {
   "codemirror_mode": {
    "name": "ipython",
    "version": 3
   },
   "file_extension": ".py",
   "mimetype": "text/x-python",
   "name": "python",
   "nbconvert_exporter": "python",
   "pygments_lexer": "ipython3",
   "version": "3.7.6"
  }
 },
 "nbformat": 4,
 "nbformat_minor": 2
}
